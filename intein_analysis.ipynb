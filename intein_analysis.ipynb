{
 "cells": [
  {
   "cell_type": "markdown",
   "id": "9ec9e46b-aecb-40f1-9305-8fcd3f5506ac",
   "metadata": {},
   "source": [
    "# Analysis of the the single intein\n",
    "This notebook is for conducting analysis on the **Thiol sensitive intein** (Abbreviated TSI)."
   ]
  },
  {
   "cell_type": "markdown",
   "id": "9220ad5a-80b9-41dc-a603-a7278d71ee9f",
   "metadata": {
    "tags": []
   },
   "source": [
    "## Installing and importing the necessary libraries"
   ]
  },
  {
   "cell_type": "code",
   "execution_count": 38,
   "id": "6bb8e622-f68f-4522-be94-42d092f7616c",
   "metadata": {},
   "outputs": [],
   "source": [
    "# installing the libraries \n",
    "# uncomment the lines below to make sure that the required libraries are installed\n",
    "# install.packages(\"tidyverse\")\n",
    "# install.packages(\"ggthemes\")\n",
    "# install.packages(\"ggplot2\")\n",
    "# install.packages(\"dplyr\")\n",
    "\n",
    "# importing the libraries\n",
    "library(tidyverse)\n",
    "library(ggthemes)\n",
    "library(ggplot2)\n",
    "library(dplyr)\n",
    "library(glue)"
   ]
  },
  {
   "cell_type": "markdown",
   "id": "5bd57d16-063b-4679-b18b-b2c321b4d6f2",
   "metadata": {
    "tags": []
   },
   "source": [
    "## Reading the csv file that has the results of the simulation"
   ]
  },
  {
   "cell_type": "code",
   "execution_count": 3,
   "id": "a3209d8c-2f8a-4d74-a94a-0928e41f1b21",
   "metadata": {},
   "outputs": [
    {
     "name": "stderr",
     "output_type": "stream",
     "text": [
      "\u001b[1mRows: \u001b[22m\u001b[34m3440\u001b[39m \u001b[1mColumns: \u001b[22m\u001b[34m15\u001b[39m\n",
      "\u001b[36m──\u001b[39m \u001b[1mColumn specification\u001b[22m \u001b[36m──────────────────────────────────────────────────────────────────────────────────────────────────────────────────────────────────────────────────────────────────────\u001b[39m\n",
      "\u001b[1mDelimiter:\u001b[22m \",\"\n",
      "\u001b[31mchr\u001b[39m (7): type, previous_aa, new_aa_1l, new_aa_3l, conversion, new_seq, secon...\n",
      "\u001b[32mdbl\u001b[39m (8): residue_number, fa_score, ddg_score, hbond_score, sasa_score, diff_...\n",
      "\n",
      "\u001b[36mℹ\u001b[39m Use `spec()` to retrieve the full column specification for this data.\n",
      "\u001b[36mℹ\u001b[39m Specify the column types or set `show_col_types = FALSE` to quiet this message.\n"
     ]
    },
    {
     "data": {
      "text/html": [
       "<table class=\"dataframe\">\n",
       "<caption>A tibble: 6 × 15</caption>\n",
       "<thead>\n",
       "\t<tr><th scope=col>type</th><th scope=col>residue_number</th><th scope=col>previous_aa</th><th scope=col>new_aa_1l</th><th scope=col>new_aa_3l</th><th scope=col>conversion</th><th scope=col>new_seq</th><th scope=col>fa_score</th><th scope=col>ddg_score</th><th scope=col>hbond_score</th><th scope=col>sasa_score</th><th scope=col>secondary_structure</th><th scope=col>diff_hbonds</th><th scope=col>diff_sasa</th><th scope=col>diff_secondary_structure</th></tr>\n",
       "\t<tr><th scope=col>&lt;chr&gt;</th><th scope=col>&lt;dbl&gt;</th><th scope=col>&lt;chr&gt;</th><th scope=col>&lt;chr&gt;</th><th scope=col>&lt;chr&gt;</th><th scope=col>&lt;chr&gt;</th><th scope=col>&lt;chr&gt;</th><th scope=col>&lt;dbl&gt;</th><th scope=col>&lt;dbl&gt;</th><th scope=col>&lt;dbl&gt;</th><th scope=col>&lt;dbl&gt;</th><th scope=col>&lt;chr&gt;</th><th scope=col>&lt;dbl&gt;</th><th scope=col>&lt;dbl&gt;</th><th scope=col>&lt;dbl&gt;</th></tr>\n",
       "</thead>\n",
       "<tbody>\n",
       "\t<tr><td>wild_type</td><td>NA</td><td>NA</td><td>NA</td><td>NA </td><td>NA   </td><td>ASITGDALVALPEGESVRIADIVPGARPNSDNAIDLKVLDRHGNPVLADRLFHSGEHPVYAVRTVEGLRVTGTANHPLLCLVDVAGVPTLLWKLIDEIKPGDYAVIQRSAFSTVGVPGLVRFLEAHHRDPDAKAIADELTDGRFYYAKVASVTDAGVQPVYSLRVDTADHAFITNGFVSHN</td><td>362.1068</td><td>  0.00000</td><td>104</td><td>8580.714</td><td>LLEELLLEEELLLLLEEEHHHLLLLLLLLEEEEEEEEEELLLLLEEEEEEEEEEEEEEEEEEEELLLLEEEEELLLEEEEEEEELLEEEEEEEEHHHLLLLLEEEEEHHHLLLLLLLLHHHHHHHLLLLLLHHHHHHHHHLLLEEEEEEEEEEEEEEEEEEEEEELLLLLEEEELLEEEEL</td><td>0</td><td> 0.0000000</td><td>0</td></tr>\n",
       "\t<tr><td>mutant   </td><td> 1</td><td>A </td><td>C </td><td>CYS</td><td>1AtoC</td><td>CSITGDALVALPEGESVRIADIVPGARPNSDNAIDLKVLDRHGNPVLADRLFHSGEHPVYAVRTVEGLRVTGTANHPLLCLVDVAGVPTLLWKLIDEIKPGDYAVIQRSAFSTVGVPGLVRFLEAHHRDPDAKAIADELTDGRFYYAKVASVTDAGVQPVYSLRVDTADHAFITNGFVSHN</td><td>413.7276</td><td> 51.62086</td><td>104</td><td>8599.590</td><td>LLEELLLEEELLLLLEEEHHHLLLLLLLLEEEEEEEEEELLLLLEEEEEEEEEEEEEEEEEEEELLLLEEEEELLLEEEEEEEELLEEEEEEEEHHHLLLLLEEEEEHHHLLLLLLLLHHHHHHHLLLLLLHHHHHHHHHLLLEEEEEEEEEEEEEEEEEEEEEELLLLLEEEELLEEEEL</td><td>0</td><td>18.8757359</td><td>0</td></tr>\n",
       "\t<tr><td>mutant   </td><td> 1</td><td>A </td><td>D </td><td>ASP</td><td>1AtoD</td><td>DSITGDALVALPEGESVRIADIVPGARPNSDNAIDLKVLDRHGNPVLADRLFHSGEHPVYAVRTVEGLRVTGTANHPLLCLVDVAGVPTLLWKLIDEIKPGDYAVIQRSAFSTVGVPGLVRFLEAHHRDPDAKAIADELTDGRFYYAKVASVTDAGVQPVYSLRVDTADHAFITNGFVSHN</td><td>446.3807</td><td> 84.27391</td><td>104</td><td>8596.750</td><td>LLEELLLEEELLLLLEEEHHHLLLLLLLLEEEEEEEEEELLLLLEEEEEEEEEEEEEEEEEEEELLLLEEEEELLLEEEEEEEELLEEEEEEEEHHHLLLLLEEEEEHHHLLLLLLLLHHHHHHHLLLLLLHHHHHHHHHLLLEEEEEEEEEEEEEEEEEEEEEELLLLLEEEELLEEEEL</td><td>0</td><td>16.0355577</td><td>0</td></tr>\n",
       "\t<tr><td>mutant   </td><td> 1</td><td>A </td><td>E </td><td>GLU</td><td>1AtoE</td><td>ESITGDALVALPEGESVRIADIVPGARPNSDNAIDLKVLDRHGNPVLADRLFHSGEHPVYAVRTVEGLRVTGTANHPLLCLVDVAGVPTLLWKLIDEIKPGDYAVIQRSAFSTVGVPGLVRFLEAHHRDPDAKAIADELTDGRFYYAKVASVTDAGVQPVYSLRVDTADHAFITNGFVSHN</td><td>653.4236</td><td>291.31682</td><td>104</td><td>8585.626</td><td>LLEELLLEEELLLLLEEEHHHLLLLLLLLEEEEEEEEEELLLLLEEEEEEEEEEEEEEEEEEEELLLLEEEEELLLEEEEEEEELLEEEEEEEEHHHLLLLLEEEEEHHHLLLLLLLLHHHHHHHLLLLLLHHHHHHHHHLLLEEEEEEEEEEEEEEEEEEEEEELLLLLEEEELLEEEEL</td><td>0</td><td> 4.9110617</td><td>0</td></tr>\n",
       "\t<tr><td>mutant   </td><td> 1</td><td>A </td><td>F </td><td>PHE</td><td>1AtoF</td><td>FSITGDALVALPEGESVRIADIVPGARPNSDNAIDLKVLDRHGNPVLADRLFHSGEHPVYAVRTVEGLRVTGTANHPLLCLVDVAGVPTLLWKLIDEIKPGDYAVIQRSAFSTVGVPGLVRFLEAHHRDPDAKAIADELTDGRFYYAKVASVTDAGVQPVYSLRVDTADHAFITNGFVSHN</td><td>603.7107</td><td>241.60395</td><td>104</td><td>8609.113</td><td>LLEELLLEEELLLLLEEEHHHLLLLLLLLEEEEEEEEEELLLLLEEEEEEEEEEEEEEEEEEEELLLLEEEEELLLEEEEEEEELLEEEEEEEEHHHLLLLLEEEEEHHHLLLLLLLLHHHHHHHLLLLLLHHHHHHHHHLLLEEEEEEEEEEEEEEEEEEEEEELLLLLEEEELLEEEEL</td><td>0</td><td>28.3985160</td><td>0</td></tr>\n",
       "\t<tr><td>mutant   </td><td> 1</td><td>A </td><td>G </td><td>GLY</td><td>1AtoG</td><td>GSITGDALVALPEGESVRIADIVPGARPNSDNAIDLKVLDRHGNPVLADRLFHSGEHPVYAVRTVEGLRVTGTANHPLLCLVDVAGVPTLLWKLIDEIKPGDYAVIQRSAFSTVGVPGLVRFLEAHHRDPDAKAIADELTDGRFYYAKVASVTDAGVQPVYSLRVDTADHAFITNGFVSHN</td><td>381.2703</td><td> 19.16354</td><td>104</td><td>8580.383</td><td>LLEELLLEEELLLLLEEEHHHLLLLLLLLEEEEEEEEEELLLLLEEEEEEEEEEEEEEEEEEEELLLLEEEEELLLEEEEEEEELLEEEEEEEEHHHLLLLLEEEEEHHHLLLLLLLLHHHHHHHLLLLLLHHHHHHHHHLLLEEEEEEEEEEEEEEEEEEEEEELLLLLEEEELLEEEEL</td><td>0</td><td>-0.3310385</td><td>0</td></tr>\n",
       "</tbody>\n",
       "</table>\n"
      ],
      "text/latex": [
       "A tibble: 6 × 15\n",
       "\\begin{tabular}{lllllllllllllll}\n",
       " type & residue\\_number & previous\\_aa & new\\_aa\\_1l & new\\_aa\\_3l & conversion & new\\_seq & fa\\_score & ddg\\_score & hbond\\_score & sasa\\_score & secondary\\_structure & diff\\_hbonds & diff\\_sasa & diff\\_secondary\\_structure\\\\\n",
       " <chr> & <dbl> & <chr> & <chr> & <chr> & <chr> & <chr> & <dbl> & <dbl> & <dbl> & <dbl> & <chr> & <dbl> & <dbl> & <dbl>\\\\\n",
       "\\hline\n",
       "\t wild\\_type & NA & NA & NA & NA  & NA    & ASITGDALVALPEGESVRIADIVPGARPNSDNAIDLKVLDRHGNPVLADRLFHSGEHPVYAVRTVEGLRVTGTANHPLLCLVDVAGVPTLLWKLIDEIKPGDYAVIQRSAFSTVGVPGLVRFLEAHHRDPDAKAIADELTDGRFYYAKVASVTDAGVQPVYSLRVDTADHAFITNGFVSHN & 362.1068 &   0.00000 & 104 & 8580.714 & LLEELLLEEELLLLLEEEHHHLLLLLLLLEEEEEEEEEELLLLLEEEEEEEEEEEEEEEEEEEELLLLEEEEELLLEEEEEEEELLEEEEEEEEHHHLLLLLEEEEEHHHLLLLLLLLHHHHHHHLLLLLLHHHHHHHHHLLLEEEEEEEEEEEEEEEEEEEEEELLLLLEEEELLEEEEL & 0 &  0.0000000 & 0\\\\\n",
       "\t mutant    &  1 & A  & C  & CYS & 1AtoC & CSITGDALVALPEGESVRIADIVPGARPNSDNAIDLKVLDRHGNPVLADRLFHSGEHPVYAVRTVEGLRVTGTANHPLLCLVDVAGVPTLLWKLIDEIKPGDYAVIQRSAFSTVGVPGLVRFLEAHHRDPDAKAIADELTDGRFYYAKVASVTDAGVQPVYSLRVDTADHAFITNGFVSHN & 413.7276 &  51.62086 & 104 & 8599.590 & LLEELLLEEELLLLLEEEHHHLLLLLLLLEEEEEEEEEELLLLLEEEEEEEEEEEEEEEEEEEELLLLEEEEELLLEEEEEEEELLEEEEEEEEHHHLLLLLEEEEEHHHLLLLLLLLHHHHHHHLLLLLLHHHHHHHHHLLLEEEEEEEEEEEEEEEEEEEEEELLLLLEEEELLEEEEL & 0 & 18.8757359 & 0\\\\\n",
       "\t mutant    &  1 & A  & D  & ASP & 1AtoD & DSITGDALVALPEGESVRIADIVPGARPNSDNAIDLKVLDRHGNPVLADRLFHSGEHPVYAVRTVEGLRVTGTANHPLLCLVDVAGVPTLLWKLIDEIKPGDYAVIQRSAFSTVGVPGLVRFLEAHHRDPDAKAIADELTDGRFYYAKVASVTDAGVQPVYSLRVDTADHAFITNGFVSHN & 446.3807 &  84.27391 & 104 & 8596.750 & LLEELLLEEELLLLLEEEHHHLLLLLLLLEEEEEEEEEELLLLLEEEEEEEEEEEEEEEEEEEELLLLEEEEELLLEEEEEEEELLEEEEEEEEHHHLLLLLEEEEEHHHLLLLLLLLHHHHHHHLLLLLLHHHHHHHHHLLLEEEEEEEEEEEEEEEEEEEEEELLLLLEEEELLEEEEL & 0 & 16.0355577 & 0\\\\\n",
       "\t mutant    &  1 & A  & E  & GLU & 1AtoE & ESITGDALVALPEGESVRIADIVPGARPNSDNAIDLKVLDRHGNPVLADRLFHSGEHPVYAVRTVEGLRVTGTANHPLLCLVDVAGVPTLLWKLIDEIKPGDYAVIQRSAFSTVGVPGLVRFLEAHHRDPDAKAIADELTDGRFYYAKVASVTDAGVQPVYSLRVDTADHAFITNGFVSHN & 653.4236 & 291.31682 & 104 & 8585.626 & LLEELLLEEELLLLLEEEHHHLLLLLLLLEEEEEEEEEELLLLLEEEEEEEEEEEEEEEEEEEELLLLEEEEELLLEEEEEEEELLEEEEEEEEHHHLLLLLEEEEEHHHLLLLLLLLHHHHHHHLLLLLLHHHHHHHHHLLLEEEEEEEEEEEEEEEEEEEEEELLLLLEEEELLEEEEL & 0 &  4.9110617 & 0\\\\\n",
       "\t mutant    &  1 & A  & F  & PHE & 1AtoF & FSITGDALVALPEGESVRIADIVPGARPNSDNAIDLKVLDRHGNPVLADRLFHSGEHPVYAVRTVEGLRVTGTANHPLLCLVDVAGVPTLLWKLIDEIKPGDYAVIQRSAFSTVGVPGLVRFLEAHHRDPDAKAIADELTDGRFYYAKVASVTDAGVQPVYSLRVDTADHAFITNGFVSHN & 603.7107 & 241.60395 & 104 & 8609.113 & LLEELLLEEELLLLLEEEHHHLLLLLLLLEEEEEEEEEELLLLLEEEEEEEEEEEEEEEEEEEELLLLEEEEELLLEEEEEEEELLEEEEEEEEHHHLLLLLEEEEEHHHLLLLLLLLHHHHHHHLLLLLLHHHHHHHHHLLLEEEEEEEEEEEEEEEEEEEEEELLLLLEEEELLEEEEL & 0 & 28.3985160 & 0\\\\\n",
       "\t mutant    &  1 & A  & G  & GLY & 1AtoG & GSITGDALVALPEGESVRIADIVPGARPNSDNAIDLKVLDRHGNPVLADRLFHSGEHPVYAVRTVEGLRVTGTANHPLLCLVDVAGVPTLLWKLIDEIKPGDYAVIQRSAFSTVGVPGLVRFLEAHHRDPDAKAIADELTDGRFYYAKVASVTDAGVQPVYSLRVDTADHAFITNGFVSHN & 381.2703 &  19.16354 & 104 & 8580.383 & LLEELLLEEELLLLLEEEHHHLLLLLLLLEEEEEEEEEELLLLLEEEEEEEEEEEEEEEEEEEELLLLEEEEELLLEEEEEEEELLEEEEEEEEHHHLLLLLEEEEEHHHLLLLLLLLHHHHHHHLLLLLLHHHHHHHHHLLLEEEEEEEEEEEEEEEEEEEEEELLLLLEEEELLEEEEL & 0 & -0.3310385 & 0\\\\\n",
       "\\end{tabular}\n"
      ],
      "text/markdown": [
       "\n",
       "A tibble: 6 × 15\n",
       "\n",
       "| type &lt;chr&gt; | residue_number &lt;dbl&gt; | previous_aa &lt;chr&gt; | new_aa_1l &lt;chr&gt; | new_aa_3l &lt;chr&gt; | conversion &lt;chr&gt; | new_seq &lt;chr&gt; | fa_score &lt;dbl&gt; | ddg_score &lt;dbl&gt; | hbond_score &lt;dbl&gt; | sasa_score &lt;dbl&gt; | secondary_structure &lt;chr&gt; | diff_hbonds &lt;dbl&gt; | diff_sasa &lt;dbl&gt; | diff_secondary_structure &lt;dbl&gt; |\n",
       "|---|---|---|---|---|---|---|---|---|---|---|---|---|---|---|\n",
       "| wild_type | NA | NA | NA | NA  | NA    | ASITGDALVALPEGESVRIADIVPGARPNSDNAIDLKVLDRHGNPVLADRLFHSGEHPVYAVRTVEGLRVTGTANHPLLCLVDVAGVPTLLWKLIDEIKPGDYAVIQRSAFSTVGVPGLVRFLEAHHRDPDAKAIADELTDGRFYYAKVASVTDAGVQPVYSLRVDTADHAFITNGFVSHN | 362.1068 |   0.00000 | 104 | 8580.714 | LLEELLLEEELLLLLEEEHHHLLLLLLLLEEEEEEEEEELLLLLEEEEEEEEEEEEEEEEEEEELLLLEEEEELLLEEEEEEEELLEEEEEEEEHHHLLLLLEEEEEHHHLLLLLLLLHHHHHHHLLLLLLHHHHHHHHHLLLEEEEEEEEEEEEEEEEEEEEEELLLLLEEEELLEEEEL | 0 |  0.0000000 | 0 |\n",
       "| mutant    |  1 | A  | C  | CYS | 1AtoC | CSITGDALVALPEGESVRIADIVPGARPNSDNAIDLKVLDRHGNPVLADRLFHSGEHPVYAVRTVEGLRVTGTANHPLLCLVDVAGVPTLLWKLIDEIKPGDYAVIQRSAFSTVGVPGLVRFLEAHHRDPDAKAIADELTDGRFYYAKVASVTDAGVQPVYSLRVDTADHAFITNGFVSHN | 413.7276 |  51.62086 | 104 | 8599.590 | LLEELLLEEELLLLLEEEHHHLLLLLLLLEEEEEEEEEELLLLLEEEEEEEEEEEEEEEEEEEELLLLEEEEELLLEEEEEEEELLEEEEEEEEHHHLLLLLEEEEEHHHLLLLLLLLHHHHHHHLLLLLLHHHHHHHHHLLLEEEEEEEEEEEEEEEEEEEEEELLLLLEEEELLEEEEL | 0 | 18.8757359 | 0 |\n",
       "| mutant    |  1 | A  | D  | ASP | 1AtoD | DSITGDALVALPEGESVRIADIVPGARPNSDNAIDLKVLDRHGNPVLADRLFHSGEHPVYAVRTVEGLRVTGTANHPLLCLVDVAGVPTLLWKLIDEIKPGDYAVIQRSAFSTVGVPGLVRFLEAHHRDPDAKAIADELTDGRFYYAKVASVTDAGVQPVYSLRVDTADHAFITNGFVSHN | 446.3807 |  84.27391 | 104 | 8596.750 | LLEELLLEEELLLLLEEEHHHLLLLLLLLEEEEEEEEEELLLLLEEEEEEEEEEEEEEEEEEEELLLLEEEEELLLEEEEEEEELLEEEEEEEEHHHLLLLLEEEEEHHHLLLLLLLLHHHHHHHLLLLLLHHHHHHHHHLLLEEEEEEEEEEEEEEEEEEEEEELLLLLEEEELLEEEEL | 0 | 16.0355577 | 0 |\n",
       "| mutant    |  1 | A  | E  | GLU | 1AtoE | ESITGDALVALPEGESVRIADIVPGARPNSDNAIDLKVLDRHGNPVLADRLFHSGEHPVYAVRTVEGLRVTGTANHPLLCLVDVAGVPTLLWKLIDEIKPGDYAVIQRSAFSTVGVPGLVRFLEAHHRDPDAKAIADELTDGRFYYAKVASVTDAGVQPVYSLRVDTADHAFITNGFVSHN | 653.4236 | 291.31682 | 104 | 8585.626 | LLEELLLEEELLLLLEEEHHHLLLLLLLLEEEEEEEEEELLLLLEEEEEEEEEEEEEEEEEEEELLLLEEEEELLLEEEEEEEELLEEEEEEEEHHHLLLLLEEEEEHHHLLLLLLLLHHHHHHHLLLLLLHHHHHHHHHLLLEEEEEEEEEEEEEEEEEEEEEELLLLLEEEELLEEEEL | 0 |  4.9110617 | 0 |\n",
       "| mutant    |  1 | A  | F  | PHE | 1AtoF | FSITGDALVALPEGESVRIADIVPGARPNSDNAIDLKVLDRHGNPVLADRLFHSGEHPVYAVRTVEGLRVTGTANHPLLCLVDVAGVPTLLWKLIDEIKPGDYAVIQRSAFSTVGVPGLVRFLEAHHRDPDAKAIADELTDGRFYYAKVASVTDAGVQPVYSLRVDTADHAFITNGFVSHN | 603.7107 | 241.60395 | 104 | 8609.113 | LLEELLLEEELLLLLEEEHHHLLLLLLLLEEEEEEEEEELLLLLEEEEEEEEEEEEEEEEEEEELLLLEEEEELLLEEEEEEEELLEEEEEEEEHHHLLLLLEEEEEHHHLLLLLLLLHHHHHHHLLLLLLHHHHHHHHHLLLEEEEEEEEEEEEEEEEEEEEEELLLLLEEEELLEEEEL | 0 | 28.3985160 | 0 |\n",
       "| mutant    |  1 | A  | G  | GLY | 1AtoG | GSITGDALVALPEGESVRIADIVPGARPNSDNAIDLKVLDRHGNPVLADRLFHSGEHPVYAVRTVEGLRVTGTANHPLLCLVDVAGVPTLLWKLIDEIKPGDYAVIQRSAFSTVGVPGLVRFLEAHHRDPDAKAIADELTDGRFYYAKVASVTDAGVQPVYSLRVDTADHAFITNGFVSHN | 381.2703 |  19.16354 | 104 | 8580.383 | LLEELLLEEELLLLLEEEHHHLLLLLLLLEEEEEEEEEELLLLLEEEEEEEEEEEEEEEEEEEELLLLEEEEELLLEEEEEEEELLEEEEEEEEHHHLLLLLEEEEEHHHLLLLLLLLHHHHHHHLLLLLLHHHHHHHHHLLLEEEEEEEEEEEEEEEEEEEEEELLLLLEEEELLEEEEL | 0 | -0.3310385 | 0 |\n",
       "\n"
      ],
      "text/plain": [
       "  type      residue_number previous_aa new_aa_1l new_aa_3l conversion\n",
       "1 wild_type NA             NA          NA        NA        NA        \n",
       "2 mutant     1             A           C         CYS       1AtoC     \n",
       "3 mutant     1             A           D         ASP       1AtoD     \n",
       "4 mutant     1             A           E         GLU       1AtoE     \n",
       "5 mutant     1             A           F         PHE       1AtoF     \n",
       "6 mutant     1             A           G         GLY       1AtoG     \n",
       "  new_seq                                                                                                                                                                              \n",
       "1 ASITGDALVALPEGESVRIADIVPGARPNSDNAIDLKVLDRHGNPVLADRLFHSGEHPVYAVRTVEGLRVTGTANHPLLCLVDVAGVPTLLWKLIDEIKPGDYAVIQRSAFSTVGVPGLVRFLEAHHRDPDAKAIADELTDGRFYYAKVASVTDAGVQPVYSLRVDTADHAFITNGFVSHN\n",
       "2 CSITGDALVALPEGESVRIADIVPGARPNSDNAIDLKVLDRHGNPVLADRLFHSGEHPVYAVRTVEGLRVTGTANHPLLCLVDVAGVPTLLWKLIDEIKPGDYAVIQRSAFSTVGVPGLVRFLEAHHRDPDAKAIADELTDGRFYYAKVASVTDAGVQPVYSLRVDTADHAFITNGFVSHN\n",
       "3 DSITGDALVALPEGESVRIADIVPGARPNSDNAIDLKVLDRHGNPVLADRLFHSGEHPVYAVRTVEGLRVTGTANHPLLCLVDVAGVPTLLWKLIDEIKPGDYAVIQRSAFSTVGVPGLVRFLEAHHRDPDAKAIADELTDGRFYYAKVASVTDAGVQPVYSLRVDTADHAFITNGFVSHN\n",
       "4 ESITGDALVALPEGESVRIADIVPGARPNSDNAIDLKVLDRHGNPVLADRLFHSGEHPVYAVRTVEGLRVTGTANHPLLCLVDVAGVPTLLWKLIDEIKPGDYAVIQRSAFSTVGVPGLVRFLEAHHRDPDAKAIADELTDGRFYYAKVASVTDAGVQPVYSLRVDTADHAFITNGFVSHN\n",
       "5 FSITGDALVALPEGESVRIADIVPGARPNSDNAIDLKVLDRHGNPVLADRLFHSGEHPVYAVRTVEGLRVTGTANHPLLCLVDVAGVPTLLWKLIDEIKPGDYAVIQRSAFSTVGVPGLVRFLEAHHRDPDAKAIADELTDGRFYYAKVASVTDAGVQPVYSLRVDTADHAFITNGFVSHN\n",
       "6 GSITGDALVALPEGESVRIADIVPGARPNSDNAIDLKVLDRHGNPVLADRLFHSGEHPVYAVRTVEGLRVTGTANHPLLCLVDVAGVPTLLWKLIDEIKPGDYAVIQRSAFSTVGVPGLVRFLEAHHRDPDAKAIADELTDGRFYYAKVASVTDAGVQPVYSLRVDTADHAFITNGFVSHN\n",
       "  fa_score ddg_score hbond_score sasa_score\n",
       "1 362.1068   0.00000 104         8580.714  \n",
       "2 413.7276  51.62086 104         8599.590  \n",
       "3 446.3807  84.27391 104         8596.750  \n",
       "4 653.4236 291.31682 104         8585.626  \n",
       "5 603.7107 241.60395 104         8609.113  \n",
       "6 381.2703  19.16354 104         8580.383  \n",
       "  secondary_structure                                                                                                                                                                  \n",
       "1 LLEELLLEEELLLLLEEEHHHLLLLLLLLEEEEEEEEEELLLLLEEEEEEEEEEEEEEEEEEEELLLLEEEEELLLEEEEEEEELLEEEEEEEEHHHLLLLLEEEEEHHHLLLLLLLLHHHHHHHLLLLLLHHHHHHHHHLLLEEEEEEEEEEEEEEEEEEEEEELLLLLEEEELLEEEEL\n",
       "2 LLEELLLEEELLLLLEEEHHHLLLLLLLLEEEEEEEEEELLLLLEEEEEEEEEEEEEEEEEEEELLLLEEEEELLLEEEEEEEELLEEEEEEEEHHHLLLLLEEEEEHHHLLLLLLLLHHHHHHHLLLLLLHHHHHHHHHLLLEEEEEEEEEEEEEEEEEEEEEELLLLLEEEELLEEEEL\n",
       "3 LLEELLLEEELLLLLEEEHHHLLLLLLLLEEEEEEEEEELLLLLEEEEEEEEEEEEEEEEEEEELLLLEEEEELLLEEEEEEEELLEEEEEEEEHHHLLLLLEEEEEHHHLLLLLLLLHHHHHHHLLLLLLHHHHHHHHHLLLEEEEEEEEEEEEEEEEEEEEEELLLLLEEEELLEEEEL\n",
       "4 LLEELLLEEELLLLLEEEHHHLLLLLLLLEEEEEEEEEELLLLLEEEEEEEEEEEEEEEEEEEELLLLEEEEELLLEEEEEEEELLEEEEEEEEHHHLLLLLEEEEEHHHLLLLLLLLHHHHHHHLLLLLLHHHHHHHHHLLLEEEEEEEEEEEEEEEEEEEEEELLLLLEEEELLEEEEL\n",
       "5 LLEELLLEEELLLLLEEEHHHLLLLLLLLEEEEEEEEEELLLLLEEEEEEEEEEEEEEEEEEEELLLLEEEEELLLEEEEEEEELLEEEEEEEEHHHLLLLLEEEEEHHHLLLLLLLLHHHHHHHLLLLLLHHHHHHHHHLLLEEEEEEEEEEEEEEEEEEEEEELLLLLEEEELLEEEEL\n",
       "6 LLEELLLEEELLLLLEEEHHHLLLLLLLLEEEEEEEEEELLLLLEEEEEEEEEEEEEEEEEEEELLLLEEEEELLLEEEEEEEELLEEEEEEEEHHHLLLLLEEEEEHHHLLLLLLLLHHHHHHHLLLLLLHHHHHHHHHLLLEEEEEEEEEEEEEEEEEEEEEELLLLLEEEELLEEEEL\n",
       "  diff_hbonds diff_sasa  diff_secondary_structure\n",
       "1 0            0.0000000 0                       \n",
       "2 0           18.8757359 0                       \n",
       "3 0           16.0355577 0                       \n",
       "4 0            4.9110617 0                       \n",
       "5 0           28.3985160 0                       \n",
       "6 0           -0.3310385 0                       "
      ]
     },
     "metadata": {},
     "output_type": "display_data"
    }
   ],
   "source": [
    "intein <- read_csv(\"intein.csv\")\n",
    "head(intein)"
   ]
  },
  {
   "cell_type": "markdown",
   "id": "f80c7401-4bc6-4b2f-a366-8aa55056f2d9",
   "metadata": {},
   "source": [
    "#### Increasing readability \n",
    "Removing the new_seq and secondary sequence of the file to incrase readability."
   ]
  },
  {
   "cell_type": "code",
   "execution_count": 9,
   "id": "230ccf55-498b-446d-8ef5-8a3b544bd63c",
   "metadata": {},
   "outputs": [
    {
     "data": {
      "text/html": [
       "<table class=\"dataframe\">\n",
       "<caption>A tibble: 6 × 13</caption>\n",
       "<thead>\n",
       "\t<tr><th scope=col>type</th><th scope=col>residue_number</th><th scope=col>previous_aa</th><th scope=col>new_aa_1l</th><th scope=col>new_aa_3l</th><th scope=col>conversion</th><th scope=col>fa_score</th><th scope=col>ddg_score</th><th scope=col>hbond_score</th><th scope=col>sasa_score</th><th scope=col>diff_hbonds</th><th scope=col>diff_sasa</th><th scope=col>diff_secondary_structure</th></tr>\n",
       "\t<tr><th scope=col>&lt;chr&gt;</th><th scope=col>&lt;dbl&gt;</th><th scope=col>&lt;chr&gt;</th><th scope=col>&lt;chr&gt;</th><th scope=col>&lt;chr&gt;</th><th scope=col>&lt;chr&gt;</th><th scope=col>&lt;dbl&gt;</th><th scope=col>&lt;dbl&gt;</th><th scope=col>&lt;dbl&gt;</th><th scope=col>&lt;dbl&gt;</th><th scope=col>&lt;dbl&gt;</th><th scope=col>&lt;dbl&gt;</th><th scope=col>&lt;dbl&gt;</th></tr>\n",
       "</thead>\n",
       "<tbody>\n",
       "\t<tr><td>wild_type</td><td>NA</td><td>NA</td><td>NA</td><td>NA </td><td>NA   </td><td>362.1068</td><td>  0.00000</td><td>104</td><td>8580.714</td><td>0</td><td> 0.0000000</td><td>0</td></tr>\n",
       "\t<tr><td>mutant   </td><td> 1</td><td>A </td><td>C </td><td>CYS</td><td>1AtoC</td><td>413.7276</td><td> 51.62086</td><td>104</td><td>8599.590</td><td>0</td><td>18.8757359</td><td>0</td></tr>\n",
       "\t<tr><td>mutant   </td><td> 1</td><td>A </td><td>D </td><td>ASP</td><td>1AtoD</td><td>446.3807</td><td> 84.27391</td><td>104</td><td>8596.750</td><td>0</td><td>16.0355577</td><td>0</td></tr>\n",
       "\t<tr><td>mutant   </td><td> 1</td><td>A </td><td>E </td><td>GLU</td><td>1AtoE</td><td>653.4236</td><td>291.31682</td><td>104</td><td>8585.626</td><td>0</td><td> 4.9110617</td><td>0</td></tr>\n",
       "\t<tr><td>mutant   </td><td> 1</td><td>A </td><td>F </td><td>PHE</td><td>1AtoF</td><td>603.7107</td><td>241.60395</td><td>104</td><td>8609.113</td><td>0</td><td>28.3985160</td><td>0</td></tr>\n",
       "\t<tr><td>mutant   </td><td> 1</td><td>A </td><td>G </td><td>GLY</td><td>1AtoG</td><td>381.2703</td><td> 19.16354</td><td>104</td><td>8580.383</td><td>0</td><td>-0.3310385</td><td>0</td></tr>\n",
       "</tbody>\n",
       "</table>\n"
      ],
      "text/latex": [
       "A tibble: 6 × 13\n",
       "\\begin{tabular}{lllllllllllll}\n",
       " type & residue\\_number & previous\\_aa & new\\_aa\\_1l & new\\_aa\\_3l & conversion & fa\\_score & ddg\\_score & hbond\\_score & sasa\\_score & diff\\_hbonds & diff\\_sasa & diff\\_secondary\\_structure\\\\\n",
       " <chr> & <dbl> & <chr> & <chr> & <chr> & <chr> & <dbl> & <dbl> & <dbl> & <dbl> & <dbl> & <dbl> & <dbl>\\\\\n",
       "\\hline\n",
       "\t wild\\_type & NA & NA & NA & NA  & NA    & 362.1068 &   0.00000 & 104 & 8580.714 & 0 &  0.0000000 & 0\\\\\n",
       "\t mutant    &  1 & A  & C  & CYS & 1AtoC & 413.7276 &  51.62086 & 104 & 8599.590 & 0 & 18.8757359 & 0\\\\\n",
       "\t mutant    &  1 & A  & D  & ASP & 1AtoD & 446.3807 &  84.27391 & 104 & 8596.750 & 0 & 16.0355577 & 0\\\\\n",
       "\t mutant    &  1 & A  & E  & GLU & 1AtoE & 653.4236 & 291.31682 & 104 & 8585.626 & 0 &  4.9110617 & 0\\\\\n",
       "\t mutant    &  1 & A  & F  & PHE & 1AtoF & 603.7107 & 241.60395 & 104 & 8609.113 & 0 & 28.3985160 & 0\\\\\n",
       "\t mutant    &  1 & A  & G  & GLY & 1AtoG & 381.2703 &  19.16354 & 104 & 8580.383 & 0 & -0.3310385 & 0\\\\\n",
       "\\end{tabular}\n"
      ],
      "text/markdown": [
       "\n",
       "A tibble: 6 × 13\n",
       "\n",
       "| type &lt;chr&gt; | residue_number &lt;dbl&gt; | previous_aa &lt;chr&gt; | new_aa_1l &lt;chr&gt; | new_aa_3l &lt;chr&gt; | conversion &lt;chr&gt; | fa_score &lt;dbl&gt; | ddg_score &lt;dbl&gt; | hbond_score &lt;dbl&gt; | sasa_score &lt;dbl&gt; | diff_hbonds &lt;dbl&gt; | diff_sasa &lt;dbl&gt; | diff_secondary_structure &lt;dbl&gt; |\n",
       "|---|---|---|---|---|---|---|---|---|---|---|---|---|\n",
       "| wild_type | NA | NA | NA | NA  | NA    | 362.1068 |   0.00000 | 104 | 8580.714 | 0 |  0.0000000 | 0 |\n",
       "| mutant    |  1 | A  | C  | CYS | 1AtoC | 413.7276 |  51.62086 | 104 | 8599.590 | 0 | 18.8757359 | 0 |\n",
       "| mutant    |  1 | A  | D  | ASP | 1AtoD | 446.3807 |  84.27391 | 104 | 8596.750 | 0 | 16.0355577 | 0 |\n",
       "| mutant    |  1 | A  | E  | GLU | 1AtoE | 653.4236 | 291.31682 | 104 | 8585.626 | 0 |  4.9110617 | 0 |\n",
       "| mutant    |  1 | A  | F  | PHE | 1AtoF | 603.7107 | 241.60395 | 104 | 8609.113 | 0 | 28.3985160 | 0 |\n",
       "| mutant    |  1 | A  | G  | GLY | 1AtoG | 381.2703 |  19.16354 | 104 | 8580.383 | 0 | -0.3310385 | 0 |\n",
       "\n"
      ],
      "text/plain": [
       "  type      residue_number previous_aa new_aa_1l new_aa_3l conversion fa_score\n",
       "1 wild_type NA             NA          NA        NA        NA         362.1068\n",
       "2 mutant     1             A           C         CYS       1AtoC      413.7276\n",
       "3 mutant     1             A           D         ASP       1AtoD      446.3807\n",
       "4 mutant     1             A           E         GLU       1AtoE      653.4236\n",
       "5 mutant     1             A           F         PHE       1AtoF      603.7107\n",
       "6 mutant     1             A           G         GLY       1AtoG      381.2703\n",
       "  ddg_score hbond_score sasa_score diff_hbonds diff_sasa \n",
       "1   0.00000 104         8580.714   0            0.0000000\n",
       "2  51.62086 104         8599.590   0           18.8757359\n",
       "3  84.27391 104         8596.750   0           16.0355577\n",
       "4 291.31682 104         8585.626   0            4.9110617\n",
       "5 241.60395 104         8609.113   0           28.3985160\n",
       "6  19.16354 104         8580.383   0           -0.3310385\n",
       "  diff_secondary_structure\n",
       "1 0                       \n",
       "2 0                       \n",
       "3 0                       \n",
       "4 0                       \n",
       "5 0                       \n",
       "6 0                       "
      ]
     },
     "metadata": {},
     "output_type": "display_data"
    }
   ],
   "source": [
    "intein_short <- intein |> select(-c(new_seq, secondary_structure))\n",
    "head(intein_short)"
   ]
  },
  {
   "cell_type": "markdown",
   "id": "a3e901eb-7b27-43fa-9269-e0880fd81de4",
   "metadata": {
    "tags": []
   },
   "source": [
    "## General Analysis\n",
    "A general analysis of all of the mutations. In section of analysis no grouping has been done and single mutation are analyzed individually. "
   ]
  },
  {
   "cell_type": "markdown",
   "id": "8e60b71a-4c77-4114-9dcc-592fdb25f3ef",
   "metadata": {},
   "source": [
    "### Delta Delta G Analysis \n",
    "Creating a histogram of DDG. Wildtype value is 0 as all of the ddg score all calculated relative to wild-type\n",
    "> Unlike the `docked_analysis` notebook where there were some mutations that resulted in a lower ΔΔG, such mutation is not observed here. There are **two interesting patterns** here. Firstly, it seems that the **majority of the mutations are not changing ΔΔG** and **the ones that are changing it are only increaseing the ΔΔG**"
   ]
  },
  {
   "cell_type": "code",
   "execution_count": 138,
   "id": "2116b553-b955-4129-a5f2-e24c8f955142",
   "metadata": {},
   "outputs": [
    {
     "data": {
      "image/png": "[encoded data removed]",
      "text/plain": [
       "plot without title"
      ]
     },
     "metadata": {
      "image/png": {
       "height": 420,
       "width": 420
      }
     },
     "output_type": "display_data"
    }
   ],
   "source": [
    "wildtype_ddg <- (intein_short |> filter(type == \"wild_type\"))$ddg_score\n",
    "intein_short |> ggplot(aes(ddg_score)) + \n",
    "    geom_histogram(fill = \"#1DB954\", bins = 30) + \n",
    "    theme(plot.title = element_text(hjust = 0, size = 16, face = \"bold\", color = \"white\"),\n",
    "        axis.title = element_text(size = 14, face = \"bold\", color = \"white\"),\n",
    "        axis.text = element_text(size = 12),\n",
    "        plot.background = element_rect(fill = \"#191919\"),\n",
    "        panel.background = element_blank(),\n",
    "        panel.grid.major.y = element_blank(),\n",
    "        panel.grid.minor.y = element_blank(),\n",
    "        panel.grid.major.x = element_line(color = \"gray90\", size = 0.5),\n",
    "        panel.grid.minor.x = element_blank()) +\n",
    "  ggtitle(\"Histogram of delta delta g in single intein\") +\n",
    "  labs(x = \"Delta delta G energy score\", y = \"count\") +\n",
    "  geom_vline(xintercept = wildtype_ddg, color = \"red\", size = 1.5, linetype = \"dashed\") +\n",
    "  theme(plot.margin = unit(c(1, 1, 1, 0.5), \"cm\"))"
   ]
  },
  {
   "cell_type": "markdown",
   "id": "945d22c3-7417-4433-90f9-58e6ee7cb45c",
   "metadata": {},
   "source": [
    "#### Taking a look at the higher end\n",
    "Let's see if we can find a pattern on ΔΔG scores higher than `2000`. The data can be found in the cell below.\n",
    "\n",
    "**With regard to previous amino acid:**\n",
    "> It seems that the **previous amino acid A is considerably common here**. **34 out of 85 amino acids** (of mutations with ΔΔG scores higher than `2000`) were the ones that the mutated amino acid was A. In other words, **amino acid A was the one that was being replaced**. \n",
    "\n",
    "**With regard to new amino acid:**\n",
    "> When **amino acids P or W are added** as a result of the point mutation, the **ΔΔG score was spiked.** These two amino acids are responsible for **61 out 85 mutations** in the filtered data frame. \n",
    "\n",
    "*Combining both of the data above:*\n",
    "> In 40 of the mutation in 85 (85 mutations with ΔΔG > 2000) an amino acids was converted to P. However, **in none of those mutations A was converted to P** which in first glance may seem ordinary because both **A and P are in the same amino acid group** (Amino acids with a nonpolar R group). **W is also in this group but conversion of A -> W is observed among the 85**.\n",
    "\n",
    "So what happens when A -> P?"
   ]
  },
  {
   "cell_type": "code",
   "execution_count": 70,
   "id": "c509985d-d755-4a88-b1d1-ce49d505cc22",
   "metadata": {},
   "outputs": [
    {
     "data": {
      "text/html": [
       "<table class=\"dataframe\">\n",
       "<caption>A tibble: 10 × 13</caption>\n",
       "<thead>\n",
       "\t<tr><th scope=col>type</th><th scope=col>residue_number</th><th scope=col>previous_aa</th><th scope=col>new_aa_1l</th><th scope=col>new_aa_3l</th><th scope=col>conversion</th><th scope=col>fa_score</th><th scope=col>ddg_score</th><th scope=col>hbond_score</th><th scope=col>sasa_score</th><th scope=col>diff_hbonds</th><th scope=col>diff_sasa</th><th scope=col>diff_secondary_structure</th></tr>\n",
       "\t<tr><th scope=col>&lt;chr&gt;</th><th scope=col>&lt;dbl&gt;</th><th scope=col>&lt;chr&gt;</th><th scope=col>&lt;chr&gt;</th><th scope=col>&lt;chr&gt;</th><th scope=col>&lt;chr&gt;</th><th scope=col>&lt;dbl&gt;</th><th scope=col>&lt;dbl&gt;</th><th scope=col>&lt;dbl&gt;</th><th scope=col>&lt;dbl&gt;</th><th scope=col>&lt;dbl&gt;</th><th scope=col>&lt;dbl&gt;</th><th scope=col>&lt;dbl&gt;</th></tr>\n",
       "</thead>\n",
       "<tbody>\n",
       "\t<tr><td>mutant</td><td>132</td><td>A</td><td>W</td><td>TRP</td><td>132AtoW</td><td>5813.795</td><td>5451.688</td><td>104</td><td>8575.758</td><td> 0</td><td> -4.9563240</td><td>0</td></tr>\n",
       "\t<tr><td>mutant</td><td>148</td><td>K</td><td>P</td><td>PRO</td><td>148KtoP</td><td>5153.361</td><td>4791.254</td><td>104</td><td>8581.174</td><td> 0</td><td>  0.4598051</td><td>0</td></tr>\n",
       "\t<tr><td>mutant</td><td>  7</td><td>A</td><td>W</td><td>TRP</td><td>7AtoW  </td><td>4970.983</td><td>4608.876</td><td>104</td><td>8580.268</td><td> 0</td><td> -0.4468043</td><td>0</td></tr>\n",
       "\t<tr><td>mutant</td><td>164</td><td>R</td><td>P</td><td>PRO</td><td>164RtoP</td><td>4513.665</td><td>4151.558</td><td>103</td><td>8581.808</td><td>-1</td><td>  1.0936000</td><td>2</td></tr>\n",
       "\t<tr><td>mutant</td><td>155</td><td>A</td><td>W</td><td>TRP</td><td>155AtoW</td><td>4254.719</td><td>3892.613</td><td>104</td><td>8576.253</td><td> 0</td><td> -4.4617985</td><td>0</td></tr>\n",
       "\t<tr><td>mutant</td><td>110</td><td>A</td><td>W</td><td>TRP</td><td>110AtoW</td><td>4057.646</td><td>3695.539</td><td>104</td><td>8582.607</td><td> 0</td><td>  1.8925342</td><td>0</td></tr>\n",
       "\t<tr><td>mutant</td><td>133</td><td>K</td><td>P</td><td>PRO</td><td>133KtoP</td><td>3947.401</td><td>3585.294</td><td>104</td><td>8550.383</td><td> 0</td><td>-30.3313091</td><td>0</td></tr>\n",
       "\t<tr><td>mutant</td><td> 50</td><td>R</td><td>P</td><td>PRO</td><td>50RtoP </td><td>3926.097</td><td>3563.990</td><td>103</td><td>8538.889</td><td>-1</td><td>-41.8252796</td><td>0</td></tr>\n",
       "\t<tr><td>mutant</td><td>132</td><td>A</td><td>Y</td><td>TYR</td><td>132AtoY</td><td>3913.528</td><td>3551.421</td><td>104</td><td>8578.710</td><td> 0</td><td> -2.0048015</td><td>0</td></tr>\n",
       "\t<tr><td>mutant</td><td> 41</td><td>R</td><td>P</td><td>PRO</td><td>41RtoP </td><td>3905.914</td><td>3543.807</td><td>104</td><td>8600.865</td><td> 0</td><td> 20.1501830</td><td>0</td></tr>\n",
       "</tbody>\n",
       "</table>\n"
      ],
      "text/latex": [
       "A tibble: 10 × 13\n",
       "\\begin{tabular}{lllllllllllll}\n",
       " type & residue\\_number & previous\\_aa & new\\_aa\\_1l & new\\_aa\\_3l & conversion & fa\\_score & ddg\\_score & hbond\\_score & sasa\\_score & diff\\_hbonds & diff\\_sasa & diff\\_secondary\\_structure\\\\\n",
       " <chr> & <dbl> & <chr> & <chr> & <chr> & <chr> & <dbl> & <dbl> & <dbl> & <dbl> & <dbl> & <dbl> & <dbl>\\\\\n",
       "\\hline\n",
       "\t mutant & 132 & A & W & TRP & 132AtoW & 5813.795 & 5451.688 & 104 & 8575.758 &  0 &  -4.9563240 & 0\\\\\n",
       "\t mutant & 148 & K & P & PRO & 148KtoP & 5153.361 & 4791.254 & 104 & 8581.174 &  0 &   0.4598051 & 0\\\\\n",
       "\t mutant &   7 & A & W & TRP & 7AtoW   & 4970.983 & 4608.876 & 104 & 8580.268 &  0 &  -0.4468043 & 0\\\\\n",
       "\t mutant & 164 & R & P & PRO & 164RtoP & 4513.665 & 4151.558 & 103 & 8581.808 & -1 &   1.0936000 & 2\\\\\n",
       "\t mutant & 155 & A & W & TRP & 155AtoW & 4254.719 & 3892.613 & 104 & 8576.253 &  0 &  -4.4617985 & 0\\\\\n",
       "\t mutant & 110 & A & W & TRP & 110AtoW & 4057.646 & 3695.539 & 104 & 8582.607 &  0 &   1.8925342 & 0\\\\\n",
       "\t mutant & 133 & K & P & PRO & 133KtoP & 3947.401 & 3585.294 & 104 & 8550.383 &  0 & -30.3313091 & 0\\\\\n",
       "\t mutant &  50 & R & P & PRO & 50RtoP  & 3926.097 & 3563.990 & 103 & 8538.889 & -1 & -41.8252796 & 0\\\\\n",
       "\t mutant & 132 & A & Y & TYR & 132AtoY & 3913.528 & 3551.421 & 104 & 8578.710 &  0 &  -2.0048015 & 0\\\\\n",
       "\t mutant &  41 & R & P & PRO & 41RtoP  & 3905.914 & 3543.807 & 104 & 8600.865 &  0 &  20.1501830 & 0\\\\\n",
       "\\end{tabular}\n"
      ],
      "text/markdown": [
       "\n",
       "A tibble: 10 × 13\n",
       "\n",
       "| type &lt;chr&gt; | residue_number &lt;dbl&gt; | previous_aa &lt;chr&gt; | new_aa_1l &lt;chr&gt; | new_aa_3l &lt;chr&gt; | conversion &lt;chr&gt; | fa_score &lt;dbl&gt; | ddg_score &lt;dbl&gt; | hbond_score &lt;dbl&gt; | sasa_score &lt;dbl&gt; | diff_hbonds &lt;dbl&gt; | diff_sasa &lt;dbl&gt; | diff_secondary_structure &lt;dbl&gt; |\n",
       "|---|---|---|---|---|---|---|---|---|---|---|---|---|\n",
       "| mutant | 132 | A | W | TRP | 132AtoW | 5813.795 | 5451.688 | 104 | 8575.758 |  0 |  -4.9563240 | 0 |\n",
       "| mutant | 148 | K | P | PRO | 148KtoP | 5153.361 | 4791.254 | 104 | 8581.174 |  0 |   0.4598051 | 0 |\n",
       "| mutant |   7 | A | W | TRP | 7AtoW   | 4970.983 | 4608.876 | 104 | 8580.268 |  0 |  -0.4468043 | 0 |\n",
       "| mutant | 164 | R | P | PRO | 164RtoP | 4513.665 | 4151.558 | 103 | 8581.808 | -1 |   1.0936000 | 2 |\n",
       "| mutant | 155 | A | W | TRP | 155AtoW | 4254.719 | 3892.613 | 104 | 8576.253 |  0 |  -4.4617985 | 0 |\n",
       "| mutant | 110 | A | W | TRP | 110AtoW | 4057.646 | 3695.539 | 104 | 8582.607 |  0 |   1.8925342 | 0 |\n",
       "| mutant | 133 | K | P | PRO | 133KtoP | 3947.401 | 3585.294 | 104 | 8550.383 |  0 | -30.3313091 | 0 |\n",
       "| mutant |  50 | R | P | PRO | 50RtoP  | 3926.097 | 3563.990 | 103 | 8538.889 | -1 | -41.8252796 | 0 |\n",
       "| mutant | 132 | A | Y | TYR | 132AtoY | 3913.528 | 3551.421 | 104 | 8578.710 |  0 |  -2.0048015 | 0 |\n",
       "| mutant |  41 | R | P | PRO | 41RtoP  | 3905.914 | 3543.807 | 104 | 8600.865 |  0 |  20.1501830 | 0 |\n",
       "\n"
      ],
      "text/plain": [
       "   type   residue_number previous_aa new_aa_1l new_aa_3l conversion fa_score\n",
       "1  mutant 132            A           W         TRP       132AtoW    5813.795\n",
       "2  mutant 148            K           P         PRO       148KtoP    5153.361\n",
       "3  mutant   7            A           W         TRP       7AtoW      4970.983\n",
       "4  mutant 164            R           P         PRO       164RtoP    4513.665\n",
       "5  mutant 155            A           W         TRP       155AtoW    4254.719\n",
       "6  mutant 110            A           W         TRP       110AtoW    4057.646\n",
       "7  mutant 133            K           P         PRO       133KtoP    3947.401\n",
       "8  mutant  50            R           P         PRO       50RtoP     3926.097\n",
       "9  mutant 132            A           Y         TYR       132AtoY    3913.528\n",
       "10 mutant  41            R           P         PRO       41RtoP     3905.914\n",
       "   ddg_score hbond_score sasa_score diff_hbonds diff_sasa  \n",
       "1  5451.688  104         8575.758    0           -4.9563240\n",
       "2  4791.254  104         8581.174    0            0.4598051\n",
       "3  4608.876  104         8580.268    0           -0.4468043\n",
       "4  4151.558  103         8581.808   -1            1.0936000\n",
       "5  3892.613  104         8576.253    0           -4.4617985\n",
       "6  3695.539  104         8582.607    0            1.8925342\n",
       "7  3585.294  104         8550.383    0          -30.3313091\n",
       "8  3563.990  103         8538.889   -1          -41.8252796\n",
       "9  3551.421  104         8578.710    0           -2.0048015\n",
       "10 3543.807  104         8600.865    0           20.1501830\n",
       "   diff_secondary_structure\n",
       "1  0                       \n",
       "2  0                       \n",
       "3  0                       \n",
       "4  2                       \n",
       "5  0                       \n",
       "6  0                       \n",
       "7  0                       \n",
       "8  0                       \n",
       "9  0                       \n",
       "10 0                       "
      ]
     },
     "metadata": {},
     "output_type": "display_data"
    },
    {
     "name": "stdout",
     "output_type": "stream",
     "text": [
      "[1] \"****************\"\n",
      "[1] \"Table below shows the count of previous_aa in this filtered data\"\n"
     ]
    },
    {
     "data": {
      "text/plain": [
       "\n",
       " A  C  D  E  G  H  I  K  L  N  P  Q  R  S  V  Y \n",
       "34  1  1  2  1  1  9  4 13  1  1  2 10  3  1  1 "
      ]
     },
     "metadata": {},
     "output_type": "display_data"
    },
    {
     "data": {
      "text/html": [
       "'This filtered data frame has 85 rows'"
      ],
      "text/latex": [
       "'This filtered data frame has 85 rows'"
      ],
      "text/markdown": [
       "'This filtered data frame has 85 rows'"
      ],
      "text/plain": [
       "This filtered data frame has 85 rows"
      ]
     },
     "metadata": {},
     "output_type": "display_data"
    },
    {
     "name": "stdout",
     "output_type": "stream",
     "text": [
      "[1] \"****************\"\n",
      "[1] \"Table below shows the count of new_aa_1l in this filtered data. The amino acids that is being added instead of the wild-type amino acid at a particular position\"\n"
     ]
    },
    {
     "data": {
      "text/plain": [
       "\n",
       " F  H  P  W  Y \n",
       " 9  4 41 20 11 "
      ]
     },
     "metadata": {},
     "output_type": "display_data"
    },
    {
     "name": "stdout",
     "output_type": "stream",
     "text": [
      "[1] \"****************\"\n",
      "[1] \"Table below takes a look at all of the mutated sequences with ΔΔG > 2000 where A was replaced. The table counts what was put in the place of A\"\n"
     ]
    },
    {
     "data": {
      "text/plain": [
       "\n",
       " F  H  W  Y \n",
       " 9  4 10 11 "
      ]
     },
     "metadata": {},
     "output_type": "display_data"
    }
   ],
   "source": [
    "ddg_above_3000 <- intein_short |> filter(ddg_score > 2000) |> arrange(desc(ddg_score))\n",
    "ddg_above_3000 |> head(n = 10) #showing only the top 10 \n",
    "print(\"****************\")\n",
    "print(\"Table below shows the count of previous_aa in this filtered data\")\n",
    "table(ddg_above_3000$previous_aa)\n",
    "glue(\"This filtered data frame has {ddg_above_3000 |> nrow()} rows\")\n",
    "print(\"****************\")\n",
    "print(\"Table below shows the count of new_aa_1l in this filtered data. The amino acids that is being added instead of the wild-type amino acid at a particular position\")\n",
    "table(ddg_above_3000$new_aa_1l)\n",
    "print(\"****************\")\n",
    "print(\"Table below takes a look at all of the mutated sequences with ΔΔG > 2000 where A was replaced. The table counts what was put in the place of A\")\n",
    "table((ddg_above_3000 |> filter(previous_aa == \"A\"))$new_aa_1l)"
   ]
  },
  {
   "cell_type": "markdown",
   "id": "c9a2f6d9-c7cd-4a44-a74b-6cc31c187629",
   "metadata": {},
   "source": [
    "#### what happens when A -> P?\n",
    "A examination of the ΔΔG values when a wildtype A is converted to P as a result of a point mutation. Considering that the **standard deviation** of the `ddg_score` is **570** and the **mean** of `ddg_score` is **317**.  \n",
    "> it would seem that across 21 mutation the **ΔΔG value does increase** in such event. Furthermore, **all but one of the mutations fall within the the standard deviation**."
   ]
  },
  {
   "cell_type": "code",
   "execution_count": 69,
   "id": "008d363d-127a-4284-8e49-3aab2aa8e16b",
   "metadata": {},
   "outputs": [
    {
     "data": {
      "text/html": [
       "<table class=\"dataframe\">\n",
       "<caption>A tibble: 8 × 13</caption>\n",
       "<thead>\n",
       "\t<tr><th scope=col>type</th><th scope=col>residue_number</th><th scope=col>previous_aa</th><th scope=col>new_aa_1l</th><th scope=col>new_aa_3l</th><th scope=col>conversion</th><th scope=col>fa_score</th><th scope=col>ddg_score</th><th scope=col>hbond_score</th><th scope=col>sasa_score</th><th scope=col>diff_hbonds</th><th scope=col>diff_sasa</th><th scope=col>diff_secondary_structure</th></tr>\n",
       "\t<tr><th scope=col>&lt;chr&gt;</th><th scope=col>&lt;dbl&gt;</th><th scope=col>&lt;chr&gt;</th><th scope=col>&lt;chr&gt;</th><th scope=col>&lt;chr&gt;</th><th scope=col>&lt;chr&gt;</th><th scope=col>&lt;dbl&gt;</th><th scope=col>&lt;dbl&gt;</th><th scope=col>&lt;dbl&gt;</th><th scope=col>&lt;dbl&gt;</th><th scope=col>&lt;dbl&gt;</th><th scope=col>&lt;dbl&gt;</th><th scope=col>&lt;dbl&gt;</th></tr>\n",
       "</thead>\n",
       "<tbody>\n",
       "\t<tr><td>mutant</td><td>132</td><td>A</td><td>P</td><td>PRO</td><td>132AtoP</td><td>939.0769</td><td>576.9701</td><td>103</td><td>8580.342</td><td>-1</td><td>-0.3719646</td><td>0</td></tr>\n",
       "\t<tr><td>mutant</td><td>125</td><td>A</td><td>P</td><td>PRO</td><td>125AtoP</td><td>791.1361</td><td>429.0294</td><td>103</td><td>8579.462</td><td>-1</td><td>-1.2519596</td><td>2</td></tr>\n",
       "\t<tr><td>mutant</td><td> 85</td><td>A</td><td>P</td><td>PRO</td><td>85AtoP </td><td>785.6410</td><td>423.5342</td><td>104</td><td>8580.588</td><td> 0</td><td>-0.1259740</td><td>0</td></tr>\n",
       "\t<tr><td>mutant</td><td>155</td><td>A</td><td>P</td><td>PRO</td><td>155AtoP</td><td>763.7951</td><td>401.6883</td><td>103</td><td>8580.330</td><td>-1</td><td>-0.3843060</td><td>0</td></tr>\n",
       "\t<tr><td>mutant</td><td>136</td><td>A</td><td>P</td><td>PRO</td><td>136AtoP</td><td>719.8438</td><td>357.7370</td><td>103</td><td>8576.836</td><td>-1</td><td>-3.8785250</td><td>2</td></tr>\n",
       "\t<tr><td>mutant</td><td>110</td><td>A</td><td>P</td><td>PRO</td><td>110AtoP</td><td>718.0839</td><td>355.9771</td><td>103</td><td>8580.535</td><td>-1</td><td>-0.1789855</td><td>3</td></tr>\n",
       "\t<tr><td>mutant</td><td> 10</td><td>A</td><td>P</td><td>PRO</td><td>10AtoP </td><td>707.4821</td><td>345.3753</td><td>103</td><td>8581.068</td><td>-1</td><td> 0.3531538</td><td>0</td></tr>\n",
       "\t<tr><td>mutant</td><td> 61</td><td>A</td><td>P</td><td>PRO</td><td>61AtoP </td><td>698.6412</td><td>336.5344</td><td>103</td><td>8572.492</td><td>-1</td><td>-8.2222616</td><td>3</td></tr>\n",
       "</tbody>\n",
       "</table>\n"
      ],
      "text/latex": [
       "A tibble: 8 × 13\n",
       "\\begin{tabular}{lllllllllllll}\n",
       " type & residue\\_number & previous\\_aa & new\\_aa\\_1l & new\\_aa\\_3l & conversion & fa\\_score & ddg\\_score & hbond\\_score & sasa\\_score & diff\\_hbonds & diff\\_sasa & diff\\_secondary\\_structure\\\\\n",
       " <chr> & <dbl> & <chr> & <chr> & <chr> & <chr> & <dbl> & <dbl> & <dbl> & <dbl> & <dbl> & <dbl> & <dbl>\\\\\n",
       "\\hline\n",
       "\t mutant & 132 & A & P & PRO & 132AtoP & 939.0769 & 576.9701 & 103 & 8580.342 & -1 & -0.3719646 & 0\\\\\n",
       "\t mutant & 125 & A & P & PRO & 125AtoP & 791.1361 & 429.0294 & 103 & 8579.462 & -1 & -1.2519596 & 2\\\\\n",
       "\t mutant &  85 & A & P & PRO & 85AtoP  & 785.6410 & 423.5342 & 104 & 8580.588 &  0 & -0.1259740 & 0\\\\\n",
       "\t mutant & 155 & A & P & PRO & 155AtoP & 763.7951 & 401.6883 & 103 & 8580.330 & -1 & -0.3843060 & 0\\\\\n",
       "\t mutant & 136 & A & P & PRO & 136AtoP & 719.8438 & 357.7370 & 103 & 8576.836 & -1 & -3.8785250 & 2\\\\\n",
       "\t mutant & 110 & A & P & PRO & 110AtoP & 718.0839 & 355.9771 & 103 & 8580.535 & -1 & -0.1789855 & 3\\\\\n",
       "\t mutant &  10 & A & P & PRO & 10AtoP  & 707.4821 & 345.3753 & 103 & 8581.068 & -1 &  0.3531538 & 0\\\\\n",
       "\t mutant &  61 & A & P & PRO & 61AtoP  & 698.6412 & 336.5344 & 103 & 8572.492 & -1 & -8.2222616 & 3\\\\\n",
       "\\end{tabular}\n"
      ],
      "text/markdown": [
       "\n",
       "A tibble: 8 × 13\n",
       "\n",
       "| type &lt;chr&gt; | residue_number &lt;dbl&gt; | previous_aa &lt;chr&gt; | new_aa_1l &lt;chr&gt; | new_aa_3l &lt;chr&gt; | conversion &lt;chr&gt; | fa_score &lt;dbl&gt; | ddg_score &lt;dbl&gt; | hbond_score &lt;dbl&gt; | sasa_score &lt;dbl&gt; | diff_hbonds &lt;dbl&gt; | diff_sasa &lt;dbl&gt; | diff_secondary_structure &lt;dbl&gt; |\n",
       "|---|---|---|---|---|---|---|---|---|---|---|---|---|\n",
       "| mutant | 132 | A | P | PRO | 132AtoP | 939.0769 | 576.9701 | 103 | 8580.342 | -1 | -0.3719646 | 0 |\n",
       "| mutant | 125 | A | P | PRO | 125AtoP | 791.1361 | 429.0294 | 103 | 8579.462 | -1 | -1.2519596 | 2 |\n",
       "| mutant |  85 | A | P | PRO | 85AtoP  | 785.6410 | 423.5342 | 104 | 8580.588 |  0 | -0.1259740 | 0 |\n",
       "| mutant | 155 | A | P | PRO | 155AtoP | 763.7951 | 401.6883 | 103 | 8580.330 | -1 | -0.3843060 | 0 |\n",
       "| mutant | 136 | A | P | PRO | 136AtoP | 719.8438 | 357.7370 | 103 | 8576.836 | -1 | -3.8785250 | 2 |\n",
       "| mutant | 110 | A | P | PRO | 110AtoP | 718.0839 | 355.9771 | 103 | 8580.535 | -1 | -0.1789855 | 3 |\n",
       "| mutant |  10 | A | P | PRO | 10AtoP  | 707.4821 | 345.3753 | 103 | 8581.068 | -1 |  0.3531538 | 0 |\n",
       "| mutant |  61 | A | P | PRO | 61AtoP  | 698.6412 | 336.5344 | 103 | 8572.492 | -1 | -8.2222616 | 3 |\n",
       "\n"
      ],
      "text/plain": [
       "  type   residue_number previous_aa new_aa_1l new_aa_3l conversion fa_score\n",
       "1 mutant 132            A           P         PRO       132AtoP    939.0769\n",
       "2 mutant 125            A           P         PRO       125AtoP    791.1361\n",
       "3 mutant  85            A           P         PRO       85AtoP     785.6410\n",
       "4 mutant 155            A           P         PRO       155AtoP    763.7951\n",
       "5 mutant 136            A           P         PRO       136AtoP    719.8438\n",
       "6 mutant 110            A           P         PRO       110AtoP    718.0839\n",
       "7 mutant  10            A           P         PRO       10AtoP     707.4821\n",
       "8 mutant  61            A           P         PRO       61AtoP     698.6412\n",
       "  ddg_score hbond_score sasa_score diff_hbonds diff_sasa \n",
       "1 576.9701  103         8580.342   -1          -0.3719646\n",
       "2 429.0294  103         8579.462   -1          -1.2519596\n",
       "3 423.5342  104         8580.588    0          -0.1259740\n",
       "4 401.6883  103         8580.330   -1          -0.3843060\n",
       "5 357.7370  103         8576.836   -1          -3.8785250\n",
       "6 355.9771  103         8580.535   -1          -0.1789855\n",
       "7 345.3753  103         8581.068   -1           0.3531538\n",
       "8 336.5344  103         8572.492   -1          -8.2222616\n",
       "  diff_secondary_structure\n",
       "1 0                       \n",
       "2 2                       \n",
       "3 0                       \n",
       "4 0                       \n",
       "5 2                       \n",
       "6 3                       \n",
       "7 0                       \n",
       "8 3                       "
      ]
     },
     "metadata": {},
     "output_type": "display_data"
    }
   ],
   "source": [
    "ddg_sd <- sd(intein_short$ddg_score)\n",
    "ddg_mean <- mean(intein_short$ddg_score)\n",
    "a_to_p <- intein_short |> filter(previous_aa == \"A\" & new_aa_1l == \"P\") |> arrange(desc(ddg_score))\n",
    "a_to_p |> head(n = 8)"
   ]
  },
  {
   "cell_type": "markdown",
   "id": "cdba47b6-86ae-449a-8ee8-ed7fa1e32337",
   "metadata": {
    "tags": []
   },
   "source": [
    "### Solvent Accessible Surface Area (SASA hereafter) analysis\n",
    "Let's commence again by drawing a histogram. The red line indicates wild-type.\n",
    "**Mean** of SASA is **8584**. **Standard deviation** is **20**. \n",
    "> the distribution seems to be normal"
   ]
  },
  {
   "cell_type": "code",
   "execution_count": 103,
   "id": "c87f155e-d487-45ab-b7a8-8e5ab11e8419",
   "metadata": {},
   "outputs": [
    {
     "data": {
      "image/png": "[encoded data removed]",
      "text/plain": [
       "plot without title"
      ]
     },
     "metadata": {
      "image/png": {
       "height": 420,
       "width": 420
      }
     },
     "output_type": "display_data"
    }
   ],
   "source": [
    "wildtype_sasa <- (intein_short |> filter(type == \"wild_type\"))$sasa_score\n",
    "sasa_mean <- mean(intein_short$sasa_score)\n",
    "sasa_sd <- sd(intein_short$sasa_score)\n",
    "intein_short |> ggplot(aes(sasa_score)) + \n",
    "    geom_histogram(fill = \"#1DB954\", bins = 30) + \n",
    "    theme(plot.title = element_text(hjust = 0, size = 16, face = \"bold\", color = \"white\"),\n",
    "        axis.title = element_text(size = 14, face = \"bold\", color = \"white\"),\n",
    "        axis.text = element_text(size = 12),\n",
    "        plot.background = element_rect(fill = \"#191919\"),\n",
    "        panel.background = element_blank(),\n",
    "        panel.grid.major.y = element_blank(),\n",
    "        panel.grid.minor.y = element_blank(),\n",
    "        panel.grid.major.x = element_line(color = \"gray90\", size = 0.5),\n",
    "        panel.grid.minor.x = element_blank()) +\n",
    "  ggtitle(\"Histogram of delta delta g in SINGLE intein\") +\n",
    "  labs(x = \"SASA\", y = \"count\") +\n",
    "  geom_vline(xintercept = wildtype_sasa, color = \"red\", size = 1.5, linetype = \"dashed\") +\n",
    "  theme(plot.margin = unit(c(1, 1, 1, 0.5), \"cm\"))"
   ]
  },
  {
   "cell_type": "markdown",
   "id": "a84a61f3-bfa7-4630-ac36-f20748f29fc1",
   "metadata": {},
   "source": [
    "#### A look at the higher end of SASA\n",
    "looking at mutations with `sasa_score` value above `Mean + 2SD`. There are 131 mutations that are higher than `Mean + 2SD`.\n",
    "\n",
    "**With respect to `residue_number`:**\n",
    "> Across 131 mutations, in `residue_number` **142**, **15 mutations are more than *2SD higher than the mean***. `residue_number` **111**, also has **9 mutations** that are considerably **high is their `sasa_score`**\n",
    "\n",
    "**With respect to `previous_aa`:**\n",
    "> Across 131 mutations, mutation of **G to another amino acid** accounts for **32** of these 131 mutations\n",
    "\n",
    "**With respect to `new_aa_1l`:**\n",
    "> Across 131 mutations, the **point mutation and conversion of previous amino acid to W**, accounts for **37** of them and **conversion to Y**, accounts for **21** of them.\n",
    "\n",
    "**With respect to highest `sasa_score`s:**\n",
    "> Across 131 mutations, the **highest 7 values** are **mutations where an amino acid was changed to W**"
   ]
  },
  {
   "cell_type": "code",
   "execution_count": 130,
   "id": "816b3f37-47d4-48a3-a828-4a0265b269a3",
   "metadata": {},
   "outputs": [
    {
     "name": "stdout",
     "output_type": "stream",
     "text": [
      "[1] \"****************************************\"\n",
      "[1] \"Below is: Count of residue number with sasa_scores higher than mean + 2SD\"\n"
     ]
    },
    {
     "data": {
      "text/plain": [
       "\n",
       "  1  13  14  24  25  28  29  33  35  39  41  45  55  58  67  74  75  82  84  85 \n",
       "  1   2   1   3   6   1   1   5   1   1   1   4   1   3   4   1   1   1   1   2 \n",
       " 86  87  92  96 101 111 112 113 114 115 120 122 128 129 130 131 133 137 140 142 \n",
       "  1   1   4   3   1   9   3   1   2   1   1   1   4   1   5   3   1   2   1  15 \n",
       "143 144 145 146 156 157 159 161 166 168 172 177 \n",
       "  1   2   3   4   2   1   2   4   1   7   2   1 "
      ]
     },
     "metadata": {},
     "output_type": "display_data"
    },
    {
     "name": "stdout",
     "output_type": "stream",
     "text": [
      "[1] \"****************************************\"\n",
      "[1] \"****************************************\"\n",
      "[1] \"Below is: Count of previous amino acids with sasa_scores higher than mean + 2SD\"\n"
     ]
    },
    {
     "data": {
      "text/plain": [
       "\n",
       " A  D  E  F  G  K  L  N  P  R  S  T  V  W  Y \n",
       "16 11  2 15 32  1  1  2 18  6  3  2  7  4 11 "
      ]
     },
     "metadata": {},
     "output_type": "display_data"
    },
    {
     "name": "stdout",
     "output_type": "stream",
     "text": [
      "[1] \"****************************************\"\n",
      "[1] \"****************************************\"\n",
      "[1] \"Below is: Count of new amino acids added as a result of point-mutation with sasa_scores higher than mean + 2SD\"\n"
     ]
    },
    {
     "data": {
      "text/plain": [
       "\n",
       " A  C  D  E  F  G  H  I  K  L  M  N  P  Q  R  S  T  V  W  Y \n",
       " 5  2  1  1 12 10 10  4  3  4  4  2  1  1  3  4  4  2 37 21 "
      ]
     },
     "metadata": {},
     "output_type": "display_data"
    },
    {
     "name": "stdout",
     "output_type": "stream",
     "text": [
      "[1] \"****************************************\"\n"
     ]
    },
    {
     "data": {
      "text/html": [
       "<table class=\"dataframe\">\n",
       "<caption>A tibble: 5 × 13</caption>\n",
       "<thead>\n",
       "\t<tr><th scope=col>type</th><th scope=col>residue_number</th><th scope=col>previous_aa</th><th scope=col>new_aa_1l</th><th scope=col>new_aa_3l</th><th scope=col>conversion</th><th scope=col>fa_score</th><th scope=col>ddg_score</th><th scope=col>hbond_score</th><th scope=col>sasa_score</th><th scope=col>diff_hbonds</th><th scope=col>diff_sasa</th><th scope=col>diff_secondary_structure</th></tr>\n",
       "\t<tr><th scope=col>&lt;chr&gt;</th><th scope=col>&lt;dbl&gt;</th><th scope=col>&lt;chr&gt;</th><th scope=col>&lt;chr&gt;</th><th scope=col>&lt;chr&gt;</th><th scope=col>&lt;chr&gt;</th><th scope=col>&lt;dbl&gt;</th><th scope=col>&lt;dbl&gt;</th><th scope=col>&lt;dbl&gt;</th><th scope=col>&lt;dbl&gt;</th><th scope=col>&lt;dbl&gt;</th><th scope=col>&lt;dbl&gt;</th><th scope=col>&lt;dbl&gt;</th></tr>\n",
       "</thead>\n",
       "<tbody>\n",
       "\t<tr><td>mutant</td><td>142</td><td>G</td><td>W</td><td>TRP</td><td>142GtoW</td><td> 385.9456</td><td> 23.83883</td><td>104</td><td>8743.430</td><td>0</td><td>162.7157</td><td>0</td></tr>\n",
       "\t<tr><td>mutant</td><td>168</td><td>A</td><td>W</td><td>TRP</td><td>168AtoW</td><td> 391.5106</td><td> 29.40378</td><td>104</td><td>8718.961</td><td>0</td><td>138.2463</td><td>0</td></tr>\n",
       "\t<tr><td>mutant</td><td> 33</td><td>A</td><td>W</td><td>TRP</td><td>33AtoW </td><td> 378.0919</td><td> 15.98515</td><td>104</td><td>8712.477</td><td>0</td><td>131.7624</td><td>0</td></tr>\n",
       "\t<tr><td>mutant</td><td>130</td><td>P</td><td>W</td><td>TRP</td><td>130PtoW</td><td> 375.8282</td><td> 13.72136</td><td>104</td><td>8705.236</td><td>0</td><td>124.5212</td><td>0</td></tr>\n",
       "\t<tr><td>mutant</td><td> 67</td><td>G</td><td>W</td><td>TRP</td><td>67GtoW </td><td>1185.2647</td><td>823.15794</td><td>104</td><td>8697.965</td><td>0</td><td>117.2507</td><td>0</td></tr>\n",
       "</tbody>\n",
       "</table>\n"
      ],
      "text/latex": [
       "A tibble: 5 × 13\n",
       "\\begin{tabular}{lllllllllllll}\n",
       " type & residue\\_number & previous\\_aa & new\\_aa\\_1l & new\\_aa\\_3l & conversion & fa\\_score & ddg\\_score & hbond\\_score & sasa\\_score & diff\\_hbonds & diff\\_sasa & diff\\_secondary\\_structure\\\\\n",
       " <chr> & <dbl> & <chr> & <chr> & <chr> & <chr> & <dbl> & <dbl> & <dbl> & <dbl> & <dbl> & <dbl> & <dbl>\\\\\n",
       "\\hline\n",
       "\t mutant & 142 & G & W & TRP & 142GtoW &  385.9456 &  23.83883 & 104 & 8743.430 & 0 & 162.7157 & 0\\\\\n",
       "\t mutant & 168 & A & W & TRP & 168AtoW &  391.5106 &  29.40378 & 104 & 8718.961 & 0 & 138.2463 & 0\\\\\n",
       "\t mutant &  33 & A & W & TRP & 33AtoW  &  378.0919 &  15.98515 & 104 & 8712.477 & 0 & 131.7624 & 0\\\\\n",
       "\t mutant & 130 & P & W & TRP & 130PtoW &  375.8282 &  13.72136 & 104 & 8705.236 & 0 & 124.5212 & 0\\\\\n",
       "\t mutant &  67 & G & W & TRP & 67GtoW  & 1185.2647 & 823.15794 & 104 & 8697.965 & 0 & 117.2507 & 0\\\\\n",
       "\\end{tabular}\n"
      ],
      "text/markdown": [
       "\n",
       "A tibble: 5 × 13\n",
       "\n",
       "| type &lt;chr&gt; | residue_number &lt;dbl&gt; | previous_aa &lt;chr&gt; | new_aa_1l &lt;chr&gt; | new_aa_3l &lt;chr&gt; | conversion &lt;chr&gt; | fa_score &lt;dbl&gt; | ddg_score &lt;dbl&gt; | hbond_score &lt;dbl&gt; | sasa_score &lt;dbl&gt; | diff_hbonds &lt;dbl&gt; | diff_sasa &lt;dbl&gt; | diff_secondary_structure &lt;dbl&gt; |\n",
       "|---|---|---|---|---|---|---|---|---|---|---|---|---|\n",
       "| mutant | 142 | G | W | TRP | 142GtoW |  385.9456 |  23.83883 | 104 | 8743.430 | 0 | 162.7157 | 0 |\n",
       "| mutant | 168 | A | W | TRP | 168AtoW |  391.5106 |  29.40378 | 104 | 8718.961 | 0 | 138.2463 | 0 |\n",
       "| mutant |  33 | A | W | TRP | 33AtoW  |  378.0919 |  15.98515 | 104 | 8712.477 | 0 | 131.7624 | 0 |\n",
       "| mutant | 130 | P | W | TRP | 130PtoW |  375.8282 |  13.72136 | 104 | 8705.236 | 0 | 124.5212 | 0 |\n",
       "| mutant |  67 | G | W | TRP | 67GtoW  | 1185.2647 | 823.15794 | 104 | 8697.965 | 0 | 117.2507 | 0 |\n",
       "\n"
      ],
      "text/plain": [
       "  type   residue_number previous_aa new_aa_1l new_aa_3l conversion fa_score \n",
       "1 mutant 142            G           W         TRP       142GtoW     385.9456\n",
       "2 mutant 168            A           W         TRP       168AtoW     391.5106\n",
       "3 mutant  33            A           W         TRP       33AtoW      378.0919\n",
       "4 mutant 130            P           W         TRP       130PtoW     375.8282\n",
       "5 mutant  67            G           W         TRP       67GtoW     1185.2647\n",
       "  ddg_score hbond_score sasa_score diff_hbonds diff_sasa\n",
       "1  23.83883 104         8743.430   0           162.7157 \n",
       "2  29.40378 104         8718.961   0           138.2463 \n",
       "3  15.98515 104         8712.477   0           131.7624 \n",
       "4  13.72136 104         8705.236   0           124.5212 \n",
       "5 823.15794 104         8697.965   0           117.2507 \n",
       "  diff_secondary_structure\n",
       "1 0                       \n",
       "2 0                       \n",
       "3 0                       \n",
       "4 0                       \n",
       "5 0                       "
      ]
     },
     "metadata": {},
     "output_type": "display_data"
    }
   ],
   "source": [
    "high_end_sasa <- intein_short |> filter(sasa_score > (sasa_mean + 2* sasa_sd)) |> arrange(desc(sasa_score))\n",
    "print(\"****************************************\")\n",
    "print(\"Below is: Count of residue number with sasa_scores higher than mean + 2SD\")\n",
    "table(high_end_sasa$residue_number)\n",
    "print(\"****************************************\")\n",
    "print(\"****************************************\")\n",
    "print(\"Below is: Count of previous amino acids with sasa_scores higher than mean + 2SD\")\n",
    "table(high_end_sasa$previous_aa)\n",
    "print(\"****************************************\")\n",
    "print(\"****************************************\")\n",
    "print(\"Below is: Count of new amino acids added as a result of point-mutation with sasa_scores higher than mean + 2SD\")\n",
    "table(high_end_sasa$new_aa_1l)\n",
    "print(\"****************************************\")\n",
    "high_end_sasa |> head(n = 5) # a look at the top values "
   ]
  },
  {
   "cell_type": "markdown",
   "id": "e575535c-1e81-4c68-95f2-1151f65fd6d9",
   "metadata": {},
   "source": [
    "#### A look at the lower end of SASA\n",
    "Looking at the values that are with `sasa_score` less than `Mean - 2SD`. There are a **total of 81 mutations** whose mutations result in `sasa_score` below the aforementioned value. \n",
    "\n",
    "\n",
    "**With respect to `residue_number`:**\n",
    "> Among the 81 mutations, **15 of these mutations are occuring at position 69**.\n",
    "\n",
    "**With respect to `previous_aa`:**\n",
    "> Among the 81 mutations, **52 mutations are happening and replacing the amino acid R**. In other words, in 52 out of 81 mutations amino acid R is being replaced.\n",
    "\n",
    "**With respect to `new_aa_1l`:**\n",
    "> Among the 81 mutations, in 10 of them amino acid G is replacing an amino acid and in 9 of them A is replacing an aa. That said, there does not seem to be a considerable pattern here. \n",
    "\n",
    "**With respect to the lowest `sasa_score`:**\n",
    "> Among the 81 mutations, the lowest `sasa_score` with the value 8441 which is **140 less than wild-type** is associated with `residue_number` **27** in which the **R -> G**. In fact, it notable that the lowest 8 `sasa_score`s are associated with `residue_number` **27**"
   ]
  },
  {
   "cell_type": "code",
   "execution_count": 141,
   "id": "0f760233-c083-4979-8970-d6fa76b9fcdd",
   "metadata": {},
   "outputs": [
    {
     "name": "stdout",
     "output_type": "stream",
     "text": [
      "[1] \"****************************************\"\n",
      "[1] \"Below is: Count of residue number with sasa_scores less than mean + 2SD\"\n"
     ]
    },
    {
     "data": {
      "text/plain": [
       "\n",
       " 13  15  27  50  69  83  99 113 114 118 120 121 124 133 137 \n",
       "  5   2  17  10  15   2   3   1   2   5   1  10   1   5   2 "
      ]
     },
     "metadata": {},
     "output_type": "display_data"
    },
    {
     "name": "stdout",
     "output_type": "stream",
     "text": [
      "[1] \"****************************************\"\n",
      "[1] \"****************************************\"\n",
      "[1] \"Below is: Count of previous amino acids with sasa_scores lower than mean + 2SD\"\n"
     ]
    },
    {
     "data": {
      "text/plain": [
       "\n",
       " D  E  G  K  R  T  V \n",
       " 4  8  5  8 52  1  3 "
      ]
     },
     "metadata": {},
     "output_type": "display_data"
    },
    {
     "name": "stdout",
     "output_type": "stream",
     "text": [
      "[1] \"****************************************\"\n",
      "[1] \"****************************************\"\n",
      "[1] \"Below is: Count of new amino acids added as a result of point-mutation with sasa_scores lower than mean + 2SD\"\n"
     ]
    },
    {
     "data": {
      "text/plain": [
       "\n",
       " A  C  D  E  F  G  H  I  L  M  N  P  Q  R  S  T  V  W  Y \n",
       " 9  4  4  2  5 10  4  4  3  1  4  4  1  2  5  5  6  5  3 "
      ]
     },
     "metadata": {},
     "output_type": "display_data"
    },
    {
     "name": "stdout",
     "output_type": "stream",
     "text": [
      "[1] \"****************************************\"\n"
     ]
    },
    {
     "data": {
      "text/html": [
       "<table class=\"dataframe\">\n",
       "<caption>A tibble: 10 × 13</caption>\n",
       "<thead>\n",
       "\t<tr><th scope=col>type</th><th scope=col>residue_number</th><th scope=col>previous_aa</th><th scope=col>new_aa_1l</th><th scope=col>new_aa_3l</th><th scope=col>conversion</th><th scope=col>fa_score</th><th scope=col>ddg_score</th><th scope=col>hbond_score</th><th scope=col>sasa_score</th><th scope=col>diff_hbonds</th><th scope=col>diff_sasa</th><th scope=col>diff_secondary_structure</th></tr>\n",
       "\t<tr><th scope=col>&lt;chr&gt;</th><th scope=col>&lt;dbl&gt;</th><th scope=col>&lt;chr&gt;</th><th scope=col>&lt;chr&gt;</th><th scope=col>&lt;chr&gt;</th><th scope=col>&lt;chr&gt;</th><th scope=col>&lt;dbl&gt;</th><th scope=col>&lt;dbl&gt;</th><th scope=col>&lt;dbl&gt;</th><th scope=col>&lt;dbl&gt;</th><th scope=col>&lt;dbl&gt;</th><th scope=col>&lt;dbl&gt;</th><th scope=col>&lt;dbl&gt;</th></tr>\n",
       "</thead>\n",
       "<tbody>\n",
       "\t<tr><td>mutant</td><td> 27</td><td>R</td><td>G</td><td>GLY</td><td>27RtoG </td><td>361.4102</td><td>-0.6965943</td><td>104</td><td>8441.057</td><td>0</td><td>-139.65768</td><td>0</td></tr>\n",
       "\t<tr><td>mutant</td><td> 27</td><td>R</td><td>A</td><td>ALA</td><td>27RtoA </td><td>360.3311</td><td>-1.7757177</td><td>104</td><td>8454.363</td><td>0</td><td>-126.35182</td><td>0</td></tr>\n",
       "\t<tr><td>mutant</td><td> 27</td><td>R</td><td>S</td><td>SER</td><td>27RtoS </td><td>360.4039</td><td>-1.7028958</td><td>104</td><td>8457.218</td><td>0</td><td>-123.49611</td><td>0</td></tr>\n",
       "\t<tr><td>mutant</td><td> 27</td><td>R</td><td>T</td><td>THR</td><td>27RtoT </td><td>370.8806</td><td> 8.7738168</td><td>104</td><td>8471.986</td><td>0</td><td>-108.72848</td><td>0</td></tr>\n",
       "\t<tr><td>mutant</td><td> 27</td><td>R</td><td>D</td><td>ASP</td><td>27RtoD </td><td>361.6544</td><td>-0.4524070</td><td>104</td><td>8472.499</td><td>0</td><td>-108.21526</td><td>0</td></tr>\n",
       "\t<tr><td>mutant</td><td> 27</td><td>R</td><td>C</td><td>CYS</td><td>27RtoC </td><td>363.6196</td><td> 1.5127861</td><td>104</td><td>8476.388</td><td>0</td><td>-104.32688</td><td>0</td></tr>\n",
       "\t<tr><td>mutant</td><td> 27</td><td>R</td><td>N</td><td>ASN</td><td>27RtoN </td><td>364.0720</td><td> 1.9652079</td><td>104</td><td>8479.350</td><td>0</td><td>-101.36464</td><td>0</td></tr>\n",
       "\t<tr><td>mutant</td><td> 27</td><td>R</td><td>V</td><td>VAL</td><td>27RtoV </td><td>437.2817</td><td>75.1748764</td><td>104</td><td>8479.797</td><td>0</td><td>-100.91732</td><td>0</td></tr>\n",
       "\t<tr><td>mutant</td><td>121</td><td>R</td><td>G</td><td>GLY</td><td>121RtoG</td><td>358.2647</td><td>-3.8420736</td><td>104</td><td>8496.197</td><td>0</td><td> -84.51697</td><td>0</td></tr>\n",
       "\t<tr><td>mutant</td><td>121</td><td>R</td><td>A</td><td>ALA</td><td>121RtoA</td><td>356.5038</td><td>-5.6029747</td><td>104</td><td>8499.651</td><td>0</td><td> -81.06319</td><td>0</td></tr>\n",
       "</tbody>\n",
       "</table>\n"
      ],
      "text/latex": [
       "A tibble: 10 × 13\n",
       "\\begin{tabular}{lllllllllllll}\n",
       " type & residue\\_number & previous\\_aa & new\\_aa\\_1l & new\\_aa\\_3l & conversion & fa\\_score & ddg\\_score & hbond\\_score & sasa\\_score & diff\\_hbonds & diff\\_sasa & diff\\_secondary\\_structure\\\\\n",
       " <chr> & <dbl> & <chr> & <chr> & <chr> & <chr> & <dbl> & <dbl> & <dbl> & <dbl> & <dbl> & <dbl> & <dbl>\\\\\n",
       "\\hline\n",
       "\t mutant &  27 & R & G & GLY & 27RtoG  & 361.4102 & -0.6965943 & 104 & 8441.057 & 0 & -139.65768 & 0\\\\\n",
       "\t mutant &  27 & R & A & ALA & 27RtoA  & 360.3311 & -1.7757177 & 104 & 8454.363 & 0 & -126.35182 & 0\\\\\n",
       "\t mutant &  27 & R & S & SER & 27RtoS  & 360.4039 & -1.7028958 & 104 & 8457.218 & 0 & -123.49611 & 0\\\\\n",
       "\t mutant &  27 & R & T & THR & 27RtoT  & 370.8806 &  8.7738168 & 104 & 8471.986 & 0 & -108.72848 & 0\\\\\n",
       "\t mutant &  27 & R & D & ASP & 27RtoD  & 361.6544 & -0.4524070 & 104 & 8472.499 & 0 & -108.21526 & 0\\\\\n",
       "\t mutant &  27 & R & C & CYS & 27RtoC  & 363.6196 &  1.5127861 & 104 & 8476.388 & 0 & -104.32688 & 0\\\\\n",
       "\t mutant &  27 & R & N & ASN & 27RtoN  & 364.0720 &  1.9652079 & 104 & 8479.350 & 0 & -101.36464 & 0\\\\\n",
       "\t mutant &  27 & R & V & VAL & 27RtoV  & 437.2817 & 75.1748764 & 104 & 8479.797 & 0 & -100.91732 & 0\\\\\n",
       "\t mutant & 121 & R & G & GLY & 121RtoG & 358.2647 & -3.8420736 & 104 & 8496.197 & 0 &  -84.51697 & 0\\\\\n",
       "\t mutant & 121 & R & A & ALA & 121RtoA & 356.5038 & -5.6029747 & 104 & 8499.651 & 0 &  -81.06319 & 0\\\\\n",
       "\\end{tabular}\n"
      ],
      "text/markdown": [
       "\n",
       "A tibble: 10 × 13\n",
       "\n",
       "| type &lt;chr&gt; | residue_number &lt;dbl&gt; | previous_aa &lt;chr&gt; | new_aa_1l &lt;chr&gt; | new_aa_3l &lt;chr&gt; | conversion &lt;chr&gt; | fa_score &lt;dbl&gt; | ddg_score &lt;dbl&gt; | hbond_score &lt;dbl&gt; | sasa_score &lt;dbl&gt; | diff_hbonds &lt;dbl&gt; | diff_sasa &lt;dbl&gt; | diff_secondary_structure &lt;dbl&gt; |\n",
       "|---|---|---|---|---|---|---|---|---|---|---|---|---|\n",
       "| mutant |  27 | R | G | GLY | 27RtoG  | 361.4102 | -0.6965943 | 104 | 8441.057 | 0 | -139.65768 | 0 |\n",
       "| mutant |  27 | R | A | ALA | 27RtoA  | 360.3311 | -1.7757177 | 104 | 8454.363 | 0 | -126.35182 | 0 |\n",
       "| mutant |  27 | R | S | SER | 27RtoS  | 360.4039 | -1.7028958 | 104 | 8457.218 | 0 | -123.49611 | 0 |\n",
       "| mutant |  27 | R | T | THR | 27RtoT  | 370.8806 |  8.7738168 | 104 | 8471.986 | 0 | -108.72848 | 0 |\n",
       "| mutant |  27 | R | D | ASP | 27RtoD  | 361.6544 | -0.4524070 | 104 | 8472.499 | 0 | -108.21526 | 0 |\n",
       "| mutant |  27 | R | C | CYS | 27RtoC  | 363.6196 |  1.5127861 | 104 | 8476.388 | 0 | -104.32688 | 0 |\n",
       "| mutant |  27 | R | N | ASN | 27RtoN  | 364.0720 |  1.9652079 | 104 | 8479.350 | 0 | -101.36464 | 0 |\n",
       "| mutant |  27 | R | V | VAL | 27RtoV  | 437.2817 | 75.1748764 | 104 | 8479.797 | 0 | -100.91732 | 0 |\n",
       "| mutant | 121 | R | G | GLY | 121RtoG | 358.2647 | -3.8420736 | 104 | 8496.197 | 0 |  -84.51697 | 0 |\n",
       "| mutant | 121 | R | A | ALA | 121RtoA | 356.5038 | -5.6029747 | 104 | 8499.651 | 0 |  -81.06319 | 0 |\n",
       "\n"
      ],
      "text/plain": [
       "   type   residue_number previous_aa new_aa_1l new_aa_3l conversion fa_score\n",
       "1  mutant  27            R           G         GLY       27RtoG     361.4102\n",
       "2  mutant  27            R           A         ALA       27RtoA     360.3311\n",
       "3  mutant  27            R           S         SER       27RtoS     360.4039\n",
       "4  mutant  27            R           T         THR       27RtoT     370.8806\n",
       "5  mutant  27            R           D         ASP       27RtoD     361.6544\n",
       "6  mutant  27            R           C         CYS       27RtoC     363.6196\n",
       "7  mutant  27            R           N         ASN       27RtoN     364.0720\n",
       "8  mutant  27            R           V         VAL       27RtoV     437.2817\n",
       "9  mutant 121            R           G         GLY       121RtoG    358.2647\n",
       "10 mutant 121            R           A         ALA       121RtoA    356.5038\n",
       "   ddg_score  hbond_score sasa_score diff_hbonds diff_sasa \n",
       "1  -0.6965943 104         8441.057   0           -139.65768\n",
       "2  -1.7757177 104         8454.363   0           -126.35182\n",
       "3  -1.7028958 104         8457.218   0           -123.49611\n",
       "4   8.7738168 104         8471.986   0           -108.72848\n",
       "5  -0.4524070 104         8472.499   0           -108.21526\n",
       "6   1.5127861 104         8476.388   0           -104.32688\n",
       "7   1.9652079 104         8479.350   0           -101.36464\n",
       "8  75.1748764 104         8479.797   0           -100.91732\n",
       "9  -3.8420736 104         8496.197   0            -84.51697\n",
       "10 -5.6029747 104         8499.651   0            -81.06319\n",
       "   diff_secondary_structure\n",
       "1  0                       \n",
       "2  0                       \n",
       "3  0                       \n",
       "4  0                       \n",
       "5  0                       \n",
       "6  0                       \n",
       "7  0                       \n",
       "8  0                       \n",
       "9  0                       \n",
       "10 0                       "
      ]
     },
     "metadata": {},
     "output_type": "display_data"
    }
   ],
   "source": [
    "low_end_sasa <- intein_short |> filter(sasa_score < (sasa_mean - 2 * sasa_sd)) |> arrange(sasa_score)\n",
    "print(\"****************************************\")\n",
    "print(\"Below is: Count of residue number with sasa_scores less than mean + 2SD\")\n",
    "table(low_end_sasa$residue_number)\n",
    "print(\"****************************************\")\n",
    "\n",
    "print(\"****************************************\")\n",
    "print(\"Below is: Count of previous amino acids with sasa_scores lower than mean + 2SD\")\n",
    "table(low_end_sasa$previous_aa)\n",
    "print(\"****************************************\")\n",
    "\n",
    "print(\"****************************************\")\n",
    "print(\"Below is: Count of new amino acids added as a result of point-mutation with sasa_scores lower than mean + 2SD\")\n",
    "table(low_end_sasa$new_aa_1l)\n",
    "print(\"****************************************\")\n",
    "\n",
    "low_end_sasa |> head(n = 10)"
   ]
  },
  {
   "cell_type": "code",
   "execution_count": null,
   "id": "c94db497-ca4c-4c98-a1f1-d1ecc24ac230",
   "metadata": {},
   "outputs": [],
   "source": []
  },
  {
   "cell_type": "code",
   "execution_count": null,
   "id": "490bf18c-f06a-49a6-978f-8a5713d74fdf",
   "metadata": {},
   "outputs": [],
   "source": []
  }
 ],
 "metadata": {
  "kernelspec": {
   "display_name": "R",
   "language": "R",
   "name": "ir"
  },
  "language_info": {
   "codemirror_mode": "r",
   "file_extension": ".r",
   "mimetype": "text/x-r-source",
   "name": "R",
   "pygments_lexer": "r",
   "version": "4.3.0"
  }
 },
 "nbformat": 4,
 "nbformat_minor": 5
}
