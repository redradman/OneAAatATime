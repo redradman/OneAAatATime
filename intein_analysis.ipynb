{
 "cells": [
  {
   "cell_type": "markdown",
   "id": "9ec9e46b-aecb-40f1-9305-8fcd3f5506ac",
   "metadata": {},
   "source": [
    "# Analysis of the the single intein\n",
    "This notebook is for conducting analysis on the **gyra_intein**."
   ]
  },
  {
   "cell_type": "markdown",
   "id": "9220ad5a-80b9-41dc-a603-a7278d71ee9f",
   "metadata": {
    "tags": []
   },
   "source": [
    "## Installing and importing the necessary libraries"
   ]
  },
  {
   "cell_type": "code",
   "execution_count": 2,
   "id": "6bb8e622-f68f-4522-be94-42d092f7616c",
   "metadata": {},
   "outputs": [
    {
     "name": "stderr",
     "output_type": "stream",
     "text": [
      "── \u001b[1mAttaching core tidyverse packages\u001b[22m ──────────────────────── tidyverse 2.0.0 ──\n",
      "\u001b[32m✔\u001b[39m \u001b[34mdplyr    \u001b[39m 1.1.2     \u001b[32m✔\u001b[39m \u001b[34mreadr    \u001b[39m 2.1.4\n",
      "\u001b[32m✔\u001b[39m \u001b[34mforcats  \u001b[39m 1.0.0     \u001b[32m✔\u001b[39m \u001b[34mstringr  \u001b[39m 1.5.0\n",
      "\u001b[32m✔\u001b[39m \u001b[34mggplot2  \u001b[39m 3.4.2     \u001b[32m✔\u001b[39m \u001b[34mtibble   \u001b[39m 3.2.1\n",
      "\u001b[32m✔\u001b[39m \u001b[34mlubridate\u001b[39m 1.9.2     \u001b[32m✔\u001b[39m \u001b[34mtidyr    \u001b[39m 1.3.0\n",
      "\u001b[32m✔\u001b[39m \u001b[34mpurrr    \u001b[39m 1.0.1     \n",
      "── \u001b[1mConflicts\u001b[22m ────────────────────────────────────────── tidyverse_conflicts() ──\n",
      "\u001b[31m✖\u001b[39m \u001b[34mdplyr\u001b[39m::\u001b[32mfilter()\u001b[39m masks \u001b[34mstats\u001b[39m::filter()\n",
      "\u001b[31m✖\u001b[39m \u001b[34mdplyr\u001b[39m::\u001b[32mlag()\u001b[39m    masks \u001b[34mstats\u001b[39m::lag()\n",
      "\u001b[36mℹ\u001b[39m Use the conflicted package (\u001b[3m\u001b[34m<http://conflicted.r-lib.org/>\u001b[39m\u001b[23m) to force all conflicts to become errors\n",
      "\n",
      "Attaching package: ‘reshape2’\n",
      "\n",
      "\n",
      "The following object is masked from ‘package:tidyr’:\n",
      "\n",
      "    smiths\n",
      "\n",
      "\n"
     ]
    }
   ],
   "source": [
    "# installing the libraries \n",
    "# uncomment the lines below to make sure that the required libraries are installed\n",
    "# install.packages(\"tidyverse\")\n",
    "# install.packages(\"ggthemes\")\n",
    "# install.packages(\"ggplot2\")\n",
    "# install.packages(\"dplyr\")\n",
    "# install.packages(\"reshape2\")\n",
    "\n",
    "# importing the libraries\n",
    "library(tidyverse)\n",
    "library(ggthemes)\n",
    "library(ggplot2)\n",
    "library(dplyr)\n",
    "library(glue)\n",
    "library(reshape2)"
   ]
  },
  {
   "cell_type": "markdown",
   "id": "5bd57d16-063b-4679-b18b-b2c321b4d6f2",
   "metadata": {
    "tags": []
   },
   "source": [
    "## Reading the csv file that has the results of the simulation"
   ]
  },
  {
   "cell_type": "code",
   "execution_count": 3,
   "id": "a3209d8c-2f8a-4d74-a94a-0928e41f1b21",
   "metadata": {},
   "outputs": [
    {
     "name": "stderr",
     "output_type": "stream",
     "text": [
      "\u001b[1mRows: \u001b[22m\u001b[34m3440\u001b[39m \u001b[1mColumns: \u001b[22m\u001b[34m15\u001b[39m\n",
      "\u001b[36m──\u001b[39m \u001b[1mColumn specification\u001b[22m \u001b[36m────────────────────────────────────────────────────────\u001b[39m\n",
      "\u001b[1mDelimiter:\u001b[22m \",\"\n",
      "\u001b[31mchr\u001b[39m (7): type, previous_aa, new_aa_1l, new_aa_3l, conversion, new_seq, secon...\n",
      "\u001b[32mdbl\u001b[39m (8): residue_number, fa_score, ddg_score, hbond_score, sasa_score, diff_...\n",
      "\n",
      "\u001b[36mℹ\u001b[39m Use `spec()` to retrieve the full column specification for this data.\n",
      "\u001b[36mℹ\u001b[39m Specify the column types or set `show_col_types = FALSE` to quiet this message.\n"
     ]
    },
    {
     "data": {
      "text/html": [
       "<table class=\"dataframe\">\n",
       "<caption>A tibble: 6 × 15</caption>\n",
       "<thead>\n",
       "\t<tr><th scope=col>type</th><th scope=col>residue_number</th><th scope=col>previous_aa</th><th scope=col>new_aa_1l</th><th scope=col>new_aa_3l</th><th scope=col>conversion</th><th scope=col>new_seq</th><th scope=col>fa_score</th><th scope=col>ddg_score</th><th scope=col>hbond_score</th><th scope=col>sasa_score</th><th scope=col>secondary_structure</th><th scope=col>diff_hbonds</th><th scope=col>diff_sasa</th><th scope=col>diff_secondary_structure</th></tr>\n",
       "\t<tr><th scope=col>&lt;chr&gt;</th><th scope=col>&lt;dbl&gt;</th><th scope=col>&lt;chr&gt;</th><th scope=col>&lt;chr&gt;</th><th scope=col>&lt;chr&gt;</th><th scope=col>&lt;chr&gt;</th><th scope=col>&lt;chr&gt;</th><th scope=col>&lt;dbl&gt;</th><th scope=col>&lt;dbl&gt;</th><th scope=col>&lt;dbl&gt;</th><th scope=col>&lt;dbl&gt;</th><th scope=col>&lt;chr&gt;</th><th scope=col>&lt;dbl&gt;</th><th scope=col>&lt;dbl&gt;</th><th scope=col>&lt;dbl&gt;</th></tr>\n",
       "</thead>\n",
       "<tbody>\n",
       "\t<tr><td>wild_type</td><td>NA</td><td>NA</td><td>NA</td><td>NA </td><td>NA   </td><td>ASITGDALVALPEGESVRIADIVPGARPNSDNAIDLKVLDRHGNPVLADRLFHSGEHPVYAVRTVEGLRVTGTANHPLLCLVDVAGVPTLLWKLIDEIKPGDYAVIQRSAFSTVGVPGLVRFLEAHHRDPDAKAIADELTDGRFYYAKVASVTDAGVQPVYSLRVDTADHAFITNGFVSHN</td><td>362.1068</td><td>  0.00000</td><td>104</td><td>8580.714</td><td>LLEELLLEEELLLLLEEEHHHLLLLLLLLEEEEEEEEEELLLLLEEEEEEEEEEEEEEEEEEEELLLLEEEEELLLEEEEEEEELLEEEEEEEEHHHLLLLLEEEEEHHHLLLLLLLLHHHHHHHLLLLLLHHHHHHHHHLLLEEEEEEEEEEEEEEEEEEEEEELLLLLEEEELLEEEEL</td><td>0</td><td> 0.0000000</td><td>0</td></tr>\n",
       "\t<tr><td>mutant   </td><td> 1</td><td>A </td><td>C </td><td>CYS</td><td>1AtoC</td><td>CSITGDALVALPEGESVRIADIVPGARPNSDNAIDLKVLDRHGNPVLADRLFHSGEHPVYAVRTVEGLRVTGTANHPLLCLVDVAGVPTLLWKLIDEIKPGDYAVIQRSAFSTVGVPGLVRFLEAHHRDPDAKAIADELTDGRFYYAKVASVTDAGVQPVYSLRVDTADHAFITNGFVSHN</td><td>413.7276</td><td> 51.62086</td><td>104</td><td>8599.590</td><td>LLEELLLEEELLLLLEEEHHHLLLLLLLLEEEEEEEEEELLLLLEEEEEEEEEEEEEEEEEEEELLLLEEEEELLLEEEEEEEELLEEEEEEEEHHHLLLLLEEEEEHHHLLLLLLLLHHHHHHHLLLLLLHHHHHHHHHLLLEEEEEEEEEEEEEEEEEEEEEELLLLLEEEELLEEEEL</td><td>0</td><td>18.8757359</td><td>0</td></tr>\n",
       "\t<tr><td>mutant   </td><td> 1</td><td>A </td><td>D </td><td>ASP</td><td>1AtoD</td><td>DSITGDALVALPEGESVRIADIVPGARPNSDNAIDLKVLDRHGNPVLADRLFHSGEHPVYAVRTVEGLRVTGTANHPLLCLVDVAGVPTLLWKLIDEIKPGDYAVIQRSAFSTVGVPGLVRFLEAHHRDPDAKAIADELTDGRFYYAKVASVTDAGVQPVYSLRVDTADHAFITNGFVSHN</td><td>446.3807</td><td> 84.27391</td><td>104</td><td>8596.750</td><td>LLEELLLEEELLLLLEEEHHHLLLLLLLLEEEEEEEEEELLLLLEEEEEEEEEEEEEEEEEEEELLLLEEEEELLLEEEEEEEELLEEEEEEEEHHHLLLLLEEEEEHHHLLLLLLLLHHHHHHHLLLLLLHHHHHHHHHLLLEEEEEEEEEEEEEEEEEEEEEELLLLLEEEELLEEEEL</td><td>0</td><td>16.0355577</td><td>0</td></tr>\n",
       "\t<tr><td>mutant   </td><td> 1</td><td>A </td><td>E </td><td>GLU</td><td>1AtoE</td><td>ESITGDALVALPEGESVRIADIVPGARPNSDNAIDLKVLDRHGNPVLADRLFHSGEHPVYAVRTVEGLRVTGTANHPLLCLVDVAGVPTLLWKLIDEIKPGDYAVIQRSAFSTVGVPGLVRFLEAHHRDPDAKAIADELTDGRFYYAKVASVTDAGVQPVYSLRVDTADHAFITNGFVSHN</td><td>653.4236</td><td>291.31682</td><td>104</td><td>8585.626</td><td>LLEELLLEEELLLLLEEEHHHLLLLLLLLEEEEEEEEEELLLLLEEEEEEEEEEEEEEEEEEEELLLLEEEEELLLEEEEEEEELLEEEEEEEEHHHLLLLLEEEEEHHHLLLLLLLLHHHHHHHLLLLLLHHHHHHHHHLLLEEEEEEEEEEEEEEEEEEEEEELLLLLEEEELLEEEEL</td><td>0</td><td> 4.9110617</td><td>0</td></tr>\n",
       "\t<tr><td>mutant   </td><td> 1</td><td>A </td><td>F </td><td>PHE</td><td>1AtoF</td><td>FSITGDALVALPEGESVRIADIVPGARPNSDNAIDLKVLDRHGNPVLADRLFHSGEHPVYAVRTVEGLRVTGTANHPLLCLVDVAGVPTLLWKLIDEIKPGDYAVIQRSAFSTVGVPGLVRFLEAHHRDPDAKAIADELTDGRFYYAKVASVTDAGVQPVYSLRVDTADHAFITNGFVSHN</td><td>603.7107</td><td>241.60395</td><td>104</td><td>8609.113</td><td>LLEELLLEEELLLLLEEEHHHLLLLLLLLEEEEEEEEEELLLLLEEEEEEEEEEEEEEEEEEEELLLLEEEEELLLEEEEEEEELLEEEEEEEEHHHLLLLLEEEEEHHHLLLLLLLLHHHHHHHLLLLLLHHHHHHHHHLLLEEEEEEEEEEEEEEEEEEEEEELLLLLEEEELLEEEEL</td><td>0</td><td>28.3985160</td><td>0</td></tr>\n",
       "\t<tr><td>mutant   </td><td> 1</td><td>A </td><td>G </td><td>GLY</td><td>1AtoG</td><td>GSITGDALVALPEGESVRIADIVPGARPNSDNAIDLKVLDRHGNPVLADRLFHSGEHPVYAVRTVEGLRVTGTANHPLLCLVDVAGVPTLLWKLIDEIKPGDYAVIQRSAFSTVGVPGLVRFLEAHHRDPDAKAIADELTDGRFYYAKVASVTDAGVQPVYSLRVDTADHAFITNGFVSHN</td><td>381.2703</td><td> 19.16354</td><td>104</td><td>8580.383</td><td>LLEELLLEEELLLLLEEEHHHLLLLLLLLEEEEEEEEEELLLLLEEEEEEEEEEEEEEEEEEEELLLLEEEEELLLEEEEEEEELLEEEEEEEEHHHLLLLLEEEEEHHHLLLLLLLLHHHHHHHLLLLLLHHHHHHHHHLLLEEEEEEEEEEEEEEEEEEEEEELLLLLEEEELLEEEEL</td><td>0</td><td>-0.3310385</td><td>0</td></tr>\n",
       "</tbody>\n",
       "</table>\n"
      ],
      "text/latex": [
       "A tibble: 6 × 15\n",
       "\\begin{tabular}{lllllllllllllll}\n",
       " type & residue\\_number & previous\\_aa & new\\_aa\\_1l & new\\_aa\\_3l & conversion & new\\_seq & fa\\_score & ddg\\_score & hbond\\_score & sasa\\_score & secondary\\_structure & diff\\_hbonds & diff\\_sasa & diff\\_secondary\\_structure\\\\\n",
       " <chr> & <dbl> & <chr> & <chr> & <chr> & <chr> & <chr> & <dbl> & <dbl> & <dbl> & <dbl> & <chr> & <dbl> & <dbl> & <dbl>\\\\\n",
       "\\hline\n",
       "\t wild\\_type & NA & NA & NA & NA  & NA    & ASITGDALVALPEGESVRIADIVPGARPNSDNAIDLKVLDRHGNPVLADRLFHSGEHPVYAVRTVEGLRVTGTANHPLLCLVDVAGVPTLLWKLIDEIKPGDYAVIQRSAFSTVGVPGLVRFLEAHHRDPDAKAIADELTDGRFYYAKVASVTDAGVQPVYSLRVDTADHAFITNGFVSHN & 362.1068 &   0.00000 & 104 & 8580.714 & LLEELLLEEELLLLLEEEHHHLLLLLLLLEEEEEEEEEELLLLLEEEEEEEEEEEEEEEEEEEELLLLEEEEELLLEEEEEEEELLEEEEEEEEHHHLLLLLEEEEEHHHLLLLLLLLHHHHHHHLLLLLLHHHHHHHHHLLLEEEEEEEEEEEEEEEEEEEEEELLLLLEEEELLEEEEL & 0 &  0.0000000 & 0\\\\\n",
       "\t mutant    &  1 & A  & C  & CYS & 1AtoC & CSITGDALVALPEGESVRIADIVPGARPNSDNAIDLKVLDRHGNPVLADRLFHSGEHPVYAVRTVEGLRVTGTANHPLLCLVDVAGVPTLLWKLIDEIKPGDYAVIQRSAFSTVGVPGLVRFLEAHHRDPDAKAIADELTDGRFYYAKVASVTDAGVQPVYSLRVDTADHAFITNGFVSHN & 413.7276 &  51.62086 & 104 & 8599.590 & LLEELLLEEELLLLLEEEHHHLLLLLLLLEEEEEEEEEELLLLLEEEEEEEEEEEEEEEEEEEELLLLEEEEELLLEEEEEEEELLEEEEEEEEHHHLLLLLEEEEEHHHLLLLLLLLHHHHHHHLLLLLLHHHHHHHHHLLLEEEEEEEEEEEEEEEEEEEEEELLLLLEEEELLEEEEL & 0 & 18.8757359 & 0\\\\\n",
       "\t mutant    &  1 & A  & D  & ASP & 1AtoD & DSITGDALVALPEGESVRIADIVPGARPNSDNAIDLKVLDRHGNPVLADRLFHSGEHPVYAVRTVEGLRVTGTANHPLLCLVDVAGVPTLLWKLIDEIKPGDYAVIQRSAFSTVGVPGLVRFLEAHHRDPDAKAIADELTDGRFYYAKVASVTDAGVQPVYSLRVDTADHAFITNGFVSHN & 446.3807 &  84.27391 & 104 & 8596.750 & LLEELLLEEELLLLLEEEHHHLLLLLLLLEEEEEEEEEELLLLLEEEEEEEEEEEEEEEEEEEELLLLEEEEELLLEEEEEEEELLEEEEEEEEHHHLLLLLEEEEEHHHLLLLLLLLHHHHHHHLLLLLLHHHHHHHHHLLLEEEEEEEEEEEEEEEEEEEEEELLLLLEEEELLEEEEL & 0 & 16.0355577 & 0\\\\\n",
       "\t mutant    &  1 & A  & E  & GLU & 1AtoE & ESITGDALVALPEGESVRIADIVPGARPNSDNAIDLKVLDRHGNPVLADRLFHSGEHPVYAVRTVEGLRVTGTANHPLLCLVDVAGVPTLLWKLIDEIKPGDYAVIQRSAFSTVGVPGLVRFLEAHHRDPDAKAIADELTDGRFYYAKVASVTDAGVQPVYSLRVDTADHAFITNGFVSHN & 653.4236 & 291.31682 & 104 & 8585.626 & LLEELLLEEELLLLLEEEHHHLLLLLLLLEEEEEEEEEELLLLLEEEEEEEEEEEEEEEEEEEELLLLEEEEELLLEEEEEEEELLEEEEEEEEHHHLLLLLEEEEEHHHLLLLLLLLHHHHHHHLLLLLLHHHHHHHHHLLLEEEEEEEEEEEEEEEEEEEEEELLLLLEEEELLEEEEL & 0 &  4.9110617 & 0\\\\\n",
       "\t mutant    &  1 & A  & F  & PHE & 1AtoF & FSITGDALVALPEGESVRIADIVPGARPNSDNAIDLKVLDRHGNPVLADRLFHSGEHPVYAVRTVEGLRVTGTANHPLLCLVDVAGVPTLLWKLIDEIKPGDYAVIQRSAFSTVGVPGLVRFLEAHHRDPDAKAIADELTDGRFYYAKVASVTDAGVQPVYSLRVDTADHAFITNGFVSHN & 603.7107 & 241.60395 & 104 & 8609.113 & LLEELLLEEELLLLLEEEHHHLLLLLLLLEEEEEEEEEELLLLLEEEEEEEEEEEEEEEEEEEELLLLEEEEELLLEEEEEEEELLEEEEEEEEHHHLLLLLEEEEEHHHLLLLLLLLHHHHHHHLLLLLLHHHHHHHHHLLLEEEEEEEEEEEEEEEEEEEEEELLLLLEEEELLEEEEL & 0 & 28.3985160 & 0\\\\\n",
       "\t mutant    &  1 & A  & G  & GLY & 1AtoG & GSITGDALVALPEGESVRIADIVPGARPNSDNAIDLKVLDRHGNPVLADRLFHSGEHPVYAVRTVEGLRVTGTANHPLLCLVDVAGVPTLLWKLIDEIKPGDYAVIQRSAFSTVGVPGLVRFLEAHHRDPDAKAIADELTDGRFYYAKVASVTDAGVQPVYSLRVDTADHAFITNGFVSHN & 381.2703 &  19.16354 & 104 & 8580.383 & LLEELLLEEELLLLLEEEHHHLLLLLLLLEEEEEEEEEELLLLLEEEEEEEEEEEEEEEEEEEELLLLEEEEELLLEEEEEEEELLEEEEEEEEHHHLLLLLEEEEEHHHLLLLLLLLHHHHHHHLLLLLLHHHHHHHHHLLLEEEEEEEEEEEEEEEEEEEEEELLLLLEEEELLEEEEL & 0 & -0.3310385 & 0\\\\\n",
       "\\end{tabular}\n"
      ],
      "text/markdown": [
       "\n",
       "A tibble: 6 × 15\n",
       "\n",
       "| type &lt;chr&gt; | residue_number &lt;dbl&gt; | previous_aa &lt;chr&gt; | new_aa_1l &lt;chr&gt; | new_aa_3l &lt;chr&gt; | conversion &lt;chr&gt; | new_seq &lt;chr&gt; | fa_score &lt;dbl&gt; | ddg_score &lt;dbl&gt; | hbond_score &lt;dbl&gt; | sasa_score &lt;dbl&gt; | secondary_structure &lt;chr&gt; | diff_hbonds &lt;dbl&gt; | diff_sasa &lt;dbl&gt; | diff_secondary_structure &lt;dbl&gt; |\n",
       "|---|---|---|---|---|---|---|---|---|---|---|---|---|---|---|\n",
       "| wild_type | NA | NA | NA | NA  | NA    | ASITGDALVALPEGESVRIADIVPGARPNSDNAIDLKVLDRHGNPVLADRLFHSGEHPVYAVRTVEGLRVTGTANHPLLCLVDVAGVPTLLWKLIDEIKPGDYAVIQRSAFSTVGVPGLVRFLEAHHRDPDAKAIADELTDGRFYYAKVASVTDAGVQPVYSLRVDTADHAFITNGFVSHN | 362.1068 |   0.00000 | 104 | 8580.714 | LLEELLLEEELLLLLEEEHHHLLLLLLLLEEEEEEEEEELLLLLEEEEEEEEEEEEEEEEEEEELLLLEEEEELLLEEEEEEEELLEEEEEEEEHHHLLLLLEEEEEHHHLLLLLLLLHHHHHHHLLLLLLHHHHHHHHHLLLEEEEEEEEEEEEEEEEEEEEEELLLLLEEEELLEEEEL | 0 |  0.0000000 | 0 |\n",
       "| mutant    |  1 | A  | C  | CYS | 1AtoC | CSITGDALVALPEGESVRIADIVPGARPNSDNAIDLKVLDRHGNPVLADRLFHSGEHPVYAVRTVEGLRVTGTANHPLLCLVDVAGVPTLLWKLIDEIKPGDYAVIQRSAFSTVGVPGLVRFLEAHHRDPDAKAIADELTDGRFYYAKVASVTDAGVQPVYSLRVDTADHAFITNGFVSHN | 413.7276 |  51.62086 | 104 | 8599.590 | LLEELLLEEELLLLLEEEHHHLLLLLLLLEEEEEEEEEELLLLLEEEEEEEEEEEEEEEEEEEELLLLEEEEELLLEEEEEEEELLEEEEEEEEHHHLLLLLEEEEEHHHLLLLLLLLHHHHHHHLLLLLLHHHHHHHHHLLLEEEEEEEEEEEEEEEEEEEEEELLLLLEEEELLEEEEL | 0 | 18.8757359 | 0 |\n",
       "| mutant    |  1 | A  | D  | ASP | 1AtoD | DSITGDALVALPEGESVRIADIVPGARPNSDNAIDLKVLDRHGNPVLADRLFHSGEHPVYAVRTVEGLRVTGTANHPLLCLVDVAGVPTLLWKLIDEIKPGDYAVIQRSAFSTVGVPGLVRFLEAHHRDPDAKAIADELTDGRFYYAKVASVTDAGVQPVYSLRVDTADHAFITNGFVSHN | 446.3807 |  84.27391 | 104 | 8596.750 | LLEELLLEEELLLLLEEEHHHLLLLLLLLEEEEEEEEEELLLLLEEEEEEEEEEEEEEEEEEEELLLLEEEEELLLEEEEEEEELLEEEEEEEEHHHLLLLLEEEEEHHHLLLLLLLLHHHHHHHLLLLLLHHHHHHHHHLLLEEEEEEEEEEEEEEEEEEEEEELLLLLEEEELLEEEEL | 0 | 16.0355577 | 0 |\n",
       "| mutant    |  1 | A  | E  | GLU | 1AtoE | ESITGDALVALPEGESVRIADIVPGARPNSDNAIDLKVLDRHGNPVLADRLFHSGEHPVYAVRTVEGLRVTGTANHPLLCLVDVAGVPTLLWKLIDEIKPGDYAVIQRSAFSTVGVPGLVRFLEAHHRDPDAKAIADELTDGRFYYAKVASVTDAGVQPVYSLRVDTADHAFITNGFVSHN | 653.4236 | 291.31682 | 104 | 8585.626 | LLEELLLEEELLLLLEEEHHHLLLLLLLLEEEEEEEEEELLLLLEEEEEEEEEEEEEEEEEEEELLLLEEEEELLLEEEEEEEELLEEEEEEEEHHHLLLLLEEEEEHHHLLLLLLLLHHHHHHHLLLLLLHHHHHHHHHLLLEEEEEEEEEEEEEEEEEEEEEELLLLLEEEELLEEEEL | 0 |  4.9110617 | 0 |\n",
       "| mutant    |  1 | A  | F  | PHE | 1AtoF | FSITGDALVALPEGESVRIADIVPGARPNSDNAIDLKVLDRHGNPVLADRLFHSGEHPVYAVRTVEGLRVTGTANHPLLCLVDVAGVPTLLWKLIDEIKPGDYAVIQRSAFSTVGVPGLVRFLEAHHRDPDAKAIADELTDGRFYYAKVASVTDAGVQPVYSLRVDTADHAFITNGFVSHN | 603.7107 | 241.60395 | 104 | 8609.113 | LLEELLLEEELLLLLEEEHHHLLLLLLLLEEEEEEEEEELLLLLEEEEEEEEEEEEEEEEEEEELLLLEEEEELLLEEEEEEEELLEEEEEEEEHHHLLLLLEEEEEHHHLLLLLLLLHHHHHHHLLLLLLHHHHHHHHHLLLEEEEEEEEEEEEEEEEEEEEEELLLLLEEEELLEEEEL | 0 | 28.3985160 | 0 |\n",
       "| mutant    |  1 | A  | G  | GLY | 1AtoG | GSITGDALVALPEGESVRIADIVPGARPNSDNAIDLKVLDRHGNPVLADRLFHSGEHPVYAVRTVEGLRVTGTANHPLLCLVDVAGVPTLLWKLIDEIKPGDYAVIQRSAFSTVGVPGLVRFLEAHHRDPDAKAIADELTDGRFYYAKVASVTDAGVQPVYSLRVDTADHAFITNGFVSHN | 381.2703 |  19.16354 | 104 | 8580.383 | LLEELLLEEELLLLLEEEHHHLLLLLLLLEEEEEEEEEELLLLLEEEEEEEEEEEEEEEEEEEELLLLEEEEELLLEEEEEEEELLEEEEEEEEHHHLLLLLEEEEEHHHLLLLLLLLHHHHHHHLLLLLLHHHHHHHHHLLLEEEEEEEEEEEEEEEEEEEEEELLLLLEEEELLEEEEL | 0 | -0.3310385 | 0 |\n",
       "\n"
      ],
      "text/plain": [
       "  type      residue_number previous_aa new_aa_1l new_aa_3l conversion\n",
       "1 wild_type NA             NA          NA        NA        NA        \n",
       "2 mutant     1             A           C         CYS       1AtoC     \n",
       "3 mutant     1             A           D         ASP       1AtoD     \n",
       "4 mutant     1             A           E         GLU       1AtoE     \n",
       "5 mutant     1             A           F         PHE       1AtoF     \n",
       "6 mutant     1             A           G         GLY       1AtoG     \n",
       "  new_seq                                                                                                                                                                              \n",
       "1 ASITGDALVALPEGESVRIADIVPGARPNSDNAIDLKVLDRHGNPVLADRLFHSGEHPVYAVRTVEGLRVTGTANHPLLCLVDVAGVPTLLWKLIDEIKPGDYAVIQRSAFSTVGVPGLVRFLEAHHRDPDAKAIADELTDGRFYYAKVASVTDAGVQPVYSLRVDTADHAFITNGFVSHN\n",
       "2 CSITGDALVALPEGESVRIADIVPGARPNSDNAIDLKVLDRHGNPVLADRLFHSGEHPVYAVRTVEGLRVTGTANHPLLCLVDVAGVPTLLWKLIDEIKPGDYAVIQRSAFSTVGVPGLVRFLEAHHRDPDAKAIADELTDGRFYYAKVASVTDAGVQPVYSLRVDTADHAFITNGFVSHN\n",
       "3 DSITGDALVALPEGESVRIADIVPGARPNSDNAIDLKVLDRHGNPVLADRLFHSGEHPVYAVRTVEGLRVTGTANHPLLCLVDVAGVPTLLWKLIDEIKPGDYAVIQRSAFSTVGVPGLVRFLEAHHRDPDAKAIADELTDGRFYYAKVASVTDAGVQPVYSLRVDTADHAFITNGFVSHN\n",
       "4 ESITGDALVALPEGESVRIADIVPGARPNSDNAIDLKVLDRHGNPVLADRLFHSGEHPVYAVRTVEGLRVTGTANHPLLCLVDVAGVPTLLWKLIDEIKPGDYAVIQRSAFSTVGVPGLVRFLEAHHRDPDAKAIADELTDGRFYYAKVASVTDAGVQPVYSLRVDTADHAFITNGFVSHN\n",
       "5 FSITGDALVALPEGESVRIADIVPGARPNSDNAIDLKVLDRHGNPVLADRLFHSGEHPVYAVRTVEGLRVTGTANHPLLCLVDVAGVPTLLWKLIDEIKPGDYAVIQRSAFSTVGVPGLVRFLEAHHRDPDAKAIADELTDGRFYYAKVASVTDAGVQPVYSLRVDTADHAFITNGFVSHN\n",
       "6 GSITGDALVALPEGESVRIADIVPGARPNSDNAIDLKVLDRHGNPVLADRLFHSGEHPVYAVRTVEGLRVTGTANHPLLCLVDVAGVPTLLWKLIDEIKPGDYAVIQRSAFSTVGVPGLVRFLEAHHRDPDAKAIADELTDGRFYYAKVASVTDAGVQPVYSLRVDTADHAFITNGFVSHN\n",
       "  fa_score ddg_score hbond_score sasa_score\n",
       "1 362.1068   0.00000 104         8580.714  \n",
       "2 413.7276  51.62086 104         8599.590  \n",
       "3 446.3807  84.27391 104         8596.750  \n",
       "4 653.4236 291.31682 104         8585.626  \n",
       "5 603.7107 241.60395 104         8609.113  \n",
       "6 381.2703  19.16354 104         8580.383  \n",
       "  secondary_structure                                                                                                                                                                  \n",
       "1 LLEELLLEEELLLLLEEEHHHLLLLLLLLEEEEEEEEEELLLLLEEEEEEEEEEEEEEEEEEEELLLLEEEEELLLEEEEEEEELLEEEEEEEEHHHLLLLLEEEEEHHHLLLLLLLLHHHHHHHLLLLLLHHHHHHHHHLLLEEEEEEEEEEEEEEEEEEEEEELLLLLEEEELLEEEEL\n",
       "2 LLEELLLEEELLLLLEEEHHHLLLLLLLLEEEEEEEEEELLLLLEEEEEEEEEEEEEEEEEEEELLLLEEEEELLLEEEEEEEELLEEEEEEEEHHHLLLLLEEEEEHHHLLLLLLLLHHHHHHHLLLLLLHHHHHHHHHLLLEEEEEEEEEEEEEEEEEEEEEELLLLLEEEELLEEEEL\n",
       "3 LLEELLLEEELLLLLEEEHHHLLLLLLLLEEEEEEEEEELLLLLEEEEEEEEEEEEEEEEEEEELLLLEEEEELLLEEEEEEEELLEEEEEEEEHHHLLLLLEEEEEHHHLLLLLLLLHHHHHHHLLLLLLHHHHHHHHHLLLEEEEEEEEEEEEEEEEEEEEEELLLLLEEEELLEEEEL\n",
       "4 LLEELLLEEELLLLLEEEHHHLLLLLLLLEEEEEEEEEELLLLLEEEEEEEEEEEEEEEEEEEELLLLEEEEELLLEEEEEEEELLEEEEEEEEHHHLLLLLEEEEEHHHLLLLLLLLHHHHHHHLLLLLLHHHHHHHHHLLLEEEEEEEEEEEEEEEEEEEEEELLLLLEEEELLEEEEL\n",
       "5 LLEELLLEEELLLLLEEEHHHLLLLLLLLEEEEEEEEEELLLLLEEEEEEEEEEEEEEEEEEEELLLLEEEEELLLEEEEEEEELLEEEEEEEEHHHLLLLLEEEEEHHHLLLLLLLLHHHHHHHLLLLLLHHHHHHHHHLLLEEEEEEEEEEEEEEEEEEEEEELLLLLEEEELLEEEEL\n",
       "6 LLEELLLEEELLLLLEEEHHHLLLLLLLLEEEEEEEEEELLLLLEEEEEEEEEEEEEEEEEEEELLLLEEEEELLLEEEEEEEELLEEEEEEEEHHHLLLLLEEEEEHHHLLLLLLLLHHHHHHHLLLLLLHHHHHHHHHLLLEEEEEEEEEEEEEEEEEEEEEELLLLLEEEELLEEEEL\n",
       "  diff_hbonds diff_sasa  diff_secondary_structure\n",
       "1 0            0.0000000 0                       \n",
       "2 0           18.8757359 0                       \n",
       "3 0           16.0355577 0                       \n",
       "4 0            4.9110617 0                       \n",
       "5 0           28.3985160 0                       \n",
       "6 0           -0.3310385 0                       "
      ]
     },
     "metadata": {},
     "output_type": "display_data"
    }
   ],
   "source": [
    "intein <- read_csv(\"intein.csv\")\n",
    "head(intein)"
   ]
  },
  {
   "cell_type": "markdown",
   "id": "f80c7401-4bc6-4b2f-a366-8aa55056f2d9",
   "metadata": {},
   "source": [
    "#### Increasing readability \n",
    "Removing the new_seq and secondary sequence of the file to incrase readability."
   ]
  },
  {
   "cell_type": "code",
   "execution_count": 4,
   "id": "230ccf55-498b-446d-8ef5-8a3b544bd63c",
   "metadata": {},
   "outputs": [
    {
     "data": {
      "text/html": [
       "<table class=\"dataframe\">\n",
       "<caption>A tibble: 19 × 13</caption>\n",
       "<thead>\n",
       "\t<tr><th scope=col>type</th><th scope=col>residue_number</th><th scope=col>previous_aa</th><th scope=col>new_aa_1l</th><th scope=col>new_aa_3l</th><th scope=col>conversion</th><th scope=col>fa_score</th><th scope=col>ddg_score</th><th scope=col>hbond_score</th><th scope=col>sasa_score</th><th scope=col>diff_hbonds</th><th scope=col>diff_sasa</th><th scope=col>diff_secondary_structure</th></tr>\n",
       "\t<tr><th scope=col>&lt;chr&gt;</th><th scope=col>&lt;dbl&gt;</th><th scope=col>&lt;chr&gt;</th><th scope=col>&lt;chr&gt;</th><th scope=col>&lt;chr&gt;</th><th scope=col>&lt;chr&gt;</th><th scope=col>&lt;dbl&gt;</th><th scope=col>&lt;dbl&gt;</th><th scope=col>&lt;dbl&gt;</th><th scope=col>&lt;dbl&gt;</th><th scope=col>&lt;dbl&gt;</th><th scope=col>&lt;dbl&gt;</th><th scope=col>&lt;dbl&gt;</th></tr>\n",
       "</thead>\n",
       "<tbody>\n",
       "\t<tr><td>wild_type</td><td>NA</td><td>NA</td><td>NA</td><td>NA </td><td>NA   </td><td>362.1068</td><td>  0.00000</td><td>104</td><td>8580.714</td><td>0</td><td> 0.0000000</td><td>0</td></tr>\n",
       "\t<tr><td>mutant   </td><td> 1</td><td>A </td><td>C </td><td>CYS</td><td>1AtoC</td><td>413.7276</td><td> 51.62086</td><td>104</td><td>8599.590</td><td>0</td><td>18.8757359</td><td>0</td></tr>\n",
       "\t<tr><td>mutant   </td><td> 1</td><td>A </td><td>D </td><td>ASP</td><td>1AtoD</td><td>446.3807</td><td> 84.27391</td><td>104</td><td>8596.750</td><td>0</td><td>16.0355577</td><td>0</td></tr>\n",
       "\t<tr><td>mutant   </td><td> 1</td><td>A </td><td>E </td><td>GLU</td><td>1AtoE</td><td>653.4236</td><td>291.31682</td><td>104</td><td>8585.626</td><td>0</td><td> 4.9110617</td><td>0</td></tr>\n",
       "\t<tr><td>mutant   </td><td> 1</td><td>A </td><td>F </td><td>PHE</td><td>1AtoF</td><td>603.7107</td><td>241.60395</td><td>104</td><td>8609.113</td><td>0</td><td>28.3985160</td><td>0</td></tr>\n",
       "\t<tr><td>mutant   </td><td> 1</td><td>A </td><td>G </td><td>GLY</td><td>1AtoG</td><td>381.2703</td><td> 19.16354</td><td>104</td><td>8580.383</td><td>0</td><td>-0.3310385</td><td>0</td></tr>\n",
       "\t<tr><td>mutant   </td><td> 1</td><td>A </td><td>H </td><td>HIS</td><td>1AtoH</td><td>563.1880</td><td>201.08122</td><td>104</td><td>8605.460</td><td>0</td><td>24.7456582</td><td>0</td></tr>\n",
       "\t<tr><td>mutant   </td><td> 1</td><td>A </td><td>I </td><td>ILE</td><td>1AtoI</td><td>775.3325</td><td>413.22575</td><td>104</td><td>8579.630</td><td>0</td><td>-1.0846174</td><td>0</td></tr>\n",
       "\t<tr><td>mutant   </td><td> 1</td><td>A </td><td>K </td><td>LYS</td><td>1AtoK</td><td>685.2661</td><td>323.15931</td><td>104</td><td>8599.793</td><td>0</td><td>19.0785819</td><td>0</td></tr>\n",
       "\t<tr><td>mutant   </td><td> 1</td><td>A </td><td>L </td><td>LEU</td><td>1AtoL</td><td>650.8158</td><td>288.70903</td><td>104</td><td>8609.428</td><td>0</td><td>28.7134820</td><td>0</td></tr>\n",
       "\t<tr><td>mutant   </td><td> 1</td><td>A </td><td>M </td><td>MET</td><td>1AtoM</td><td>732.2415</td><td>370.13468</td><td>104</td><td>8589.739</td><td>0</td><td> 9.0243762</td><td>0</td></tr>\n",
       "\t<tr><td>mutant   </td><td> 1</td><td>A </td><td>N </td><td>ASN</td><td>1AtoN</td><td>448.5362</td><td> 86.42937</td><td>104</td><td>8601.840</td><td>0</td><td>21.1257212</td><td>0</td></tr>\n",
       "\t<tr><td>mutant   </td><td> 1</td><td>A </td><td>P </td><td>PRO</td><td>1AtoP</td><td>486.3492</td><td>124.24242</td><td>104</td><td>8586.973</td><td>0</td><td> 6.2582465</td><td>0</td></tr>\n",
       "\t<tr><td>mutant   </td><td> 1</td><td>A </td><td>Q </td><td>GLN</td><td>1AtoQ</td><td>662.3435</td><td>300.23670</td><td>104</td><td>8589.304</td><td>0</td><td> 8.5900452</td><td>0</td></tr>\n",
       "\t<tr><td>mutant   </td><td> 1</td><td>A </td><td>R </td><td>ARG</td><td>1AtoR</td><td>805.8094</td><td>443.70259</td><td>104</td><td>8598.415</td><td>0</td><td>17.7007414</td><td>0</td></tr>\n",
       "\t<tr><td>mutant   </td><td> 1</td><td>A </td><td>S </td><td>SER</td><td>1AtoS</td><td>404.5572</td><td> 42.45038</td><td>104</td><td>8585.613</td><td>0</td><td> 4.8983170</td><td>0</td></tr>\n",
       "\t<tr><td>mutant   </td><td> 1</td><td>A </td><td>T </td><td>THR</td><td>1AtoT</td><td>534.5724</td><td>172.46561</td><td>104</td><td>8571.285</td><td>0</td><td>-9.4293624</td><td>0</td></tr>\n",
       "\t<tr><td>mutant   </td><td> 1</td><td>A </td><td>V </td><td>VAL</td><td>1AtoV</td><td>489.0009</td><td>126.89415</td><td>104</td><td>8587.884</td><td>0</td><td> 7.1691998</td><td>0</td></tr>\n",
       "\t<tr><td>mutant   </td><td> 1</td><td>A </td><td>W </td><td>TRP</td><td>1AtoW</td><td>525.0113</td><td>162.90447</td><td>104</td><td>8634.409</td><td>0</td><td>53.6947442</td><td>0</td></tr>\n",
       "</tbody>\n",
       "</table>\n"
      ],
      "text/latex": [
       "A tibble: 19 × 13\n",
       "\\begin{tabular}{lllllllllllll}\n",
       " type & residue\\_number & previous\\_aa & new\\_aa\\_1l & new\\_aa\\_3l & conversion & fa\\_score & ddg\\_score & hbond\\_score & sasa\\_score & diff\\_hbonds & diff\\_sasa & diff\\_secondary\\_structure\\\\\n",
       " <chr> & <dbl> & <chr> & <chr> & <chr> & <chr> & <dbl> & <dbl> & <dbl> & <dbl> & <dbl> & <dbl> & <dbl>\\\\\n",
       "\\hline\n",
       "\t wild\\_type & NA & NA & NA & NA  & NA    & 362.1068 &   0.00000 & 104 & 8580.714 & 0 &  0.0000000 & 0\\\\\n",
       "\t mutant    &  1 & A  & C  & CYS & 1AtoC & 413.7276 &  51.62086 & 104 & 8599.590 & 0 & 18.8757359 & 0\\\\\n",
       "\t mutant    &  1 & A  & D  & ASP & 1AtoD & 446.3807 &  84.27391 & 104 & 8596.750 & 0 & 16.0355577 & 0\\\\\n",
       "\t mutant    &  1 & A  & E  & GLU & 1AtoE & 653.4236 & 291.31682 & 104 & 8585.626 & 0 &  4.9110617 & 0\\\\\n",
       "\t mutant    &  1 & A  & F  & PHE & 1AtoF & 603.7107 & 241.60395 & 104 & 8609.113 & 0 & 28.3985160 & 0\\\\\n",
       "\t mutant    &  1 & A  & G  & GLY & 1AtoG & 381.2703 &  19.16354 & 104 & 8580.383 & 0 & -0.3310385 & 0\\\\\n",
       "\t mutant    &  1 & A  & H  & HIS & 1AtoH & 563.1880 & 201.08122 & 104 & 8605.460 & 0 & 24.7456582 & 0\\\\\n",
       "\t mutant    &  1 & A  & I  & ILE & 1AtoI & 775.3325 & 413.22575 & 104 & 8579.630 & 0 & -1.0846174 & 0\\\\\n",
       "\t mutant    &  1 & A  & K  & LYS & 1AtoK & 685.2661 & 323.15931 & 104 & 8599.793 & 0 & 19.0785819 & 0\\\\\n",
       "\t mutant    &  1 & A  & L  & LEU & 1AtoL & 650.8158 & 288.70903 & 104 & 8609.428 & 0 & 28.7134820 & 0\\\\\n",
       "\t mutant    &  1 & A  & M  & MET & 1AtoM & 732.2415 & 370.13468 & 104 & 8589.739 & 0 &  9.0243762 & 0\\\\\n",
       "\t mutant    &  1 & A  & N  & ASN & 1AtoN & 448.5362 &  86.42937 & 104 & 8601.840 & 0 & 21.1257212 & 0\\\\\n",
       "\t mutant    &  1 & A  & P  & PRO & 1AtoP & 486.3492 & 124.24242 & 104 & 8586.973 & 0 &  6.2582465 & 0\\\\\n",
       "\t mutant    &  1 & A  & Q  & GLN & 1AtoQ & 662.3435 & 300.23670 & 104 & 8589.304 & 0 &  8.5900452 & 0\\\\\n",
       "\t mutant    &  1 & A  & R  & ARG & 1AtoR & 805.8094 & 443.70259 & 104 & 8598.415 & 0 & 17.7007414 & 0\\\\\n",
       "\t mutant    &  1 & A  & S  & SER & 1AtoS & 404.5572 &  42.45038 & 104 & 8585.613 & 0 &  4.8983170 & 0\\\\\n",
       "\t mutant    &  1 & A  & T  & THR & 1AtoT & 534.5724 & 172.46561 & 104 & 8571.285 & 0 & -9.4293624 & 0\\\\\n",
       "\t mutant    &  1 & A  & V  & VAL & 1AtoV & 489.0009 & 126.89415 & 104 & 8587.884 & 0 &  7.1691998 & 0\\\\\n",
       "\t mutant    &  1 & A  & W  & TRP & 1AtoW & 525.0113 & 162.90447 & 104 & 8634.409 & 0 & 53.6947442 & 0\\\\\n",
       "\\end{tabular}\n"
      ],
      "text/markdown": [
       "\n",
       "A tibble: 19 × 13\n",
       "\n",
       "| type &lt;chr&gt; | residue_number &lt;dbl&gt; | previous_aa &lt;chr&gt; | new_aa_1l &lt;chr&gt; | new_aa_3l &lt;chr&gt; | conversion &lt;chr&gt; | fa_score &lt;dbl&gt; | ddg_score &lt;dbl&gt; | hbond_score &lt;dbl&gt; | sasa_score &lt;dbl&gt; | diff_hbonds &lt;dbl&gt; | diff_sasa &lt;dbl&gt; | diff_secondary_structure &lt;dbl&gt; |\n",
       "|---|---|---|---|---|---|---|---|---|---|---|---|---|\n",
       "| wild_type | NA | NA | NA | NA  | NA    | 362.1068 |   0.00000 | 104 | 8580.714 | 0 |  0.0000000 | 0 |\n",
       "| mutant    |  1 | A  | C  | CYS | 1AtoC | 413.7276 |  51.62086 | 104 | 8599.590 | 0 | 18.8757359 | 0 |\n",
       "| mutant    |  1 | A  | D  | ASP | 1AtoD | 446.3807 |  84.27391 | 104 | 8596.750 | 0 | 16.0355577 | 0 |\n",
       "| mutant    |  1 | A  | E  | GLU | 1AtoE | 653.4236 | 291.31682 | 104 | 8585.626 | 0 |  4.9110617 | 0 |\n",
       "| mutant    |  1 | A  | F  | PHE | 1AtoF | 603.7107 | 241.60395 | 104 | 8609.113 | 0 | 28.3985160 | 0 |\n",
       "| mutant    |  1 | A  | G  | GLY | 1AtoG | 381.2703 |  19.16354 | 104 | 8580.383 | 0 | -0.3310385 | 0 |\n",
       "| mutant    |  1 | A  | H  | HIS | 1AtoH | 563.1880 | 201.08122 | 104 | 8605.460 | 0 | 24.7456582 | 0 |\n",
       "| mutant    |  1 | A  | I  | ILE | 1AtoI | 775.3325 | 413.22575 | 104 | 8579.630 | 0 | -1.0846174 | 0 |\n",
       "| mutant    |  1 | A  | K  | LYS | 1AtoK | 685.2661 | 323.15931 | 104 | 8599.793 | 0 | 19.0785819 | 0 |\n",
       "| mutant    |  1 | A  | L  | LEU | 1AtoL | 650.8158 | 288.70903 | 104 | 8609.428 | 0 | 28.7134820 | 0 |\n",
       "| mutant    |  1 | A  | M  | MET | 1AtoM | 732.2415 | 370.13468 | 104 | 8589.739 | 0 |  9.0243762 | 0 |\n",
       "| mutant    |  1 | A  | N  | ASN | 1AtoN | 448.5362 |  86.42937 | 104 | 8601.840 | 0 | 21.1257212 | 0 |\n",
       "| mutant    |  1 | A  | P  | PRO | 1AtoP | 486.3492 | 124.24242 | 104 | 8586.973 | 0 |  6.2582465 | 0 |\n",
       "| mutant    |  1 | A  | Q  | GLN | 1AtoQ | 662.3435 | 300.23670 | 104 | 8589.304 | 0 |  8.5900452 | 0 |\n",
       "| mutant    |  1 | A  | R  | ARG | 1AtoR | 805.8094 | 443.70259 | 104 | 8598.415 | 0 | 17.7007414 | 0 |\n",
       "| mutant    |  1 | A  | S  | SER | 1AtoS | 404.5572 |  42.45038 | 104 | 8585.613 | 0 |  4.8983170 | 0 |\n",
       "| mutant    |  1 | A  | T  | THR | 1AtoT | 534.5724 | 172.46561 | 104 | 8571.285 | 0 | -9.4293624 | 0 |\n",
       "| mutant    |  1 | A  | V  | VAL | 1AtoV | 489.0009 | 126.89415 | 104 | 8587.884 | 0 |  7.1691998 | 0 |\n",
       "| mutant    |  1 | A  | W  | TRP | 1AtoW | 525.0113 | 162.90447 | 104 | 8634.409 | 0 | 53.6947442 | 0 |\n",
       "\n"
      ],
      "text/plain": [
       "   type      residue_number previous_aa new_aa_1l new_aa_3l conversion fa_score\n",
       "1  wild_type NA             NA          NA        NA        NA         362.1068\n",
       "2  mutant     1             A           C         CYS       1AtoC      413.7276\n",
       "3  mutant     1             A           D         ASP       1AtoD      446.3807\n",
       "4  mutant     1             A           E         GLU       1AtoE      653.4236\n",
       "5  mutant     1             A           F         PHE       1AtoF      603.7107\n",
       "6  mutant     1             A           G         GLY       1AtoG      381.2703\n",
       "7  mutant     1             A           H         HIS       1AtoH      563.1880\n",
       "8  mutant     1             A           I         ILE       1AtoI      775.3325\n",
       "9  mutant     1             A           K         LYS       1AtoK      685.2661\n",
       "10 mutant     1             A           L         LEU       1AtoL      650.8158\n",
       "11 mutant     1             A           M         MET       1AtoM      732.2415\n",
       "12 mutant     1             A           N         ASN       1AtoN      448.5362\n",
       "13 mutant     1             A           P         PRO       1AtoP      486.3492\n",
       "14 mutant     1             A           Q         GLN       1AtoQ      662.3435\n",
       "15 mutant     1             A           R         ARG       1AtoR      805.8094\n",
       "16 mutant     1             A           S         SER       1AtoS      404.5572\n",
       "17 mutant     1             A           T         THR       1AtoT      534.5724\n",
       "18 mutant     1             A           V         VAL       1AtoV      489.0009\n",
       "19 mutant     1             A           W         TRP       1AtoW      525.0113\n",
       "   ddg_score hbond_score sasa_score diff_hbonds diff_sasa \n",
       "1    0.00000 104         8580.714   0            0.0000000\n",
       "2   51.62086 104         8599.590   0           18.8757359\n",
       "3   84.27391 104         8596.750   0           16.0355577\n",
       "4  291.31682 104         8585.626   0            4.9110617\n",
       "5  241.60395 104         8609.113   0           28.3985160\n",
       "6   19.16354 104         8580.383   0           -0.3310385\n",
       "7  201.08122 104         8605.460   0           24.7456582\n",
       "8  413.22575 104         8579.630   0           -1.0846174\n",
       "9  323.15931 104         8599.793   0           19.0785819\n",
       "10 288.70903 104         8609.428   0           28.7134820\n",
       "11 370.13468 104         8589.739   0            9.0243762\n",
       "12  86.42937 104         8601.840   0           21.1257212\n",
       "13 124.24242 104         8586.973   0            6.2582465\n",
       "14 300.23670 104         8589.304   0            8.5900452\n",
       "15 443.70259 104         8598.415   0           17.7007414\n",
       "16  42.45038 104         8585.613   0            4.8983170\n",
       "17 172.46561 104         8571.285   0           -9.4293624\n",
       "18 126.89415 104         8587.884   0            7.1691998\n",
       "19 162.90447 104         8634.409   0           53.6947442\n",
       "   diff_secondary_structure\n",
       "1  0                       \n",
       "2  0                       \n",
       "3  0                       \n",
       "4  0                       \n",
       "5  0                       \n",
       "6  0                       \n",
       "7  0                       \n",
       "8  0                       \n",
       "9  0                       \n",
       "10 0                       \n",
       "11 0                       \n",
       "12 0                       \n",
       "13 0                       \n",
       "14 0                       \n",
       "15 0                       \n",
       "16 0                       \n",
       "17 0                       \n",
       "18 0                       \n",
       "19 0                       "
      ]
     },
     "metadata": {},
     "output_type": "display_data"
    }
   ],
   "source": [
    "intein_short <- intein |> select(-c(new_seq, secondary_structure))\n",
    "head(intein_short , n = 19)"
   ]
  },
  {
   "cell_type": "markdown",
   "id": "a3e901eb-7b27-43fa-9269-e0880fd81de4",
   "metadata": {
    "tags": []
   },
   "source": [
    "## General Analysis\n",
    "A general analysis of all of the mutations. In section of analysis no grouping has been done and single mutation are analyzed individually. "
   ]
  },
  {
   "cell_type": "markdown",
   "id": "8e60b71a-4c77-4114-9dcc-592fdb25f3ef",
   "metadata": {},
   "source": [
    "### Delta Delta G Analysis \n",
    "Creating a histogram of DDG. Wildtype value is 0 as all of the ddg score all calculated relative to wild-type\n",
    "> Unlike the `docked_analysis` notebook where there were some mutations that resulted in a lower ΔΔG, such mutation is not observed here. There are **two interesting patterns** here. Firstly, it seems that the **majority of the mutations are not changing ΔΔG** and **the ones that are changing it are only increaseing the ΔΔG**"
   ]
  },
  {
   "cell_type": "code",
   "execution_count": 5,
   "id": "2116b553-b955-4129-a5f2-e24c8f955142",
   "metadata": {},
   "outputs": [
    {
     "name": "stderr",
     "output_type": "stream",
     "text": [
      "Warning message:\n",
      "“\u001b[1m\u001b[22mThe `size` argument of `element_line()` is deprecated as of ggplot2 3.4.0.\n",
      "\u001b[36mℹ\u001b[39m Please use the `linewidth` argument instead.”\n",
      "Warning message:\n",
      "“\u001b[1m\u001b[22mUsing `size` aesthetic for lines was deprecated in ggplot2 3.4.0.\n",
      "\u001b[36mℹ\u001b[39m Please use `linewidth` instead.”\n"
     ]
    },
    {
     "data": {
      "image/png": "[encoded data removed]",
      "text/plain": [
       "plot without title"
      ]
     },
     "metadata": {
      "image/png": {
       "height": 420,
       "width": 420
      }
     },
     "output_type": "display_data"
    }
   ],
   "source": [
    "wildtype_ddg <- (intein_short |> filter(type == \"wild_type\"))$ddg_score\n",
    "intein_short |> ggplot(aes(ddg_score)) + \n",
    "    geom_histogram(fill = \"#1DB954\", bins = 30) + \n",
    "    theme(plot.title = element_text(hjust = 0, size = 16, face = \"bold\", color = \"white\"),\n",
    "        axis.title = element_text(size = 14, face = \"bold\", color = \"white\"),\n",
    "        axis.text = element_text(size = 12),\n",
    "        plot.background = element_rect(fill = \"#191919\"),\n",
    "        panel.background = element_blank(),\n",
    "        panel.grid.major.y = element_blank(),\n",
    "        panel.grid.minor.y = element_blank(),\n",
    "        panel.grid.major.x = element_line(color = \"gray90\", size = 0.5),\n",
    "        panel.grid.minor.x = element_blank()) +\n",
    "  ggtitle(\"Histogram of delta delta g in single intein\") +\n",
    "  labs(x = \"Delta delta G energy score\", y = \"count\") +\n",
    "  geom_vline(xintercept = wildtype_ddg, color = \"red\", size = 1.5, linetype = \"dashed\") +\n",
    "  theme(plot.margin = unit(c(1, 1, 1, 0.5), \"cm\"))"
   ]
  },
  {
   "cell_type": "markdown",
   "id": "945d22c3-7417-4433-90f9-58e6ee7cb45c",
   "metadata": {},
   "source": [
    "#### Taking a look at the higher end\n",
    "Let's see if we can find a pattern on ΔΔG scores higher than `2000`. The data can be found in the cell below.\n",
    "\n",
    "**With regard to previous amino acid:**\n",
    "> It seems that the **previous amino acid A is considerably common here**. **34 out of 85 amino acids** (of mutations with ΔΔG scores higher than `2000`) were the ones that the mutated amino acid was A. In other words, **amino acid A was the one that was being replaced**. \n",
    "\n",
    "**With regard to new amino acid:**\n",
    "> When **amino acids P or W are added** as a result of the point mutation, the **ΔΔG score was spiked.** These two amino acids are responsible for **61 out 85 mutations** in the filtered data frame. \n",
    "\n",
    "*Combining both of the data above:*\n",
    "> In 40 of the mutation in 85 (85 mutations with ΔΔG > 2000) an amino acids was converted to P. However, **in none of those mutations A was converted to P** which in first glance may seem ordinary because both **A and P are in the same amino acid group** (Amino acids with a nonpolar R group). **W is also in this group but conversion of A -> W is observed among the 85**.\n",
    "\n",
    "So what happens when A -> P?"
   ]
  },
  {
   "cell_type": "code",
   "execution_count": 6,
   "id": "c509985d-d755-4a88-b1d1-ce49d505cc22",
   "metadata": {},
   "outputs": [
    {
     "data": {
      "text/html": [
       "<table class=\"dataframe\">\n",
       "<caption>A tibble: 10 × 13</caption>\n",
       "<thead>\n",
       "\t<tr><th scope=col>type</th><th scope=col>residue_number</th><th scope=col>previous_aa</th><th scope=col>new_aa_1l</th><th scope=col>new_aa_3l</th><th scope=col>conversion</th><th scope=col>fa_score</th><th scope=col>ddg_score</th><th scope=col>hbond_score</th><th scope=col>sasa_score</th><th scope=col>diff_hbonds</th><th scope=col>diff_sasa</th><th scope=col>diff_secondary_structure</th></tr>\n",
       "\t<tr><th scope=col>&lt;chr&gt;</th><th scope=col>&lt;dbl&gt;</th><th scope=col>&lt;chr&gt;</th><th scope=col>&lt;chr&gt;</th><th scope=col>&lt;chr&gt;</th><th scope=col>&lt;chr&gt;</th><th scope=col>&lt;dbl&gt;</th><th scope=col>&lt;dbl&gt;</th><th scope=col>&lt;dbl&gt;</th><th scope=col>&lt;dbl&gt;</th><th scope=col>&lt;dbl&gt;</th><th scope=col>&lt;dbl&gt;</th><th scope=col>&lt;dbl&gt;</th></tr>\n",
       "</thead>\n",
       "<tbody>\n",
       "\t<tr><td>mutant</td><td>132</td><td>A</td><td>W</td><td>TRP</td><td>132AtoW</td><td>5813.795</td><td>5451.688</td><td>104</td><td>8575.758</td><td> 0</td><td> -4.9563240</td><td>0</td></tr>\n",
       "\t<tr><td>mutant</td><td>148</td><td>K</td><td>P</td><td>PRO</td><td>148KtoP</td><td>5153.361</td><td>4791.254</td><td>104</td><td>8581.174</td><td> 0</td><td>  0.4598051</td><td>0</td></tr>\n",
       "\t<tr><td>mutant</td><td>  7</td><td>A</td><td>W</td><td>TRP</td><td>7AtoW  </td><td>4970.983</td><td>4608.876</td><td>104</td><td>8580.268</td><td> 0</td><td> -0.4468043</td><td>0</td></tr>\n",
       "\t<tr><td>mutant</td><td>164</td><td>R</td><td>P</td><td>PRO</td><td>164RtoP</td><td>4513.665</td><td>4151.558</td><td>103</td><td>8581.808</td><td>-1</td><td>  1.0936000</td><td>2</td></tr>\n",
       "\t<tr><td>mutant</td><td>155</td><td>A</td><td>W</td><td>TRP</td><td>155AtoW</td><td>4254.719</td><td>3892.613</td><td>104</td><td>8576.253</td><td> 0</td><td> -4.4617985</td><td>0</td></tr>\n",
       "\t<tr><td>mutant</td><td>110</td><td>A</td><td>W</td><td>TRP</td><td>110AtoW</td><td>4057.646</td><td>3695.539</td><td>104</td><td>8582.607</td><td> 0</td><td>  1.8925342</td><td>0</td></tr>\n",
       "\t<tr><td>mutant</td><td>133</td><td>K</td><td>P</td><td>PRO</td><td>133KtoP</td><td>3947.401</td><td>3585.294</td><td>104</td><td>8550.383</td><td> 0</td><td>-30.3313091</td><td>0</td></tr>\n",
       "\t<tr><td>mutant</td><td> 50</td><td>R</td><td>P</td><td>PRO</td><td>50RtoP </td><td>3926.097</td><td>3563.990</td><td>103</td><td>8538.889</td><td>-1</td><td>-41.8252796</td><td>0</td></tr>\n",
       "\t<tr><td>mutant</td><td>132</td><td>A</td><td>Y</td><td>TYR</td><td>132AtoY</td><td>3913.528</td><td>3551.421</td><td>104</td><td>8578.710</td><td> 0</td><td> -2.0048015</td><td>0</td></tr>\n",
       "\t<tr><td>mutant</td><td> 41</td><td>R</td><td>P</td><td>PRO</td><td>41RtoP </td><td>3905.914</td><td>3543.807</td><td>104</td><td>8600.865</td><td> 0</td><td> 20.1501830</td><td>0</td></tr>\n",
       "</tbody>\n",
       "</table>\n"
      ],
      "text/latex": [
       "A tibble: 10 × 13\n",
       "\\begin{tabular}{lllllllllllll}\n",
       " type & residue\\_number & previous\\_aa & new\\_aa\\_1l & new\\_aa\\_3l & conversion & fa\\_score & ddg\\_score & hbond\\_score & sasa\\_score & diff\\_hbonds & diff\\_sasa & diff\\_secondary\\_structure\\\\\n",
       " <chr> & <dbl> & <chr> & <chr> & <chr> & <chr> & <dbl> & <dbl> & <dbl> & <dbl> & <dbl> & <dbl> & <dbl>\\\\\n",
       "\\hline\n",
       "\t mutant & 132 & A & W & TRP & 132AtoW & 5813.795 & 5451.688 & 104 & 8575.758 &  0 &  -4.9563240 & 0\\\\\n",
       "\t mutant & 148 & K & P & PRO & 148KtoP & 5153.361 & 4791.254 & 104 & 8581.174 &  0 &   0.4598051 & 0\\\\\n",
       "\t mutant &   7 & A & W & TRP & 7AtoW   & 4970.983 & 4608.876 & 104 & 8580.268 &  0 &  -0.4468043 & 0\\\\\n",
       "\t mutant & 164 & R & P & PRO & 164RtoP & 4513.665 & 4151.558 & 103 & 8581.808 & -1 &   1.0936000 & 2\\\\\n",
       "\t mutant & 155 & A & W & TRP & 155AtoW & 4254.719 & 3892.613 & 104 & 8576.253 &  0 &  -4.4617985 & 0\\\\\n",
       "\t mutant & 110 & A & W & TRP & 110AtoW & 4057.646 & 3695.539 & 104 & 8582.607 &  0 &   1.8925342 & 0\\\\\n",
       "\t mutant & 133 & K & P & PRO & 133KtoP & 3947.401 & 3585.294 & 104 & 8550.383 &  0 & -30.3313091 & 0\\\\\n",
       "\t mutant &  50 & R & P & PRO & 50RtoP  & 3926.097 & 3563.990 & 103 & 8538.889 & -1 & -41.8252796 & 0\\\\\n",
       "\t mutant & 132 & A & Y & TYR & 132AtoY & 3913.528 & 3551.421 & 104 & 8578.710 &  0 &  -2.0048015 & 0\\\\\n",
       "\t mutant &  41 & R & P & PRO & 41RtoP  & 3905.914 & 3543.807 & 104 & 8600.865 &  0 &  20.1501830 & 0\\\\\n",
       "\\end{tabular}\n"
      ],
      "text/markdown": [
       "\n",
       "A tibble: 10 × 13\n",
       "\n",
       "| type &lt;chr&gt; | residue_number &lt;dbl&gt; | previous_aa &lt;chr&gt; | new_aa_1l &lt;chr&gt; | new_aa_3l &lt;chr&gt; | conversion &lt;chr&gt; | fa_score &lt;dbl&gt; | ddg_score &lt;dbl&gt; | hbond_score &lt;dbl&gt; | sasa_score &lt;dbl&gt; | diff_hbonds &lt;dbl&gt; | diff_sasa &lt;dbl&gt; | diff_secondary_structure &lt;dbl&gt; |\n",
       "|---|---|---|---|---|---|---|---|---|---|---|---|---|\n",
       "| mutant | 132 | A | W | TRP | 132AtoW | 5813.795 | 5451.688 | 104 | 8575.758 |  0 |  -4.9563240 | 0 |\n",
       "| mutant | 148 | K | P | PRO | 148KtoP | 5153.361 | 4791.254 | 104 | 8581.174 |  0 |   0.4598051 | 0 |\n",
       "| mutant |   7 | A | W | TRP | 7AtoW   | 4970.983 | 4608.876 | 104 | 8580.268 |  0 |  -0.4468043 | 0 |\n",
       "| mutant | 164 | R | P | PRO | 164RtoP | 4513.665 | 4151.558 | 103 | 8581.808 | -1 |   1.0936000 | 2 |\n",
       "| mutant | 155 | A | W | TRP | 155AtoW | 4254.719 | 3892.613 | 104 | 8576.253 |  0 |  -4.4617985 | 0 |\n",
       "| mutant | 110 | A | W | TRP | 110AtoW | 4057.646 | 3695.539 | 104 | 8582.607 |  0 |   1.8925342 | 0 |\n",
       "| mutant | 133 | K | P | PRO | 133KtoP | 3947.401 | 3585.294 | 104 | 8550.383 |  0 | -30.3313091 | 0 |\n",
       "| mutant |  50 | R | P | PRO | 50RtoP  | 3926.097 | 3563.990 | 103 | 8538.889 | -1 | -41.8252796 | 0 |\n",
       "| mutant | 132 | A | Y | TYR | 132AtoY | 3913.528 | 3551.421 | 104 | 8578.710 |  0 |  -2.0048015 | 0 |\n",
       "| mutant |  41 | R | P | PRO | 41RtoP  | 3905.914 | 3543.807 | 104 | 8600.865 |  0 |  20.1501830 | 0 |\n",
       "\n"
      ],
      "text/plain": [
       "   type   residue_number previous_aa new_aa_1l new_aa_3l conversion fa_score\n",
       "1  mutant 132            A           W         TRP       132AtoW    5813.795\n",
       "2  mutant 148            K           P         PRO       148KtoP    5153.361\n",
       "3  mutant   7            A           W         TRP       7AtoW      4970.983\n",
       "4  mutant 164            R           P         PRO       164RtoP    4513.665\n",
       "5  mutant 155            A           W         TRP       155AtoW    4254.719\n",
       "6  mutant 110            A           W         TRP       110AtoW    4057.646\n",
       "7  mutant 133            K           P         PRO       133KtoP    3947.401\n",
       "8  mutant  50            R           P         PRO       50RtoP     3926.097\n",
       "9  mutant 132            A           Y         TYR       132AtoY    3913.528\n",
       "10 mutant  41            R           P         PRO       41RtoP     3905.914\n",
       "   ddg_score hbond_score sasa_score diff_hbonds diff_sasa  \n",
       "1  5451.688  104         8575.758    0           -4.9563240\n",
       "2  4791.254  104         8581.174    0            0.4598051\n",
       "3  4608.876  104         8580.268    0           -0.4468043\n",
       "4  4151.558  103         8581.808   -1            1.0936000\n",
       "5  3892.613  104         8576.253    0           -4.4617985\n",
       "6  3695.539  104         8582.607    0            1.8925342\n",
       "7  3585.294  104         8550.383    0          -30.3313091\n",
       "8  3563.990  103         8538.889   -1          -41.8252796\n",
       "9  3551.421  104         8578.710    0           -2.0048015\n",
       "10 3543.807  104         8600.865    0           20.1501830\n",
       "   diff_secondary_structure\n",
       "1  0                       \n",
       "2  0                       \n",
       "3  0                       \n",
       "4  2                       \n",
       "5  0                       \n",
       "6  0                       \n",
       "7  0                       \n",
       "8  0                       \n",
       "9  0                       \n",
       "10 0                       "
      ]
     },
     "metadata": {},
     "output_type": "display_data"
    },
    {
     "name": "stdout",
     "output_type": "stream",
     "text": [
      "[1] \"****************\"\n",
      "[1] \"Table below shows the count of previous_aa in this filtered data\"\n"
     ]
    },
    {
     "data": {
      "text/plain": [
       "\n",
       " A  C  D  E  G  H  I  K  L  N  P  Q  R  S  V  Y \n",
       "34  1  1  2  1  1  9  4 13  1  1  2 10  3  1  1 "
      ]
     },
     "metadata": {},
     "output_type": "display_data"
    },
    {
     "data": {
      "text/html": [
       "'This filtered data frame has 85 rows'"
      ],
      "text/latex": [
       "'This filtered data frame has 85 rows'"
      ],
      "text/markdown": [
       "'This filtered data frame has 85 rows'"
      ],
      "text/plain": [
       "This filtered data frame has 85 rows"
      ]
     },
     "metadata": {},
     "output_type": "display_data"
    },
    {
     "name": "stdout",
     "output_type": "stream",
     "text": [
      "[1] \"****************\"\n",
      "[1] \"Table below shows the count of new_aa_1l in this filtered data. The amino acids that is being added instead of the wild-type amino acid at a particular position\"\n"
     ]
    },
    {
     "data": {
      "text/plain": [
       "\n",
       " F  H  P  W  Y \n",
       " 9  4 41 20 11 "
      ]
     },
     "metadata": {},
     "output_type": "display_data"
    },
    {
     "name": "stdout",
     "output_type": "stream",
     "text": [
      "[1] \"****************\"\n",
      "[1] \"Table below takes a look at all of the mutated sequences with ΔΔG > 2000 where A was replaced. The table counts what was put in the place of A\"\n"
     ]
    },
    {
     "data": {
      "text/plain": [
       "\n",
       " F  H  W  Y \n",
       " 9  4 10 11 "
      ]
     },
     "metadata": {},
     "output_type": "display_data"
    }
   ],
   "source": [
    "ddg_above_3000 <- intein_short |> filter(ddg_score > 2000) |> arrange(desc(ddg_score))\n",
    "ddg_above_3000 |> head(n = 10) #showing only the top 10 \n",
    "print(\"****************\")\n",
    "print(\"Table below shows the count of previous_aa in this filtered data\")\n",
    "table(ddg_above_3000$previous_aa)\n",
    "glue(\"This filtered data frame has {ddg_above_3000 |> nrow()} rows\")\n",
    "print(\"****************\")\n",
    "print(\"Table below shows the count of new_aa_1l in this filtered data. The amino acids that is being added instead of the wild-type amino acid at a particular position\")\n",
    "table(ddg_above_3000$new_aa_1l)\n",
    "print(\"****************\")\n",
    "print(\"Table below takes a look at all of the mutated sequences with ΔΔG > 2000 where A was replaced. The table counts what was put in the place of A\")\n",
    "table((ddg_above_3000 |> filter(previous_aa == \"A\"))$new_aa_1l)"
   ]
  },
  {
   "cell_type": "markdown",
   "id": "c9a2f6d9-c7cd-4a44-a74b-6cc31c187629",
   "metadata": {},
   "source": [
    "#### what happens when A -> P?\n",
    "A examination of the ΔΔG values when a wildtype A is converted to P as a result of a point mutation. Considering that the **standard deviation** of the `ddg_score` is **570** and the **mean** of `ddg_score` is **317**.  \n",
    "> it would seem that across 21 mutation the **ΔΔG value does increase** in such event. Furthermore, **all but one of the mutations fall within the the standard deviation**."
   ]
  },
  {
   "cell_type": "code",
   "execution_count": 7,
   "id": "008d363d-127a-4284-8e49-3aab2aa8e16b",
   "metadata": {},
   "outputs": [
    {
     "data": {
      "text/html": [
       "<table class=\"dataframe\">\n",
       "<caption>A tibble: 8 × 13</caption>\n",
       "<thead>\n",
       "\t<tr><th scope=col>type</th><th scope=col>residue_number</th><th scope=col>previous_aa</th><th scope=col>new_aa_1l</th><th scope=col>new_aa_3l</th><th scope=col>conversion</th><th scope=col>fa_score</th><th scope=col>ddg_score</th><th scope=col>hbond_score</th><th scope=col>sasa_score</th><th scope=col>diff_hbonds</th><th scope=col>diff_sasa</th><th scope=col>diff_secondary_structure</th></tr>\n",
       "\t<tr><th scope=col>&lt;chr&gt;</th><th scope=col>&lt;dbl&gt;</th><th scope=col>&lt;chr&gt;</th><th scope=col>&lt;chr&gt;</th><th scope=col>&lt;chr&gt;</th><th scope=col>&lt;chr&gt;</th><th scope=col>&lt;dbl&gt;</th><th scope=col>&lt;dbl&gt;</th><th scope=col>&lt;dbl&gt;</th><th scope=col>&lt;dbl&gt;</th><th scope=col>&lt;dbl&gt;</th><th scope=col>&lt;dbl&gt;</th><th scope=col>&lt;dbl&gt;</th></tr>\n",
       "</thead>\n",
       "<tbody>\n",
       "\t<tr><td>mutant</td><td>132</td><td>A</td><td>P</td><td>PRO</td><td>132AtoP</td><td>939.0769</td><td>576.9701</td><td>103</td><td>8580.342</td><td>-1</td><td>-0.3719646</td><td>0</td></tr>\n",
       "\t<tr><td>mutant</td><td>125</td><td>A</td><td>P</td><td>PRO</td><td>125AtoP</td><td>791.1361</td><td>429.0294</td><td>103</td><td>8579.462</td><td>-1</td><td>-1.2519596</td><td>2</td></tr>\n",
       "\t<tr><td>mutant</td><td> 85</td><td>A</td><td>P</td><td>PRO</td><td>85AtoP </td><td>785.6410</td><td>423.5342</td><td>104</td><td>8580.588</td><td> 0</td><td>-0.1259740</td><td>0</td></tr>\n",
       "\t<tr><td>mutant</td><td>155</td><td>A</td><td>P</td><td>PRO</td><td>155AtoP</td><td>763.7951</td><td>401.6883</td><td>103</td><td>8580.330</td><td>-1</td><td>-0.3843060</td><td>0</td></tr>\n",
       "\t<tr><td>mutant</td><td>136</td><td>A</td><td>P</td><td>PRO</td><td>136AtoP</td><td>719.8438</td><td>357.7370</td><td>103</td><td>8576.836</td><td>-1</td><td>-3.8785250</td><td>2</td></tr>\n",
       "\t<tr><td>mutant</td><td>110</td><td>A</td><td>P</td><td>PRO</td><td>110AtoP</td><td>718.0839</td><td>355.9771</td><td>103</td><td>8580.535</td><td>-1</td><td>-0.1789855</td><td>3</td></tr>\n",
       "\t<tr><td>mutant</td><td> 10</td><td>A</td><td>P</td><td>PRO</td><td>10AtoP </td><td>707.4821</td><td>345.3753</td><td>103</td><td>8581.068</td><td>-1</td><td> 0.3531538</td><td>0</td></tr>\n",
       "\t<tr><td>mutant</td><td> 61</td><td>A</td><td>P</td><td>PRO</td><td>61AtoP </td><td>698.6412</td><td>336.5344</td><td>103</td><td>8572.492</td><td>-1</td><td>-8.2222616</td><td>3</td></tr>\n",
       "</tbody>\n",
       "</table>\n"
      ],
      "text/latex": [
       "A tibble: 8 × 13\n",
       "\\begin{tabular}{lllllllllllll}\n",
       " type & residue\\_number & previous\\_aa & new\\_aa\\_1l & new\\_aa\\_3l & conversion & fa\\_score & ddg\\_score & hbond\\_score & sasa\\_score & diff\\_hbonds & diff\\_sasa & diff\\_secondary\\_structure\\\\\n",
       " <chr> & <dbl> & <chr> & <chr> & <chr> & <chr> & <dbl> & <dbl> & <dbl> & <dbl> & <dbl> & <dbl> & <dbl>\\\\\n",
       "\\hline\n",
       "\t mutant & 132 & A & P & PRO & 132AtoP & 939.0769 & 576.9701 & 103 & 8580.342 & -1 & -0.3719646 & 0\\\\\n",
       "\t mutant & 125 & A & P & PRO & 125AtoP & 791.1361 & 429.0294 & 103 & 8579.462 & -1 & -1.2519596 & 2\\\\\n",
       "\t mutant &  85 & A & P & PRO & 85AtoP  & 785.6410 & 423.5342 & 104 & 8580.588 &  0 & -0.1259740 & 0\\\\\n",
       "\t mutant & 155 & A & P & PRO & 155AtoP & 763.7951 & 401.6883 & 103 & 8580.330 & -1 & -0.3843060 & 0\\\\\n",
       "\t mutant & 136 & A & P & PRO & 136AtoP & 719.8438 & 357.7370 & 103 & 8576.836 & -1 & -3.8785250 & 2\\\\\n",
       "\t mutant & 110 & A & P & PRO & 110AtoP & 718.0839 & 355.9771 & 103 & 8580.535 & -1 & -0.1789855 & 3\\\\\n",
       "\t mutant &  10 & A & P & PRO & 10AtoP  & 707.4821 & 345.3753 & 103 & 8581.068 & -1 &  0.3531538 & 0\\\\\n",
       "\t mutant &  61 & A & P & PRO & 61AtoP  & 698.6412 & 336.5344 & 103 & 8572.492 & -1 & -8.2222616 & 3\\\\\n",
       "\\end{tabular}\n"
      ],
      "text/markdown": [
       "\n",
       "A tibble: 8 × 13\n",
       "\n",
       "| type &lt;chr&gt; | residue_number &lt;dbl&gt; | previous_aa &lt;chr&gt; | new_aa_1l &lt;chr&gt; | new_aa_3l &lt;chr&gt; | conversion &lt;chr&gt; | fa_score &lt;dbl&gt; | ddg_score &lt;dbl&gt; | hbond_score &lt;dbl&gt; | sasa_score &lt;dbl&gt; | diff_hbonds &lt;dbl&gt; | diff_sasa &lt;dbl&gt; | diff_secondary_structure &lt;dbl&gt; |\n",
       "|---|---|---|---|---|---|---|---|---|---|---|---|---|\n",
       "| mutant | 132 | A | P | PRO | 132AtoP | 939.0769 | 576.9701 | 103 | 8580.342 | -1 | -0.3719646 | 0 |\n",
       "| mutant | 125 | A | P | PRO | 125AtoP | 791.1361 | 429.0294 | 103 | 8579.462 | -1 | -1.2519596 | 2 |\n",
       "| mutant |  85 | A | P | PRO | 85AtoP  | 785.6410 | 423.5342 | 104 | 8580.588 |  0 | -0.1259740 | 0 |\n",
       "| mutant | 155 | A | P | PRO | 155AtoP | 763.7951 | 401.6883 | 103 | 8580.330 | -1 | -0.3843060 | 0 |\n",
       "| mutant | 136 | A | P | PRO | 136AtoP | 719.8438 | 357.7370 | 103 | 8576.836 | -1 | -3.8785250 | 2 |\n",
       "| mutant | 110 | A | P | PRO | 110AtoP | 718.0839 | 355.9771 | 103 | 8580.535 | -1 | -0.1789855 | 3 |\n",
       "| mutant |  10 | A | P | PRO | 10AtoP  | 707.4821 | 345.3753 | 103 | 8581.068 | -1 |  0.3531538 | 0 |\n",
       "| mutant |  61 | A | P | PRO | 61AtoP  | 698.6412 | 336.5344 | 103 | 8572.492 | -1 | -8.2222616 | 3 |\n",
       "\n"
      ],
      "text/plain": [
       "  type   residue_number previous_aa new_aa_1l new_aa_3l conversion fa_score\n",
       "1 mutant 132            A           P         PRO       132AtoP    939.0769\n",
       "2 mutant 125            A           P         PRO       125AtoP    791.1361\n",
       "3 mutant  85            A           P         PRO       85AtoP     785.6410\n",
       "4 mutant 155            A           P         PRO       155AtoP    763.7951\n",
       "5 mutant 136            A           P         PRO       136AtoP    719.8438\n",
       "6 mutant 110            A           P         PRO       110AtoP    718.0839\n",
       "7 mutant  10            A           P         PRO       10AtoP     707.4821\n",
       "8 mutant  61            A           P         PRO       61AtoP     698.6412\n",
       "  ddg_score hbond_score sasa_score diff_hbonds diff_sasa \n",
       "1 576.9701  103         8580.342   -1          -0.3719646\n",
       "2 429.0294  103         8579.462   -1          -1.2519596\n",
       "3 423.5342  104         8580.588    0          -0.1259740\n",
       "4 401.6883  103         8580.330   -1          -0.3843060\n",
       "5 357.7370  103         8576.836   -1          -3.8785250\n",
       "6 355.9771  103         8580.535   -1          -0.1789855\n",
       "7 345.3753  103         8581.068   -1           0.3531538\n",
       "8 336.5344  103         8572.492   -1          -8.2222616\n",
       "  diff_secondary_structure\n",
       "1 0                       \n",
       "2 2                       \n",
       "3 0                       \n",
       "4 0                       \n",
       "5 2                       \n",
       "6 3                       \n",
       "7 0                       \n",
       "8 3                       "
      ]
     },
     "metadata": {},
     "output_type": "display_data"
    }
   ],
   "source": [
    "ddg_sd <- sd(intein_short$ddg_score)\n",
    "ddg_mean <- mean(intein_short$ddg_score)\n",
    "a_to_p <- intein_short |> filter(previous_aa == \"A\" & new_aa_1l == \"P\") |> arrange(desc(ddg_score))\n",
    "a_to_p |> head(n = 8)"
   ]
  },
  {
   "cell_type": "markdown",
   "id": "cdba47b6-86ae-449a-8ee8-ed7fa1e32337",
   "metadata": {
    "tags": []
   },
   "source": [
    "### Solvent Accessible Surface Area (SASA hereafter) analysis\n",
    "Let's commence again by drawing a histogram. The red line indicates wild-type.\n",
    "**Mean** of SASA is **8584**. **Standard deviation** is **20**. \n",
    "> the distribution seems to be normal"
   ]
  },
  {
   "cell_type": "code",
   "execution_count": 8,
   "id": "c87f155e-d487-45ab-b7a8-8e5ab11e8419",
   "metadata": {},
   "outputs": [
    {
     "data": {
      "image/png": "[encoded data removed]",
      "text/plain": [
       "plot without title"
      ]
     },
     "metadata": {
      "image/png": {
       "height": 420,
       "width": 420
      }
     },
     "output_type": "display_data"
    }
   ],
   "source": [
    "wildtype_sasa <- (intein_short |> filter(type == \"wild_type\"))$sasa_score\n",
    "sasa_mean <- mean(intein_short$sasa_score)\n",
    "sasa_sd <- sd(intein_short$sasa_score)\n",
    "intein_short |> ggplot(aes(sasa_score)) + \n",
    "    geom_histogram(fill = \"#1DB954\", bins = 30) + \n",
    "    theme(plot.title = element_text(hjust = 0, size = 16, face = \"bold\", color = \"white\"),\n",
    "        axis.title = element_text(size = 14, face = \"bold\", color = \"white\"),\n",
    "        axis.text = element_text(size = 12),\n",
    "        plot.background = element_rect(fill = \"#191919\"),\n",
    "        panel.background = element_blank(),\n",
    "        panel.grid.major.y = element_blank(),\n",
    "        panel.grid.minor.y = element_blank(),\n",
    "        panel.grid.major.x = element_line(color = \"gray90\", size = 0.5),\n",
    "        panel.grid.minor.x = element_blank()) +\n",
    "  ggtitle(\"Histogram of delta delta g in SINGLE intein\") +\n",
    "  labs(x = \"SASA\", y = \"count\") +\n",
    "  geom_vline(xintercept = wildtype_sasa, color = \"red\", size = 1.5, linetype = \"dashed\") +\n",
    "  theme(plot.margin = unit(c(1, 1, 1, 0.5), \"cm\"))"
   ]
  },
  {
   "cell_type": "markdown",
   "id": "a84a61f3-bfa7-4630-ac36-f20748f29fc1",
   "metadata": {},
   "source": [
    "#### A look at the higher end of SASA\n",
    "looking at mutations with `sasa_score` value above `Mean + 2SD`. There are 131 mutations that are higher than `Mean + 2SD`.\n",
    "\n",
    "**With respect to `residue_number`:**\n",
    "> Across 131 mutations, in `residue_number` **142**, **15 mutations are more than *2SD higher than the mean***. `residue_number` **111**, also has **9 mutations** that are considerably **high is their `sasa_score`**\n",
    "\n",
    "**With respect to `previous_aa`:**\n",
    "> Across 131 mutations, mutation of **G to another amino acid** accounts for **32** of these 131 mutations\n",
    "\n",
    "**With respect to `new_aa_1l`:**\n",
    "> Across 131 mutations, the **point mutation and conversion of previous amino acid to W**, accounts for **37** of them and **conversion to Y**, accounts for **21** of them.\n",
    "\n",
    "**With respect to highest `sasa_score`s:**\n",
    "> Across 131 mutations, the **highest 7 values** are **mutations where an amino acid was changed to W**"
   ]
  },
  {
   "cell_type": "code",
   "execution_count": 9,
   "id": "816b3f37-47d4-48a3-a828-4a0265b269a3",
   "metadata": {},
   "outputs": [
    {
     "name": "stdout",
     "output_type": "stream",
     "text": [
      "[1] \"****************************************\"\n",
      "[1] \"Below is: Count of residue number with sasa_scores higher than mean + 2SD\"\n"
     ]
    },
    {
     "data": {
      "text/plain": [
       "\n",
       "  1  13  14  24  25  28  29  33  35  39  41  45  55  58  67  74  75  82  84  85 \n",
       "  1   2   1   3   6   1   1   5   1   1   1   4   1   3   4   1   1   1   1   2 \n",
       " 86  87  92  96 101 111 112 113 114 115 120 122 128 129 130 131 133 137 140 142 \n",
       "  1   1   4   3   1   9   3   1   2   1   1   1   4   1   5   3   1   2   1  15 \n",
       "143 144 145 146 156 157 159 161 166 168 172 177 \n",
       "  1   2   3   4   2   1   2   4   1   7   2   1 "
      ]
     },
     "metadata": {},
     "output_type": "display_data"
    },
    {
     "name": "stdout",
     "output_type": "stream",
     "text": [
      "[1] \"****************************************\"\n",
      "[1] \"****************************************\"\n",
      "[1] \"Below is: Count of previous amino acids with sasa_scores higher than mean + 2SD\"\n"
     ]
    },
    {
     "data": {
      "text/plain": [
       "\n",
       " A  D  E  F  G  K  L  N  P  R  S  T  V  W  Y \n",
       "16 11  2 15 32  1  1  2 18  6  3  2  7  4 11 "
      ]
     },
     "metadata": {},
     "output_type": "display_data"
    },
    {
     "name": "stdout",
     "output_type": "stream",
     "text": [
      "[1] \"****************************************\"\n",
      "[1] \"****************************************\"\n",
      "[1] \"Below is: Count of new amino acids added as a result of point-mutation with sasa_scores higher than mean + 2SD\"\n"
     ]
    },
    {
     "data": {
      "text/plain": [
       "\n",
       " A  C  D  E  F  G  H  I  K  L  M  N  P  Q  R  S  T  V  W  Y \n",
       " 5  2  1  1 12 10 10  4  3  4  4  2  1  1  3  4  4  2 37 21 "
      ]
     },
     "metadata": {},
     "output_type": "display_data"
    },
    {
     "name": "stdout",
     "output_type": "stream",
     "text": [
      "[1] \"****************************************\"\n"
     ]
    },
    {
     "data": {
      "text/html": [
       "<table class=\"dataframe\">\n",
       "<caption>A tibble: 5 × 13</caption>\n",
       "<thead>\n",
       "\t<tr><th scope=col>type</th><th scope=col>residue_number</th><th scope=col>previous_aa</th><th scope=col>new_aa_1l</th><th scope=col>new_aa_3l</th><th scope=col>conversion</th><th scope=col>fa_score</th><th scope=col>ddg_score</th><th scope=col>hbond_score</th><th scope=col>sasa_score</th><th scope=col>diff_hbonds</th><th scope=col>diff_sasa</th><th scope=col>diff_secondary_structure</th></tr>\n",
       "\t<tr><th scope=col>&lt;chr&gt;</th><th scope=col>&lt;dbl&gt;</th><th scope=col>&lt;chr&gt;</th><th scope=col>&lt;chr&gt;</th><th scope=col>&lt;chr&gt;</th><th scope=col>&lt;chr&gt;</th><th scope=col>&lt;dbl&gt;</th><th scope=col>&lt;dbl&gt;</th><th scope=col>&lt;dbl&gt;</th><th scope=col>&lt;dbl&gt;</th><th scope=col>&lt;dbl&gt;</th><th scope=col>&lt;dbl&gt;</th><th scope=col>&lt;dbl&gt;</th></tr>\n",
       "</thead>\n",
       "<tbody>\n",
       "\t<tr><td>mutant</td><td>142</td><td>G</td><td>W</td><td>TRP</td><td>142GtoW</td><td> 385.9456</td><td> 23.83883</td><td>104</td><td>8743.430</td><td>0</td><td>162.7157</td><td>0</td></tr>\n",
       "\t<tr><td>mutant</td><td>168</td><td>A</td><td>W</td><td>TRP</td><td>168AtoW</td><td> 391.5106</td><td> 29.40378</td><td>104</td><td>8718.961</td><td>0</td><td>138.2463</td><td>0</td></tr>\n",
       "\t<tr><td>mutant</td><td> 33</td><td>A</td><td>W</td><td>TRP</td><td>33AtoW </td><td> 378.0919</td><td> 15.98515</td><td>104</td><td>8712.477</td><td>0</td><td>131.7624</td><td>0</td></tr>\n",
       "\t<tr><td>mutant</td><td>130</td><td>P</td><td>W</td><td>TRP</td><td>130PtoW</td><td> 375.8282</td><td> 13.72136</td><td>104</td><td>8705.236</td><td>0</td><td>124.5212</td><td>0</td></tr>\n",
       "\t<tr><td>mutant</td><td> 67</td><td>G</td><td>W</td><td>TRP</td><td>67GtoW </td><td>1185.2647</td><td>823.15794</td><td>104</td><td>8697.965</td><td>0</td><td>117.2507</td><td>0</td></tr>\n",
       "</tbody>\n",
       "</table>\n"
      ],
      "text/latex": [
       "A tibble: 5 × 13\n",
       "\\begin{tabular}{lllllllllllll}\n",
       " type & residue\\_number & previous\\_aa & new\\_aa\\_1l & new\\_aa\\_3l & conversion & fa\\_score & ddg\\_score & hbond\\_score & sasa\\_score & diff\\_hbonds & diff\\_sasa & diff\\_secondary\\_structure\\\\\n",
       " <chr> & <dbl> & <chr> & <chr> & <chr> & <chr> & <dbl> & <dbl> & <dbl> & <dbl> & <dbl> & <dbl> & <dbl>\\\\\n",
       "\\hline\n",
       "\t mutant & 142 & G & W & TRP & 142GtoW &  385.9456 &  23.83883 & 104 & 8743.430 & 0 & 162.7157 & 0\\\\\n",
       "\t mutant & 168 & A & W & TRP & 168AtoW &  391.5106 &  29.40378 & 104 & 8718.961 & 0 & 138.2463 & 0\\\\\n",
       "\t mutant &  33 & A & W & TRP & 33AtoW  &  378.0919 &  15.98515 & 104 & 8712.477 & 0 & 131.7624 & 0\\\\\n",
       "\t mutant & 130 & P & W & TRP & 130PtoW &  375.8282 &  13.72136 & 104 & 8705.236 & 0 & 124.5212 & 0\\\\\n",
       "\t mutant &  67 & G & W & TRP & 67GtoW  & 1185.2647 & 823.15794 & 104 & 8697.965 & 0 & 117.2507 & 0\\\\\n",
       "\\end{tabular}\n"
      ],
      "text/markdown": [
       "\n",
       "A tibble: 5 × 13\n",
       "\n",
       "| type &lt;chr&gt; | residue_number &lt;dbl&gt; | previous_aa &lt;chr&gt; | new_aa_1l &lt;chr&gt; | new_aa_3l &lt;chr&gt; | conversion &lt;chr&gt; | fa_score &lt;dbl&gt; | ddg_score &lt;dbl&gt; | hbond_score &lt;dbl&gt; | sasa_score &lt;dbl&gt; | diff_hbonds &lt;dbl&gt; | diff_sasa &lt;dbl&gt; | diff_secondary_structure &lt;dbl&gt; |\n",
       "|---|---|---|---|---|---|---|---|---|---|---|---|---|\n",
       "| mutant | 142 | G | W | TRP | 142GtoW |  385.9456 |  23.83883 | 104 | 8743.430 | 0 | 162.7157 | 0 |\n",
       "| mutant | 168 | A | W | TRP | 168AtoW |  391.5106 |  29.40378 | 104 | 8718.961 | 0 | 138.2463 | 0 |\n",
       "| mutant |  33 | A | W | TRP | 33AtoW  |  378.0919 |  15.98515 | 104 | 8712.477 | 0 | 131.7624 | 0 |\n",
       "| mutant | 130 | P | W | TRP | 130PtoW |  375.8282 |  13.72136 | 104 | 8705.236 | 0 | 124.5212 | 0 |\n",
       "| mutant |  67 | G | W | TRP | 67GtoW  | 1185.2647 | 823.15794 | 104 | 8697.965 | 0 | 117.2507 | 0 |\n",
       "\n"
      ],
      "text/plain": [
       "  type   residue_number previous_aa new_aa_1l new_aa_3l conversion fa_score \n",
       "1 mutant 142            G           W         TRP       142GtoW     385.9456\n",
       "2 mutant 168            A           W         TRP       168AtoW     391.5106\n",
       "3 mutant  33            A           W         TRP       33AtoW      378.0919\n",
       "4 mutant 130            P           W         TRP       130PtoW     375.8282\n",
       "5 mutant  67            G           W         TRP       67GtoW     1185.2647\n",
       "  ddg_score hbond_score sasa_score diff_hbonds diff_sasa\n",
       "1  23.83883 104         8743.430   0           162.7157 \n",
       "2  29.40378 104         8718.961   0           138.2463 \n",
       "3  15.98515 104         8712.477   0           131.7624 \n",
       "4  13.72136 104         8705.236   0           124.5212 \n",
       "5 823.15794 104         8697.965   0           117.2507 \n",
       "  diff_secondary_structure\n",
       "1 0                       \n",
       "2 0                       \n",
       "3 0                       \n",
       "4 0                       \n",
       "5 0                       "
      ]
     },
     "metadata": {},
     "output_type": "display_data"
    }
   ],
   "source": [
    "high_end_sasa <- intein_short |> filter(sasa_score > (sasa_mean + 2* sasa_sd)) |> arrange(desc(sasa_score))\n",
    "print(\"****************************************\")\n",
    "print(\"Below is: Count of residue number with sasa_scores higher than mean + 2SD\")\n",
    "table(high_end_sasa$residue_number)\n",
    "print(\"****************************************\")\n",
    "print(\"****************************************\")\n",
    "print(\"Below is: Count of previous amino acids with sasa_scores higher than mean + 2SD\")\n",
    "table(high_end_sasa$previous_aa)\n",
    "print(\"****************************************\")\n",
    "print(\"****************************************\")\n",
    "print(\"Below is: Count of new amino acids added as a result of point-mutation with sasa_scores higher than mean + 2SD\")\n",
    "table(high_end_sasa$new_aa_1l)\n",
    "print(\"****************************************\")\n",
    "high_end_sasa |> head(n = 5) # a look at the top values "
   ]
  },
  {
   "cell_type": "markdown",
   "id": "e575535c-1e81-4c68-95f2-1151f65fd6d9",
   "metadata": {},
   "source": [
    "#### A look at the lower end of SASA\n",
    "Looking at the values that are with `sasa_score` less than `Mean - 2SD`. There are a **total of 81 mutations** whose mutations result in `sasa_score` below the aforementioned value. \n",
    "\n",
    "\n",
    "**With respect to `residue_number`:**\n",
    "> Among the 81 mutations, **15 of these mutations are occuring at position 69**.\n",
    "\n",
    "**With respect to `previous_aa`:**\n",
    "> Among the 81 mutations, **52 mutations are happening and replacing the amino acid R**. In other words, in 52 out of 81 mutations amino acid R is being replaced.\n",
    "\n",
    "**With respect to `new_aa_1l`:**\n",
    "> Among the 81 mutations, in 10 of them amino acid G is replacing an amino acid and in 9 of them A is replacing an aa. That said, there does not seem to be a considerable pattern here. \n",
    "\n",
    "**With respect to the lowest `sasa_score`:**\n",
    "> Among the 81 mutations, the lowest `sasa_score` with the value 8441 which is **140 less than wild-type** is associated with `residue_number` **27** in which the **R -> G**. In fact, it notable that the lowest 8 `sasa_score`s are associated with `residue_number` **27**"
   ]
  },
  {
   "cell_type": "code",
   "execution_count": 10,
   "id": "0f760233-c083-4979-8970-d6fa76b9fcdd",
   "metadata": {},
   "outputs": [
    {
     "name": "stdout",
     "output_type": "stream",
     "text": [
      "[1] \"****************************************\"\n",
      "[1] \"Below is: Count of residue number with sasa_scores less than mean + 2SD\"\n"
     ]
    },
    {
     "data": {
      "text/plain": [
       "\n",
       " 13  15  27  50  69  83  99 113 114 118 120 121 124 133 137 \n",
       "  5   2  17  10  15   2   3   1   2   5   1  10   1   5   2 "
      ]
     },
     "metadata": {},
     "output_type": "display_data"
    },
    {
     "name": "stdout",
     "output_type": "stream",
     "text": [
      "[1] \"****************************************\"\n",
      "[1] \"****************************************\"\n",
      "[1] \"Below is: Count of previous amino acids with sasa_scores lower than mean + 2SD\"\n"
     ]
    },
    {
     "data": {
      "text/plain": [
       "\n",
       " D  E  G  K  R  T  V \n",
       " 4  8  5  8 52  1  3 "
      ]
     },
     "metadata": {},
     "output_type": "display_data"
    },
    {
     "name": "stdout",
     "output_type": "stream",
     "text": [
      "[1] \"****************************************\"\n",
      "[1] \"****************************************\"\n",
      "[1] \"Below is: Count of new amino acids added as a result of point-mutation with sasa_scores lower than mean + 2SD\"\n"
     ]
    },
    {
     "data": {
      "text/plain": [
       "\n",
       " A  C  D  E  F  G  H  I  L  M  N  P  Q  R  S  T  V  W  Y \n",
       " 9  4  4  2  5 10  4  4  3  1  4  4  1  2  5  5  6  5  3 "
      ]
     },
     "metadata": {},
     "output_type": "display_data"
    },
    {
     "name": "stdout",
     "output_type": "stream",
     "text": [
      "[1] \"****************************************\"\n"
     ]
    },
    {
     "data": {
      "text/html": [
       "<table class=\"dataframe\">\n",
       "<caption>A tibble: 10 × 13</caption>\n",
       "<thead>\n",
       "\t<tr><th scope=col>type</th><th scope=col>residue_number</th><th scope=col>previous_aa</th><th scope=col>new_aa_1l</th><th scope=col>new_aa_3l</th><th scope=col>conversion</th><th scope=col>fa_score</th><th scope=col>ddg_score</th><th scope=col>hbond_score</th><th scope=col>sasa_score</th><th scope=col>diff_hbonds</th><th scope=col>diff_sasa</th><th scope=col>diff_secondary_structure</th></tr>\n",
       "\t<tr><th scope=col>&lt;chr&gt;</th><th scope=col>&lt;dbl&gt;</th><th scope=col>&lt;chr&gt;</th><th scope=col>&lt;chr&gt;</th><th scope=col>&lt;chr&gt;</th><th scope=col>&lt;chr&gt;</th><th scope=col>&lt;dbl&gt;</th><th scope=col>&lt;dbl&gt;</th><th scope=col>&lt;dbl&gt;</th><th scope=col>&lt;dbl&gt;</th><th scope=col>&lt;dbl&gt;</th><th scope=col>&lt;dbl&gt;</th><th scope=col>&lt;dbl&gt;</th></tr>\n",
       "</thead>\n",
       "<tbody>\n",
       "\t<tr><td>mutant</td><td> 27</td><td>R</td><td>G</td><td>GLY</td><td>27RtoG </td><td>361.4102</td><td>-0.6965943</td><td>104</td><td>8441.057</td><td>0</td><td>-139.65768</td><td>0</td></tr>\n",
       "\t<tr><td>mutant</td><td> 27</td><td>R</td><td>A</td><td>ALA</td><td>27RtoA </td><td>360.3311</td><td>-1.7757177</td><td>104</td><td>8454.363</td><td>0</td><td>-126.35182</td><td>0</td></tr>\n",
       "\t<tr><td>mutant</td><td> 27</td><td>R</td><td>S</td><td>SER</td><td>27RtoS </td><td>360.4039</td><td>-1.7028958</td><td>104</td><td>8457.218</td><td>0</td><td>-123.49611</td><td>0</td></tr>\n",
       "\t<tr><td>mutant</td><td> 27</td><td>R</td><td>T</td><td>THR</td><td>27RtoT </td><td>370.8806</td><td> 8.7738168</td><td>104</td><td>8471.986</td><td>0</td><td>-108.72848</td><td>0</td></tr>\n",
       "\t<tr><td>mutant</td><td> 27</td><td>R</td><td>D</td><td>ASP</td><td>27RtoD </td><td>361.6544</td><td>-0.4524070</td><td>104</td><td>8472.499</td><td>0</td><td>-108.21526</td><td>0</td></tr>\n",
       "\t<tr><td>mutant</td><td> 27</td><td>R</td><td>C</td><td>CYS</td><td>27RtoC </td><td>363.6196</td><td> 1.5127861</td><td>104</td><td>8476.388</td><td>0</td><td>-104.32688</td><td>0</td></tr>\n",
       "\t<tr><td>mutant</td><td> 27</td><td>R</td><td>N</td><td>ASN</td><td>27RtoN </td><td>364.0720</td><td> 1.9652079</td><td>104</td><td>8479.350</td><td>0</td><td>-101.36464</td><td>0</td></tr>\n",
       "\t<tr><td>mutant</td><td> 27</td><td>R</td><td>V</td><td>VAL</td><td>27RtoV </td><td>437.2817</td><td>75.1748764</td><td>104</td><td>8479.797</td><td>0</td><td>-100.91732</td><td>0</td></tr>\n",
       "\t<tr><td>mutant</td><td>121</td><td>R</td><td>G</td><td>GLY</td><td>121RtoG</td><td>358.2647</td><td>-3.8420736</td><td>104</td><td>8496.197</td><td>0</td><td> -84.51697</td><td>0</td></tr>\n",
       "\t<tr><td>mutant</td><td>121</td><td>R</td><td>A</td><td>ALA</td><td>121RtoA</td><td>356.5038</td><td>-5.6029747</td><td>104</td><td>8499.651</td><td>0</td><td> -81.06319</td><td>0</td></tr>\n",
       "</tbody>\n",
       "</table>\n"
      ],
      "text/latex": [
       "A tibble: 10 × 13\n",
       "\\begin{tabular}{lllllllllllll}\n",
       " type & residue\\_number & previous\\_aa & new\\_aa\\_1l & new\\_aa\\_3l & conversion & fa\\_score & ddg\\_score & hbond\\_score & sasa\\_score & diff\\_hbonds & diff\\_sasa & diff\\_secondary\\_structure\\\\\n",
       " <chr> & <dbl> & <chr> & <chr> & <chr> & <chr> & <dbl> & <dbl> & <dbl> & <dbl> & <dbl> & <dbl> & <dbl>\\\\\n",
       "\\hline\n",
       "\t mutant &  27 & R & G & GLY & 27RtoG  & 361.4102 & -0.6965943 & 104 & 8441.057 & 0 & -139.65768 & 0\\\\\n",
       "\t mutant &  27 & R & A & ALA & 27RtoA  & 360.3311 & -1.7757177 & 104 & 8454.363 & 0 & -126.35182 & 0\\\\\n",
       "\t mutant &  27 & R & S & SER & 27RtoS  & 360.4039 & -1.7028958 & 104 & 8457.218 & 0 & -123.49611 & 0\\\\\n",
       "\t mutant &  27 & R & T & THR & 27RtoT  & 370.8806 &  8.7738168 & 104 & 8471.986 & 0 & -108.72848 & 0\\\\\n",
       "\t mutant &  27 & R & D & ASP & 27RtoD  & 361.6544 & -0.4524070 & 104 & 8472.499 & 0 & -108.21526 & 0\\\\\n",
       "\t mutant &  27 & R & C & CYS & 27RtoC  & 363.6196 &  1.5127861 & 104 & 8476.388 & 0 & -104.32688 & 0\\\\\n",
       "\t mutant &  27 & R & N & ASN & 27RtoN  & 364.0720 &  1.9652079 & 104 & 8479.350 & 0 & -101.36464 & 0\\\\\n",
       "\t mutant &  27 & R & V & VAL & 27RtoV  & 437.2817 & 75.1748764 & 104 & 8479.797 & 0 & -100.91732 & 0\\\\\n",
       "\t mutant & 121 & R & G & GLY & 121RtoG & 358.2647 & -3.8420736 & 104 & 8496.197 & 0 &  -84.51697 & 0\\\\\n",
       "\t mutant & 121 & R & A & ALA & 121RtoA & 356.5038 & -5.6029747 & 104 & 8499.651 & 0 &  -81.06319 & 0\\\\\n",
       "\\end{tabular}\n"
      ],
      "text/markdown": [
       "\n",
       "A tibble: 10 × 13\n",
       "\n",
       "| type &lt;chr&gt; | residue_number &lt;dbl&gt; | previous_aa &lt;chr&gt; | new_aa_1l &lt;chr&gt; | new_aa_3l &lt;chr&gt; | conversion &lt;chr&gt; | fa_score &lt;dbl&gt; | ddg_score &lt;dbl&gt; | hbond_score &lt;dbl&gt; | sasa_score &lt;dbl&gt; | diff_hbonds &lt;dbl&gt; | diff_sasa &lt;dbl&gt; | diff_secondary_structure &lt;dbl&gt; |\n",
       "|---|---|---|---|---|---|---|---|---|---|---|---|---|\n",
       "| mutant |  27 | R | G | GLY | 27RtoG  | 361.4102 | -0.6965943 | 104 | 8441.057 | 0 | -139.65768 | 0 |\n",
       "| mutant |  27 | R | A | ALA | 27RtoA  | 360.3311 | -1.7757177 | 104 | 8454.363 | 0 | -126.35182 | 0 |\n",
       "| mutant |  27 | R | S | SER | 27RtoS  | 360.4039 | -1.7028958 | 104 | 8457.218 | 0 | -123.49611 | 0 |\n",
       "| mutant |  27 | R | T | THR | 27RtoT  | 370.8806 |  8.7738168 | 104 | 8471.986 | 0 | -108.72848 | 0 |\n",
       "| mutant |  27 | R | D | ASP | 27RtoD  | 361.6544 | -0.4524070 | 104 | 8472.499 | 0 | -108.21526 | 0 |\n",
       "| mutant |  27 | R | C | CYS | 27RtoC  | 363.6196 |  1.5127861 | 104 | 8476.388 | 0 | -104.32688 | 0 |\n",
       "| mutant |  27 | R | N | ASN | 27RtoN  | 364.0720 |  1.9652079 | 104 | 8479.350 | 0 | -101.36464 | 0 |\n",
       "| mutant |  27 | R | V | VAL | 27RtoV  | 437.2817 | 75.1748764 | 104 | 8479.797 | 0 | -100.91732 | 0 |\n",
       "| mutant | 121 | R | G | GLY | 121RtoG | 358.2647 | -3.8420736 | 104 | 8496.197 | 0 |  -84.51697 | 0 |\n",
       "| mutant | 121 | R | A | ALA | 121RtoA | 356.5038 | -5.6029747 | 104 | 8499.651 | 0 |  -81.06319 | 0 |\n",
       "\n"
      ],
      "text/plain": [
       "   type   residue_number previous_aa new_aa_1l new_aa_3l conversion fa_score\n",
       "1  mutant  27            R           G         GLY       27RtoG     361.4102\n",
       "2  mutant  27            R           A         ALA       27RtoA     360.3311\n",
       "3  mutant  27            R           S         SER       27RtoS     360.4039\n",
       "4  mutant  27            R           T         THR       27RtoT     370.8806\n",
       "5  mutant  27            R           D         ASP       27RtoD     361.6544\n",
       "6  mutant  27            R           C         CYS       27RtoC     363.6196\n",
       "7  mutant  27            R           N         ASN       27RtoN     364.0720\n",
       "8  mutant  27            R           V         VAL       27RtoV     437.2817\n",
       "9  mutant 121            R           G         GLY       121RtoG    358.2647\n",
       "10 mutant 121            R           A         ALA       121RtoA    356.5038\n",
       "   ddg_score  hbond_score sasa_score diff_hbonds diff_sasa \n",
       "1  -0.6965943 104         8441.057   0           -139.65768\n",
       "2  -1.7757177 104         8454.363   0           -126.35182\n",
       "3  -1.7028958 104         8457.218   0           -123.49611\n",
       "4   8.7738168 104         8471.986   0           -108.72848\n",
       "5  -0.4524070 104         8472.499   0           -108.21526\n",
       "6   1.5127861 104         8476.388   0           -104.32688\n",
       "7   1.9652079 104         8479.350   0           -101.36464\n",
       "8  75.1748764 104         8479.797   0           -100.91732\n",
       "9  -3.8420736 104         8496.197   0            -84.51697\n",
       "10 -5.6029747 104         8499.651   0            -81.06319\n",
       "   diff_secondary_structure\n",
       "1  0                       \n",
       "2  0                       \n",
       "3  0                       \n",
       "4  0                       \n",
       "5  0                       \n",
       "6  0                       \n",
       "7  0                       \n",
       "8  0                       \n",
       "9  0                       \n",
       "10 0                       "
      ]
     },
     "metadata": {},
     "output_type": "display_data"
    }
   ],
   "source": [
    "low_end_sasa <- intein_short |> filter(sasa_score < (sasa_mean - 2 * sasa_sd)) |> arrange(sasa_score)\n",
    "print(\"****************************************\")\n",
    "print(\"Below is: Count of residue number with sasa_scores less than mean + 2SD\")\n",
    "table(low_end_sasa$residue_number)\n",
    "print(\"****************************************\")\n",
    "\n",
    "print(\"****************************************\")\n",
    "print(\"Below is: Count of previous amino acids with sasa_scores lower than mean + 2SD\")\n",
    "table(low_end_sasa$previous_aa)\n",
    "print(\"****************************************\")\n",
    "\n",
    "print(\"****************************************\")\n",
    "print(\"Below is: Count of new amino acids added as a result of point-mutation with sasa_scores lower than mean + 2SD\")\n",
    "table(low_end_sasa$new_aa_1l)\n",
    "print(\"****************************************\")\n",
    "\n",
    "low_end_sasa |> head(n = 10)"
   ]
  },
  {
   "cell_type": "code",
   "execution_count": null,
   "id": "490bf18c-f06a-49a6-978f-8a5713d74fdf",
   "metadata": {},
   "outputs": [],
   "source": []
  },
  {
   "cell_type": "code",
   "execution_count": 11,
   "id": "a6cacc27-6d77-4374-8da8-266f124aae3f",
   "metadata": {},
   "outputs": [
    {
     "data": {
      "text/html": [
       "<style>\n",
       ".list-inline {list-style: none; margin:0; padding: 0}\n",
       ".list-inline>li {display: inline-block}\n",
       ".list-inline>li:not(:last-child)::after {content: \"\\00b7\"; padding: 0 .5ex}\n",
       "</style>\n",
       "<ol class=list-inline><li>'new_aa_1l'</li><li>'1'</li><li>'2'</li><li>'3'</li><li>'4'</li><li>'5'</li><li>'6'</li><li>'7'</li><li>'8'</li><li>'9'</li><li>'10'</li><li>'11'</li><li>'12'</li><li>'13'</li><li>'14'</li><li>'15'</li><li>'16'</li><li>'17'</li><li>'18'</li><li>'19'</li><li>'20'</li><li>'21'</li><li>'22'</li><li>'23'</li><li>'24'</li><li>'25'</li><li>'26'</li><li>'27'</li><li>'28'</li><li>'29'</li><li>'30'</li><li>'31'</li><li>'32'</li><li>'33'</li><li>'34'</li><li>'35'</li><li>'36'</li><li>'37'</li><li>'38'</li><li>'39'</li><li>'40'</li><li>'41'</li><li>'42'</li><li>'43'</li><li>'44'</li><li>'45'</li><li>'46'</li><li>'47'</li><li>'48'</li><li>'49'</li><li>'50'</li><li>'51'</li><li>'52'</li><li>'53'</li><li>'54'</li><li>'55'</li><li>'56'</li><li>'57'</li><li>'58'</li><li>'59'</li><li>'60'</li><li>'61'</li><li>'62'</li><li>'63'</li><li>'64'</li><li>'65'</li><li>'66'</li><li>'67'</li><li>'68'</li><li>'69'</li><li>'70'</li><li>'71'</li><li>'72'</li><li>'73'</li><li>'74'</li><li>'75'</li><li>'76'</li><li>'77'</li><li>'78'</li><li>'79'</li><li>'80'</li><li>'81'</li><li>'82'</li><li>'83'</li><li>'84'</li><li>'85'</li><li>'86'</li><li>'87'</li><li>'88'</li><li>'89'</li><li>'90'</li><li>'91'</li><li>'92'</li><li>'93'</li><li>'94'</li><li>'95'</li><li>'96'</li><li>'97'</li><li>'98'</li><li>'99'</li><li>'100'</li><li>'101'</li><li>'102'</li><li>'103'</li><li>'104'</li><li>'105'</li><li>'106'</li><li>'107'</li><li>'108'</li><li>'109'</li><li>'110'</li><li>'111'</li><li>'112'</li><li>'113'</li><li>'114'</li><li>'115'</li><li>'116'</li><li>'117'</li><li>'118'</li><li>'119'</li><li>'120'</li><li>'121'</li><li>'122'</li><li>'123'</li><li>'124'</li><li>'125'</li><li>'126'</li><li>'127'</li><li>'128'</li><li>'129'</li><li>'130'</li><li>'131'</li><li>'132'</li><li>'133'</li><li>'134'</li><li>'135'</li><li>'136'</li><li>'137'</li><li>'138'</li><li>'139'</li><li>'140'</li><li>'141'</li><li>'142'</li><li>'143'</li><li>'144'</li><li>'145'</li><li>'146'</li><li>'147'</li><li>'148'</li><li>'149'</li><li>'150'</li><li>'151'</li><li>'152'</li><li>'153'</li><li>'154'</li><li>'155'</li><li>'156'</li><li>'157'</li><li>'158'</li><li>'159'</li><li>'160'</li><li>'161'</li><li>'162'</li><li>'163'</li><li>'164'</li><li>'165'</li><li>'166'</li><li>'167'</li><li>'168'</li><li>'169'</li><li>'170'</li><li>'171'</li><li>'172'</li><li>'173'</li><li>'174'</li><li>'175'</li><li>'176'</li><li>'177'</li><li>'178'</li><li>'179'</li><li>'180'</li><li>'181'</li><li>'NA'</li></ol>\n"
      ],
      "text/latex": [
       "\\begin{enumerate*}\n",
       "\\item 'new\\_aa\\_1l'\n",
       "\\item '1'\n",
       "\\item '2'\n",
       "\\item '3'\n",
       "\\item '4'\n",
       "\\item '5'\n",
       "\\item '6'\n",
       "\\item '7'\n",
       "\\item '8'\n",
       "\\item '9'\n",
       "\\item '10'\n",
       "\\item '11'\n",
       "\\item '12'\n",
       "\\item '13'\n",
       "\\item '14'\n",
       "\\item '15'\n",
       "\\item '16'\n",
       "\\item '17'\n",
       "\\item '18'\n",
       "\\item '19'\n",
       "\\item '20'\n",
       "\\item '21'\n",
       "\\item '22'\n",
       "\\item '23'\n",
       "\\item '24'\n",
       "\\item '25'\n",
       "\\item '26'\n",
       "\\item '27'\n",
       "\\item '28'\n",
       "\\item '29'\n",
       "\\item '30'\n",
       "\\item '31'\n",
       "\\item '32'\n",
       "\\item '33'\n",
       "\\item '34'\n",
       "\\item '35'\n",
       "\\item '36'\n",
       "\\item '37'\n",
       "\\item '38'\n",
       "\\item '39'\n",
       "\\item '40'\n",
       "\\item '41'\n",
       "\\item '42'\n",
       "\\item '43'\n",
       "\\item '44'\n",
       "\\item '45'\n",
       "\\item '46'\n",
       "\\item '47'\n",
       "\\item '48'\n",
       "\\item '49'\n",
       "\\item '50'\n",
       "\\item '51'\n",
       "\\item '52'\n",
       "\\item '53'\n",
       "\\item '54'\n",
       "\\item '55'\n",
       "\\item '56'\n",
       "\\item '57'\n",
       "\\item '58'\n",
       "\\item '59'\n",
       "\\item '60'\n",
       "\\item '61'\n",
       "\\item '62'\n",
       "\\item '63'\n",
       "\\item '64'\n",
       "\\item '65'\n",
       "\\item '66'\n",
       "\\item '67'\n",
       "\\item '68'\n",
       "\\item '69'\n",
       "\\item '70'\n",
       "\\item '71'\n",
       "\\item '72'\n",
       "\\item '73'\n",
       "\\item '74'\n",
       "\\item '75'\n",
       "\\item '76'\n",
       "\\item '77'\n",
       "\\item '78'\n",
       "\\item '79'\n",
       "\\item '80'\n",
       "\\item '81'\n",
       "\\item '82'\n",
       "\\item '83'\n",
       "\\item '84'\n",
       "\\item '85'\n",
       "\\item '86'\n",
       "\\item '87'\n",
       "\\item '88'\n",
       "\\item '89'\n",
       "\\item '90'\n",
       "\\item '91'\n",
       "\\item '92'\n",
       "\\item '93'\n",
       "\\item '94'\n",
       "\\item '95'\n",
       "\\item '96'\n",
       "\\item '97'\n",
       "\\item '98'\n",
       "\\item '99'\n",
       "\\item '100'\n",
       "\\item '101'\n",
       "\\item '102'\n",
       "\\item '103'\n",
       "\\item '104'\n",
       "\\item '105'\n",
       "\\item '106'\n",
       "\\item '107'\n",
       "\\item '108'\n",
       "\\item '109'\n",
       "\\item '110'\n",
       "\\item '111'\n",
       "\\item '112'\n",
       "\\item '113'\n",
       "\\item '114'\n",
       "\\item '115'\n",
       "\\item '116'\n",
       "\\item '117'\n",
       "\\item '118'\n",
       "\\item '119'\n",
       "\\item '120'\n",
       "\\item '121'\n",
       "\\item '122'\n",
       "\\item '123'\n",
       "\\item '124'\n",
       "\\item '125'\n",
       "\\item '126'\n",
       "\\item '127'\n",
       "\\item '128'\n",
       "\\item '129'\n",
       "\\item '130'\n",
       "\\item '131'\n",
       "\\item '132'\n",
       "\\item '133'\n",
       "\\item '134'\n",
       "\\item '135'\n",
       "\\item '136'\n",
       "\\item '137'\n",
       "\\item '138'\n",
       "\\item '139'\n",
       "\\item '140'\n",
       "\\item '141'\n",
       "\\item '142'\n",
       "\\item '143'\n",
       "\\item '144'\n",
       "\\item '145'\n",
       "\\item '146'\n",
       "\\item '147'\n",
       "\\item '148'\n",
       "\\item '149'\n",
       "\\item '150'\n",
       "\\item '151'\n",
       "\\item '152'\n",
       "\\item '153'\n",
       "\\item '154'\n",
       "\\item '155'\n",
       "\\item '156'\n",
       "\\item '157'\n",
       "\\item '158'\n",
       "\\item '159'\n",
       "\\item '160'\n",
       "\\item '161'\n",
       "\\item '162'\n",
       "\\item '163'\n",
       "\\item '164'\n",
       "\\item '165'\n",
       "\\item '166'\n",
       "\\item '167'\n",
       "\\item '168'\n",
       "\\item '169'\n",
       "\\item '170'\n",
       "\\item '171'\n",
       "\\item '172'\n",
       "\\item '173'\n",
       "\\item '174'\n",
       "\\item '175'\n",
       "\\item '176'\n",
       "\\item '177'\n",
       "\\item '178'\n",
       "\\item '179'\n",
       "\\item '180'\n",
       "\\item '181'\n",
       "\\item 'NA'\n",
       "\\end{enumerate*}\n"
      ],
      "text/markdown": [
       "1. 'new_aa_1l'\n",
       "2. '1'\n",
       "3. '2'\n",
       "4. '3'\n",
       "5. '4'\n",
       "6. '5'\n",
       "7. '6'\n",
       "8. '7'\n",
       "9. '8'\n",
       "10. '9'\n",
       "11. '10'\n",
       "12. '11'\n",
       "13. '12'\n",
       "14. '13'\n",
       "15. '14'\n",
       "16. '15'\n",
       "17. '16'\n",
       "18. '17'\n",
       "19. '18'\n",
       "20. '19'\n",
       "21. '20'\n",
       "22. '21'\n",
       "23. '22'\n",
       "24. '23'\n",
       "25. '24'\n",
       "26. '25'\n",
       "27. '26'\n",
       "28. '27'\n",
       "29. '28'\n",
       "30. '29'\n",
       "31. '30'\n",
       "32. '31'\n",
       "33. '32'\n",
       "34. '33'\n",
       "35. '34'\n",
       "36. '35'\n",
       "37. '36'\n",
       "38. '37'\n",
       "39. '38'\n",
       "40. '39'\n",
       "41. '40'\n",
       "42. '41'\n",
       "43. '42'\n",
       "44. '43'\n",
       "45. '44'\n",
       "46. '45'\n",
       "47. '46'\n",
       "48. '47'\n",
       "49. '48'\n",
       "50. '49'\n",
       "51. '50'\n",
       "52. '51'\n",
       "53. '52'\n",
       "54. '53'\n",
       "55. '54'\n",
       "56. '55'\n",
       "57. '56'\n",
       "58. '57'\n",
       "59. '58'\n",
       "60. '59'\n",
       "61. '60'\n",
       "62. '61'\n",
       "63. '62'\n",
       "64. '63'\n",
       "65. '64'\n",
       "66. '65'\n",
       "67. '66'\n",
       "68. '67'\n",
       "69. '68'\n",
       "70. '69'\n",
       "71. '70'\n",
       "72. '71'\n",
       "73. '72'\n",
       "74. '73'\n",
       "75. '74'\n",
       "76. '75'\n",
       "77. '76'\n",
       "78. '77'\n",
       "79. '78'\n",
       "80. '79'\n",
       "81. '80'\n",
       "82. '81'\n",
       "83. '82'\n",
       "84. '83'\n",
       "85. '84'\n",
       "86. '85'\n",
       "87. '86'\n",
       "88. '87'\n",
       "89. '88'\n",
       "90. '89'\n",
       "91. '90'\n",
       "92. '91'\n",
       "93. '92'\n",
       "94. '93'\n",
       "95. '94'\n",
       "96. '95'\n",
       "97. '96'\n",
       "98. '97'\n",
       "99. '98'\n",
       "100. '99'\n",
       "101. '100'\n",
       "102. '101'\n",
       "103. '102'\n",
       "104. '103'\n",
       "105. '104'\n",
       "106. '105'\n",
       "107. '106'\n",
       "108. '107'\n",
       "109. '108'\n",
       "110. '109'\n",
       "111. '110'\n",
       "112. '111'\n",
       "113. '112'\n",
       "114. '113'\n",
       "115. '114'\n",
       "116. '115'\n",
       "117. '116'\n",
       "118. '117'\n",
       "119. '118'\n",
       "120. '119'\n",
       "121. '120'\n",
       "122. '121'\n",
       "123. '122'\n",
       "124. '123'\n",
       "125. '124'\n",
       "126. '125'\n",
       "127. '126'\n",
       "128. '127'\n",
       "129. '128'\n",
       "130. '129'\n",
       "131. '130'\n",
       "132. '131'\n",
       "133. '132'\n",
       "134. '133'\n",
       "135. '134'\n",
       "136. '135'\n",
       "137. '136'\n",
       "138. '137'\n",
       "139. '138'\n",
       "140. '139'\n",
       "141. '140'\n",
       "142. '141'\n",
       "143. '142'\n",
       "144. '143'\n",
       "145. '144'\n",
       "146. '145'\n",
       "147. '146'\n",
       "148. '147'\n",
       "149. '148'\n",
       "150. '149'\n",
       "151. '150'\n",
       "152. '151'\n",
       "153. '152'\n",
       "154. '153'\n",
       "155. '154'\n",
       "156. '155'\n",
       "157. '156'\n",
       "158. '157'\n",
       "159. '158'\n",
       "160. '159'\n",
       "161. '160'\n",
       "162. '161'\n",
       "163. '162'\n",
       "164. '163'\n",
       "165. '164'\n",
       "166. '165'\n",
       "167. '166'\n",
       "168. '167'\n",
       "169. '168'\n",
       "170. '169'\n",
       "171. '170'\n",
       "172. '171'\n",
       "173. '172'\n",
       "174. '173'\n",
       "175. '174'\n",
       "176. '175'\n",
       "177. '176'\n",
       "178. '177'\n",
       "179. '178'\n",
       "180. '179'\n",
       "181. '180'\n",
       "182. '181'\n",
       "183. 'NA'\n",
       "\n",
       "\n"
      ],
      "text/plain": [
       "  [1] \"new_aa_1l\" \"1\"         \"2\"         \"3\"         \"4\"         \"5\"        \n",
       "  [7] \"6\"         \"7\"         \"8\"         \"9\"         \"10\"        \"11\"       \n",
       " [13] \"12\"        \"13\"        \"14\"        \"15\"        \"16\"        \"17\"       \n",
       " [19] \"18\"        \"19\"        \"20\"        \"21\"        \"22\"        \"23\"       \n",
       " [25] \"24\"        \"25\"        \"26\"        \"27\"        \"28\"        \"29\"       \n",
       " [31] \"30\"        \"31\"        \"32\"        \"33\"        \"34\"        \"35\"       \n",
       " [37] \"36\"        \"37\"        \"38\"        \"39\"        \"40\"        \"41\"       \n",
       " [43] \"42\"        \"43\"        \"44\"        \"45\"        \"46\"        \"47\"       \n",
       " [49] \"48\"        \"49\"        \"50\"        \"51\"        \"52\"        \"53\"       \n",
       " [55] \"54\"        \"55\"        \"56\"        \"57\"        \"58\"        \"59\"       \n",
       " [61] \"60\"        \"61\"        \"62\"        \"63\"        \"64\"        \"65\"       \n",
       " [67] \"66\"        \"67\"        \"68\"        \"69\"        \"70\"        \"71\"       \n",
       " [73] \"72\"        \"73\"        \"74\"        \"75\"        \"76\"        \"77\"       \n",
       " [79] \"78\"        \"79\"        \"80\"        \"81\"        \"82\"        \"83\"       \n",
       " [85] \"84\"        \"85\"        \"86\"        \"87\"        \"88\"        \"89\"       \n",
       " [91] \"90\"        \"91\"        \"92\"        \"93\"        \"94\"        \"95\"       \n",
       " [97] \"96\"        \"97\"        \"98\"        \"99\"        \"100\"       \"101\"      \n",
       "[103] \"102\"       \"103\"       \"104\"       \"105\"       \"106\"       \"107\"      \n",
       "[109] \"108\"       \"109\"       \"110\"       \"111\"       \"112\"       \"113\"      \n",
       "[115] \"114\"       \"115\"       \"116\"       \"117\"       \"118\"       \"119\"      \n",
       "[121] \"120\"       \"121\"       \"122\"       \"123\"       \"124\"       \"125\"      \n",
       "[127] \"126\"       \"127\"       \"128\"       \"129\"       \"130\"       \"131\"      \n",
       "[133] \"132\"       \"133\"       \"134\"       \"135\"       \"136\"       \"137\"      \n",
       "[139] \"138\"       \"139\"       \"140\"       \"141\"       \"142\"       \"143\"      \n",
       "[145] \"144\"       \"145\"       \"146\"       \"147\"       \"148\"       \"149\"      \n",
       "[151] \"150\"       \"151\"       \"152\"       \"153\"       \"154\"       \"155\"      \n",
       "[157] \"156\"       \"157\"       \"158\"       \"159\"       \"160\"       \"161\"      \n",
       "[163] \"162\"       \"163\"       \"164\"       \"165\"       \"166\"       \"167\"      \n",
       "[169] \"168\"       \"169\"       \"170\"       \"171\"       \"172\"       \"173\"      \n",
       "[175] \"174\"       \"175\"       \"176\"       \"177\"       \"178\"       \"179\"      \n",
       "[181] \"180\"       \"181\"       \"NA\"       "
      ]
     },
     "metadata": {},
     "output_type": "display_data"
    },
    {
     "data": {
      "text/html": [
       "<style>\n",
       ".list-inline {list-style: none; margin:0; padding: 0}\n",
       ".list-inline>li {display: inline-block}\n",
       ".list-inline>li:not(:last-child)::after {content: \"\\00b7\"; padding: 0 .5ex}\n",
       "</style>\n",
       "<ol class=list-inline><li>'type'</li><li>'residue_number'</li><li>'previous_aa'</li><li>'new_aa_1l'</li><li>'new_aa_3l'</li><li>'conversion'</li><li>'fa_score'</li><li>'ddg_score'</li><li>'hbond_score'</li><li>'sasa_score'</li><li>'diff_hbonds'</li><li>'diff_sasa'</li><li>'diff_secondary_structure'</li></ol>\n"
      ],
      "text/latex": [
       "\\begin{enumerate*}\n",
       "\\item 'type'\n",
       "\\item 'residue\\_number'\n",
       "\\item 'previous\\_aa'\n",
       "\\item 'new\\_aa\\_1l'\n",
       "\\item 'new\\_aa\\_3l'\n",
       "\\item 'conversion'\n",
       "\\item 'fa\\_score'\n",
       "\\item 'ddg\\_score'\n",
       "\\item 'hbond\\_score'\n",
       "\\item 'sasa\\_score'\n",
       "\\item 'diff\\_hbonds'\n",
       "\\item 'diff\\_sasa'\n",
       "\\item 'diff\\_secondary\\_structure'\n",
       "\\end{enumerate*}\n"
      ],
      "text/markdown": [
       "1. 'type'\n",
       "2. 'residue_number'\n",
       "3. 'previous_aa'\n",
       "4. 'new_aa_1l'\n",
       "5. 'new_aa_3l'\n",
       "6. 'conversion'\n",
       "7. 'fa_score'\n",
       "8. 'ddg_score'\n",
       "9. 'hbond_score'\n",
       "10. 'sasa_score'\n",
       "11. 'diff_hbonds'\n",
       "12. 'diff_sasa'\n",
       "13. 'diff_secondary_structure'\n",
       "\n",
       "\n"
      ],
      "text/plain": [
       " [1] \"type\"                     \"residue_number\"          \n",
       " [3] \"previous_aa\"              \"new_aa_1l\"               \n",
       " [5] \"new_aa_3l\"                \"conversion\"              \n",
       " [7] \"fa_score\"                 \"ddg_score\"               \n",
       " [9] \"hbond_score\"              \"sasa_score\"              \n",
       "[11] \"diff_hbonds\"              \"diff_sasa\"               \n",
       "[13] \"diff_secondary_structure\""
      ]
     },
     "metadata": {},
     "output_type": "display_data"
    }
   ],
   "source": [
    "heatmap_data <- dcast(intein_short, new_aa_1l ~ residue_number, value.var = \"ddg_score\")\n",
    "colnames(heatmap_data)\n",
    "colnames(intein_short)"
   ]
  },
  {
   "cell_type": "code",
   "execution_count": 26,
   "id": "3f48cfb2-efa4-413b-8026-380afe8ff508",
   "metadata": {},
   "outputs": [
    {
     "name": "stderr",
     "output_type": "stream",
     "text": [
      "Warning message:\n",
      "“\u001b[1m\u001b[22mRemoved 1 rows containing missing values (`geom_tile()`).”\n",
      "Warning message:\n",
      "“\u001b[1m\u001b[22mRemoved 1 rows containing missing values (`geom_tile()`).”\n"
     ]
    },
    {
     "data": {
      "image/png": "[encoded data removed]",
      "text/plain": [
       "plot without title"
      ]
     },
     "metadata": {
      "image/png": {
       "height": 420,
       "width": 420
      }
     },
     "output_type": "display_data"
    }
   ],
   "source": [
    "# options(repr.plot.width=15, repr.plot.height=12)\n",
    "\n",
    "heat_map_ddg <- ggplot((intein_short), aes(x = residue_number, y = new_aa_1l, fill = ddg_score)) +\n",
    "  geom_tile() + \n",
    "  scale_fill_gradient(low = \"#BB86FC\",\n",
    "                    high = \"#191919\") + coord_flip() + \n",
    "        labs(title = \"Heat map of delta delta g scores for docked intein\",\n",
    "            caption = \"\") + \n",
    "        theme(axis.title = element_text(size = 14, face = \"bold\", color = \"white\"),\n",
    "        axis.text = element_text(size = 12),\n",
    "        plot.background = element_rect(fill = \"#FFFFFF\"),\n",
    "        panel.background = element_blank(),\n",
    "        panel.grid.major.y = element_blank(),\n",
    "        panel.grid.minor.y = element_blank(),\n",
    "        panel.grid.major.x = element_line(color = \"gray90\", linewidth = 0.5),\n",
    "        panel.grid.minor.x = element_blank())\n",
    "heat_map_ddg\n",
    "ggsave(filename = file.path(\"charts\", \"intein_heat_map_ddg.png\") , plot = heat_map_ddg, width = 15, height = 10, dpi = 300)"
   ]
  },
  {
   "cell_type": "code",
   "execution_count": null,
   "id": "e4c91d3e-1835-4072-8ecb-f25a93ead094",
   "metadata": {},
   "outputs": [],
   "source": []
  },
  {
   "cell_type": "code",
   "execution_count": null,
   "id": "7710c925-3c05-49fa-b699-0fc3c08ef874",
   "metadata": {},
   "outputs": [],
   "source": []
  }
 ],
 "metadata": {
  "kernelspec": {
   "display_name": "R",
   "language": "R",
   "name": "ir"
  },
  "language_info": {
   "codemirror_mode": "r",
   "file_extension": ".r",
   "mimetype": "text/x-r-source",
   "name": "R",
   "pygments_lexer": "r",
   "version": "4.3.0"
  }
 },
 "nbformat": 4,
 "nbformat_minor": 5
}
