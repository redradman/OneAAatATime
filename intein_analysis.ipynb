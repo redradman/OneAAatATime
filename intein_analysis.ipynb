{
 "cells": [
  {
   "cell_type": "markdown",
   "id": "9ec9e46b-aecb-40f1-9305-8fcd3f5506ac",
   "metadata": {},
   "source": [
    "# Analysis of the the single intein\n",
    "This notebook is for conducting analysis on the **Thiol sensitive intein** (Abbreviated TSI)."
   ]
  },
  {
   "cell_type": "markdown",
   "id": "9220ad5a-80b9-41dc-a603-a7278d71ee9f",
   "metadata": {
    "jp-MarkdownHeadingCollapsed": true,
    "tags": []
   },
   "source": [
    "## Installing and importing the necessary libraries"
   ]
  },
  {
   "cell_type": "code",
   "execution_count": 1,
   "id": "6bb8e622-f68f-4522-be94-42d092f7616c",
   "metadata": {},
   "outputs": [
    {
     "name": "stderr",
     "output_type": "stream",
     "text": [
      "── \u001b[1mAttaching core tidyverse packages\u001b[22m ────────────────────────────────────────────────────────────────────────────────────────────────────────────────────────────────────── tidyverse 2.0.0 ──\n",
      "\u001b[32m✔\u001b[39m \u001b[34mdplyr    \u001b[39m 1.1.2     \u001b[32m✔\u001b[39m \u001b[34mreadr    \u001b[39m 2.1.4\n",
      "\u001b[32m✔\u001b[39m \u001b[34mforcats  \u001b[39m 1.0.0     \u001b[32m✔\u001b[39m \u001b[34mstringr  \u001b[39m 1.5.0\n",
      "\u001b[32m✔\u001b[39m \u001b[34mggplot2  \u001b[39m 3.4.2     \u001b[32m✔\u001b[39m \u001b[34mtibble   \u001b[39m 3.2.1\n",
      "\u001b[32m✔\u001b[39m \u001b[34mlubridate\u001b[39m 1.9.2     \u001b[32m✔\u001b[39m \u001b[34mtidyr    \u001b[39m 1.3.0\n",
      "\u001b[32m✔\u001b[39m \u001b[34mpurrr    \u001b[39m 1.0.1     \n",
      "── \u001b[1mConflicts\u001b[22m ──────────────────────────────────────────────────────────────────────────────────────────────────────────────────────────────────────────────────────── tidyverse_conflicts() ──\n",
      "\u001b[31m✖\u001b[39m \u001b[34mdplyr\u001b[39m::\u001b[32mfilter()\u001b[39m masks \u001b[34mstats\u001b[39m::filter()\n",
      "\u001b[31m✖\u001b[39m \u001b[34mdplyr\u001b[39m::\u001b[32mlag()\u001b[39m    masks \u001b[34mstats\u001b[39m::lag()\n",
      "\u001b[36mℹ\u001b[39m Use the conflicted package (\u001b[3m\u001b[34m<http://conflicted.r-lib.org/>\u001b[39m\u001b[23m) to force all conflicts to become errors\n"
     ]
    }
   ],
   "source": [
    "# installing the libraries \n",
    "# uncomment the lines below to make sure that the required libraries are installed\n",
    "# install.packages(\"tidyverse\")\n",
    "# install.packages(\"ggthemes\")\n",
    "# install.packages(\"ggplot2\")\n",
    "# install.packages(\"dplyr\")\n",
    "\n",
    "# importing the libraries\n",
    "library(tidyverse)\n",
    "library(ggthemes)\n",
    "library(ggplot2)\n",
    "library(dplyr)"
   ]
  },
  {
   "cell_type": "markdown",
   "id": "5bd57d16-063b-4679-b18b-b2c321b4d6f2",
   "metadata": {},
   "source": [
    "## Reading the csv file that has the results of the simulation"
   ]
  },
  {
   "cell_type": "code",
   "execution_count": 3,
   "id": "a3209d8c-2f8a-4d74-a94a-0928e41f1b21",
   "metadata": {},
   "outputs": [
    {
     "name": "stderr",
     "output_type": "stream",
     "text": [
      "\u001b[1mRows: \u001b[22m\u001b[34m3440\u001b[39m \u001b[1mColumns: \u001b[22m\u001b[34m15\u001b[39m\n",
      "\u001b[36m──\u001b[39m \u001b[1mColumn specification\u001b[22m \u001b[36m──────────────────────────────────────────────────────────────────────────────────────────────────────────────────────────────────────────────────────────────────────\u001b[39m\n",
      "\u001b[1mDelimiter:\u001b[22m \",\"\n",
      "\u001b[31mchr\u001b[39m (7): type, previous_aa, new_aa_1l, new_aa_3l, conversion, new_seq, secon...\n",
      "\u001b[32mdbl\u001b[39m (8): residue_number, fa_score, ddg_score, hbond_score, sasa_score, diff_...\n",
      "\n",
      "\u001b[36mℹ\u001b[39m Use `spec()` to retrieve the full column specification for this data.\n",
      "\u001b[36mℹ\u001b[39m Specify the column types or set `show_col_types = FALSE` to quiet this message.\n"
     ]
    },
    {
     "data": {
      "text/html": [
       "<table class=\"dataframe\">\n",
       "<caption>A tibble: 6 × 15</caption>\n",
       "<thead>\n",
       "\t<tr><th scope=col>type</th><th scope=col>residue_number</th><th scope=col>previous_aa</th><th scope=col>new_aa_1l</th><th scope=col>new_aa_3l</th><th scope=col>conversion</th><th scope=col>new_seq</th><th scope=col>fa_score</th><th scope=col>ddg_score</th><th scope=col>hbond_score</th><th scope=col>sasa_score</th><th scope=col>secondary_structure</th><th scope=col>diff_hbonds</th><th scope=col>diff_sasa</th><th scope=col>diff_secondary_structure</th></tr>\n",
       "\t<tr><th scope=col>&lt;chr&gt;</th><th scope=col>&lt;dbl&gt;</th><th scope=col>&lt;chr&gt;</th><th scope=col>&lt;chr&gt;</th><th scope=col>&lt;chr&gt;</th><th scope=col>&lt;chr&gt;</th><th scope=col>&lt;chr&gt;</th><th scope=col>&lt;dbl&gt;</th><th scope=col>&lt;dbl&gt;</th><th scope=col>&lt;dbl&gt;</th><th scope=col>&lt;dbl&gt;</th><th scope=col>&lt;chr&gt;</th><th scope=col>&lt;dbl&gt;</th><th scope=col>&lt;dbl&gt;</th><th scope=col>&lt;dbl&gt;</th></tr>\n",
       "</thead>\n",
       "<tbody>\n",
       "\t<tr><td>wild_type</td><td>NA</td><td>NA</td><td>NA</td><td>NA </td><td>NA   </td><td>ASITGDALVALPEGESVRIADIVPGARPNSDNAIDLKVLDRHGNPVLADRLFHSGEHPVYAVRTVEGLRVTGTANHPLLCLVDVAGVPTLLWKLIDEIKPGDYAVIQRSAFSTVGVPGLVRFLEAHHRDPDAKAIADELTDGRFYYAKVASVTDAGVQPVYSLRVDTADHAFITNGFVSHN</td><td>362.1068</td><td>  0.00000</td><td>104</td><td>8580.714</td><td>LLEELLLEEELLLLLEEEHHHLLLLLLLLEEEEEEEEEELLLLLEEEEEEEEEEEEEEEEEEEELLLLEEEEELLLEEEEEEEELLEEEEEEEEHHHLLLLLEEEEEHHHLLLLLLLLHHHHHHHLLLLLLHHHHHHHHHLLLEEEEEEEEEEEEEEEEEEEEEELLLLLEEEELLEEEEL</td><td>0</td><td> 0.0000000</td><td>0</td></tr>\n",
       "\t<tr><td>mutant   </td><td> 1</td><td>A </td><td>C </td><td>CYS</td><td>1AtoC</td><td>CSITGDALVALPEGESVRIADIVPGARPNSDNAIDLKVLDRHGNPVLADRLFHSGEHPVYAVRTVEGLRVTGTANHPLLCLVDVAGVPTLLWKLIDEIKPGDYAVIQRSAFSTVGVPGLVRFLEAHHRDPDAKAIADELTDGRFYYAKVASVTDAGVQPVYSLRVDTADHAFITNGFVSHN</td><td>413.7276</td><td> 51.62086</td><td>104</td><td>8599.590</td><td>LLEELLLEEELLLLLEEEHHHLLLLLLLLEEEEEEEEEELLLLLEEEEEEEEEEEEEEEEEEEELLLLEEEEELLLEEEEEEEELLEEEEEEEEHHHLLLLLEEEEEHHHLLLLLLLLHHHHHHHLLLLLLHHHHHHHHHLLLEEEEEEEEEEEEEEEEEEEEEELLLLLEEEELLEEEEL</td><td>0</td><td>18.8757359</td><td>0</td></tr>\n",
       "\t<tr><td>mutant   </td><td> 1</td><td>A </td><td>D </td><td>ASP</td><td>1AtoD</td><td>DSITGDALVALPEGESVRIADIVPGARPNSDNAIDLKVLDRHGNPVLADRLFHSGEHPVYAVRTVEGLRVTGTANHPLLCLVDVAGVPTLLWKLIDEIKPGDYAVIQRSAFSTVGVPGLVRFLEAHHRDPDAKAIADELTDGRFYYAKVASVTDAGVQPVYSLRVDTADHAFITNGFVSHN</td><td>446.3807</td><td> 84.27391</td><td>104</td><td>8596.750</td><td>LLEELLLEEELLLLLEEEHHHLLLLLLLLEEEEEEEEEELLLLLEEEEEEEEEEEEEEEEEEEELLLLEEEEELLLEEEEEEEELLEEEEEEEEHHHLLLLLEEEEEHHHLLLLLLLLHHHHHHHLLLLLLHHHHHHHHHLLLEEEEEEEEEEEEEEEEEEEEEELLLLLEEEELLEEEEL</td><td>0</td><td>16.0355577</td><td>0</td></tr>\n",
       "\t<tr><td>mutant   </td><td> 1</td><td>A </td><td>E </td><td>GLU</td><td>1AtoE</td><td>ESITGDALVALPEGESVRIADIVPGARPNSDNAIDLKVLDRHGNPVLADRLFHSGEHPVYAVRTVEGLRVTGTANHPLLCLVDVAGVPTLLWKLIDEIKPGDYAVIQRSAFSTVGVPGLVRFLEAHHRDPDAKAIADELTDGRFYYAKVASVTDAGVQPVYSLRVDTADHAFITNGFVSHN</td><td>653.4236</td><td>291.31682</td><td>104</td><td>8585.626</td><td>LLEELLLEEELLLLLEEEHHHLLLLLLLLEEEEEEEEEELLLLLEEEEEEEEEEEEEEEEEEEELLLLEEEEELLLEEEEEEEELLEEEEEEEEHHHLLLLLEEEEEHHHLLLLLLLLHHHHHHHLLLLLLHHHHHHHHHLLLEEEEEEEEEEEEEEEEEEEEEELLLLLEEEELLEEEEL</td><td>0</td><td> 4.9110617</td><td>0</td></tr>\n",
       "\t<tr><td>mutant   </td><td> 1</td><td>A </td><td>F </td><td>PHE</td><td>1AtoF</td><td>FSITGDALVALPEGESVRIADIVPGARPNSDNAIDLKVLDRHGNPVLADRLFHSGEHPVYAVRTVEGLRVTGTANHPLLCLVDVAGVPTLLWKLIDEIKPGDYAVIQRSAFSTVGVPGLVRFLEAHHRDPDAKAIADELTDGRFYYAKVASVTDAGVQPVYSLRVDTADHAFITNGFVSHN</td><td>603.7107</td><td>241.60395</td><td>104</td><td>8609.113</td><td>LLEELLLEEELLLLLEEEHHHLLLLLLLLEEEEEEEEEELLLLLEEEEEEEEEEEEEEEEEEEELLLLEEEEELLLEEEEEEEELLEEEEEEEEHHHLLLLLEEEEEHHHLLLLLLLLHHHHHHHLLLLLLHHHHHHHHHLLLEEEEEEEEEEEEEEEEEEEEEELLLLLEEEELLEEEEL</td><td>0</td><td>28.3985160</td><td>0</td></tr>\n",
       "\t<tr><td>mutant   </td><td> 1</td><td>A </td><td>G </td><td>GLY</td><td>1AtoG</td><td>GSITGDALVALPEGESVRIADIVPGARPNSDNAIDLKVLDRHGNPVLADRLFHSGEHPVYAVRTVEGLRVTGTANHPLLCLVDVAGVPTLLWKLIDEIKPGDYAVIQRSAFSTVGVPGLVRFLEAHHRDPDAKAIADELTDGRFYYAKVASVTDAGVQPVYSLRVDTADHAFITNGFVSHN</td><td>381.2703</td><td> 19.16354</td><td>104</td><td>8580.383</td><td>LLEELLLEEELLLLLEEEHHHLLLLLLLLEEEEEEEEEELLLLLEEEEEEEEEEEEEEEEEEEELLLLEEEEELLLEEEEEEEELLEEEEEEEEHHHLLLLLEEEEEHHHLLLLLLLLHHHHHHHLLLLLLHHHHHHHHHLLLEEEEEEEEEEEEEEEEEEEEEELLLLLEEEELLEEEEL</td><td>0</td><td>-0.3310385</td><td>0</td></tr>\n",
       "</tbody>\n",
       "</table>\n"
      ],
      "text/latex": [
       "A tibble: 6 × 15\n",
       "\\begin{tabular}{lllllllllllllll}\n",
       " type & residue\\_number & previous\\_aa & new\\_aa\\_1l & new\\_aa\\_3l & conversion & new\\_seq & fa\\_score & ddg\\_score & hbond\\_score & sasa\\_score & secondary\\_structure & diff\\_hbonds & diff\\_sasa & diff\\_secondary\\_structure\\\\\n",
       " <chr> & <dbl> & <chr> & <chr> & <chr> & <chr> & <chr> & <dbl> & <dbl> & <dbl> & <dbl> & <chr> & <dbl> & <dbl> & <dbl>\\\\\n",
       "\\hline\n",
       "\t wild\\_type & NA & NA & NA & NA  & NA    & ASITGDALVALPEGESVRIADIVPGARPNSDNAIDLKVLDRHGNPVLADRLFHSGEHPVYAVRTVEGLRVTGTANHPLLCLVDVAGVPTLLWKLIDEIKPGDYAVIQRSAFSTVGVPGLVRFLEAHHRDPDAKAIADELTDGRFYYAKVASVTDAGVQPVYSLRVDTADHAFITNGFVSHN & 362.1068 &   0.00000 & 104 & 8580.714 & LLEELLLEEELLLLLEEEHHHLLLLLLLLEEEEEEEEEELLLLLEEEEEEEEEEEEEEEEEEEELLLLEEEEELLLEEEEEEEELLEEEEEEEEHHHLLLLLEEEEEHHHLLLLLLLLHHHHHHHLLLLLLHHHHHHHHHLLLEEEEEEEEEEEEEEEEEEEEEELLLLLEEEELLEEEEL & 0 &  0.0000000 & 0\\\\\n",
       "\t mutant    &  1 & A  & C  & CYS & 1AtoC & CSITGDALVALPEGESVRIADIVPGARPNSDNAIDLKVLDRHGNPVLADRLFHSGEHPVYAVRTVEGLRVTGTANHPLLCLVDVAGVPTLLWKLIDEIKPGDYAVIQRSAFSTVGVPGLVRFLEAHHRDPDAKAIADELTDGRFYYAKVASVTDAGVQPVYSLRVDTADHAFITNGFVSHN & 413.7276 &  51.62086 & 104 & 8599.590 & LLEELLLEEELLLLLEEEHHHLLLLLLLLEEEEEEEEEELLLLLEEEEEEEEEEEEEEEEEEEELLLLEEEEELLLEEEEEEEELLEEEEEEEEHHHLLLLLEEEEEHHHLLLLLLLLHHHHHHHLLLLLLHHHHHHHHHLLLEEEEEEEEEEEEEEEEEEEEEELLLLLEEEELLEEEEL & 0 & 18.8757359 & 0\\\\\n",
       "\t mutant    &  1 & A  & D  & ASP & 1AtoD & DSITGDALVALPEGESVRIADIVPGARPNSDNAIDLKVLDRHGNPVLADRLFHSGEHPVYAVRTVEGLRVTGTANHPLLCLVDVAGVPTLLWKLIDEIKPGDYAVIQRSAFSTVGVPGLVRFLEAHHRDPDAKAIADELTDGRFYYAKVASVTDAGVQPVYSLRVDTADHAFITNGFVSHN & 446.3807 &  84.27391 & 104 & 8596.750 & LLEELLLEEELLLLLEEEHHHLLLLLLLLEEEEEEEEEELLLLLEEEEEEEEEEEEEEEEEEEELLLLEEEEELLLEEEEEEEELLEEEEEEEEHHHLLLLLEEEEEHHHLLLLLLLLHHHHHHHLLLLLLHHHHHHHHHLLLEEEEEEEEEEEEEEEEEEEEEELLLLLEEEELLEEEEL & 0 & 16.0355577 & 0\\\\\n",
       "\t mutant    &  1 & A  & E  & GLU & 1AtoE & ESITGDALVALPEGESVRIADIVPGARPNSDNAIDLKVLDRHGNPVLADRLFHSGEHPVYAVRTVEGLRVTGTANHPLLCLVDVAGVPTLLWKLIDEIKPGDYAVIQRSAFSTVGVPGLVRFLEAHHRDPDAKAIADELTDGRFYYAKVASVTDAGVQPVYSLRVDTADHAFITNGFVSHN & 653.4236 & 291.31682 & 104 & 8585.626 & LLEELLLEEELLLLLEEEHHHLLLLLLLLEEEEEEEEEELLLLLEEEEEEEEEEEEEEEEEEEELLLLEEEEELLLEEEEEEEELLEEEEEEEEHHHLLLLLEEEEEHHHLLLLLLLLHHHHHHHLLLLLLHHHHHHHHHLLLEEEEEEEEEEEEEEEEEEEEEELLLLLEEEELLEEEEL & 0 &  4.9110617 & 0\\\\\n",
       "\t mutant    &  1 & A  & F  & PHE & 1AtoF & FSITGDALVALPEGESVRIADIVPGARPNSDNAIDLKVLDRHGNPVLADRLFHSGEHPVYAVRTVEGLRVTGTANHPLLCLVDVAGVPTLLWKLIDEIKPGDYAVIQRSAFSTVGVPGLVRFLEAHHRDPDAKAIADELTDGRFYYAKVASVTDAGVQPVYSLRVDTADHAFITNGFVSHN & 603.7107 & 241.60395 & 104 & 8609.113 & LLEELLLEEELLLLLEEEHHHLLLLLLLLEEEEEEEEEELLLLLEEEEEEEEEEEEEEEEEEEELLLLEEEEELLLEEEEEEEELLEEEEEEEEHHHLLLLLEEEEEHHHLLLLLLLLHHHHHHHLLLLLLHHHHHHHHHLLLEEEEEEEEEEEEEEEEEEEEEELLLLLEEEELLEEEEL & 0 & 28.3985160 & 0\\\\\n",
       "\t mutant    &  1 & A  & G  & GLY & 1AtoG & GSITGDALVALPEGESVRIADIVPGARPNSDNAIDLKVLDRHGNPVLADRLFHSGEHPVYAVRTVEGLRVTGTANHPLLCLVDVAGVPTLLWKLIDEIKPGDYAVIQRSAFSTVGVPGLVRFLEAHHRDPDAKAIADELTDGRFYYAKVASVTDAGVQPVYSLRVDTADHAFITNGFVSHN & 381.2703 &  19.16354 & 104 & 8580.383 & LLEELLLEEELLLLLEEEHHHLLLLLLLLEEEEEEEEEELLLLLEEEEEEEEEEEEEEEEEEEELLLLEEEEELLLEEEEEEEELLEEEEEEEEHHHLLLLLEEEEEHHHLLLLLLLLHHHHHHHLLLLLLHHHHHHHHHLLLEEEEEEEEEEEEEEEEEEEEEELLLLLEEEELLEEEEL & 0 & -0.3310385 & 0\\\\\n",
       "\\end{tabular}\n"
      ],
      "text/markdown": [
       "\n",
       "A tibble: 6 × 15\n",
       "\n",
       "| type &lt;chr&gt; | residue_number &lt;dbl&gt; | previous_aa &lt;chr&gt; | new_aa_1l &lt;chr&gt; | new_aa_3l &lt;chr&gt; | conversion &lt;chr&gt; | new_seq &lt;chr&gt; | fa_score &lt;dbl&gt; | ddg_score &lt;dbl&gt; | hbond_score &lt;dbl&gt; | sasa_score &lt;dbl&gt; | secondary_structure &lt;chr&gt; | diff_hbonds &lt;dbl&gt; | diff_sasa &lt;dbl&gt; | diff_secondary_structure &lt;dbl&gt; |\n",
       "|---|---|---|---|---|---|---|---|---|---|---|---|---|---|---|\n",
       "| wild_type | NA | NA | NA | NA  | NA    | ASITGDALVALPEGESVRIADIVPGARPNSDNAIDLKVLDRHGNPVLADRLFHSGEHPVYAVRTVEGLRVTGTANHPLLCLVDVAGVPTLLWKLIDEIKPGDYAVIQRSAFSTVGVPGLVRFLEAHHRDPDAKAIADELTDGRFYYAKVASVTDAGVQPVYSLRVDTADHAFITNGFVSHN | 362.1068 |   0.00000 | 104 | 8580.714 | LLEELLLEEELLLLLEEEHHHLLLLLLLLEEEEEEEEEELLLLLEEEEEEEEEEEEEEEEEEEELLLLEEEEELLLEEEEEEEELLEEEEEEEEHHHLLLLLEEEEEHHHLLLLLLLLHHHHHHHLLLLLLHHHHHHHHHLLLEEEEEEEEEEEEEEEEEEEEEELLLLLEEEELLEEEEL | 0 |  0.0000000 | 0 |\n",
       "| mutant    |  1 | A  | C  | CYS | 1AtoC | CSITGDALVALPEGESVRIADIVPGARPNSDNAIDLKVLDRHGNPVLADRLFHSGEHPVYAVRTVEGLRVTGTANHPLLCLVDVAGVPTLLWKLIDEIKPGDYAVIQRSAFSTVGVPGLVRFLEAHHRDPDAKAIADELTDGRFYYAKVASVTDAGVQPVYSLRVDTADHAFITNGFVSHN | 413.7276 |  51.62086 | 104 | 8599.590 | LLEELLLEEELLLLLEEEHHHLLLLLLLLEEEEEEEEEELLLLLEEEEEEEEEEEEEEEEEEEELLLLEEEEELLLEEEEEEEELLEEEEEEEEHHHLLLLLEEEEEHHHLLLLLLLLHHHHHHHLLLLLLHHHHHHHHHLLLEEEEEEEEEEEEEEEEEEEEEELLLLLEEEELLEEEEL | 0 | 18.8757359 | 0 |\n",
       "| mutant    |  1 | A  | D  | ASP | 1AtoD | DSITGDALVALPEGESVRIADIVPGARPNSDNAIDLKVLDRHGNPVLADRLFHSGEHPVYAVRTVEGLRVTGTANHPLLCLVDVAGVPTLLWKLIDEIKPGDYAVIQRSAFSTVGVPGLVRFLEAHHRDPDAKAIADELTDGRFYYAKVASVTDAGVQPVYSLRVDTADHAFITNGFVSHN | 446.3807 |  84.27391 | 104 | 8596.750 | LLEELLLEEELLLLLEEEHHHLLLLLLLLEEEEEEEEEELLLLLEEEEEEEEEEEEEEEEEEEELLLLEEEEELLLEEEEEEEELLEEEEEEEEHHHLLLLLEEEEEHHHLLLLLLLLHHHHHHHLLLLLLHHHHHHHHHLLLEEEEEEEEEEEEEEEEEEEEEELLLLLEEEELLEEEEL | 0 | 16.0355577 | 0 |\n",
       "| mutant    |  1 | A  | E  | GLU | 1AtoE | ESITGDALVALPEGESVRIADIVPGARPNSDNAIDLKVLDRHGNPVLADRLFHSGEHPVYAVRTVEGLRVTGTANHPLLCLVDVAGVPTLLWKLIDEIKPGDYAVIQRSAFSTVGVPGLVRFLEAHHRDPDAKAIADELTDGRFYYAKVASVTDAGVQPVYSLRVDTADHAFITNGFVSHN | 653.4236 | 291.31682 | 104 | 8585.626 | LLEELLLEEELLLLLEEEHHHLLLLLLLLEEEEEEEEEELLLLLEEEEEEEEEEEEEEEEEEEELLLLEEEEELLLEEEEEEEELLEEEEEEEEHHHLLLLLEEEEEHHHLLLLLLLLHHHHHHHLLLLLLHHHHHHHHHLLLEEEEEEEEEEEEEEEEEEEEEELLLLLEEEELLEEEEL | 0 |  4.9110617 | 0 |\n",
       "| mutant    |  1 | A  | F  | PHE | 1AtoF | FSITGDALVALPEGESVRIADIVPGARPNSDNAIDLKVLDRHGNPVLADRLFHSGEHPVYAVRTVEGLRVTGTANHPLLCLVDVAGVPTLLWKLIDEIKPGDYAVIQRSAFSTVGVPGLVRFLEAHHRDPDAKAIADELTDGRFYYAKVASVTDAGVQPVYSLRVDTADHAFITNGFVSHN | 603.7107 | 241.60395 | 104 | 8609.113 | LLEELLLEEELLLLLEEEHHHLLLLLLLLEEEEEEEEEELLLLLEEEEEEEEEEEEEEEEEEEELLLLEEEEELLLEEEEEEEELLEEEEEEEEHHHLLLLLEEEEEHHHLLLLLLLLHHHHHHHLLLLLLHHHHHHHHHLLLEEEEEEEEEEEEEEEEEEEEEELLLLLEEEELLEEEEL | 0 | 28.3985160 | 0 |\n",
       "| mutant    |  1 | A  | G  | GLY | 1AtoG | GSITGDALVALPEGESVRIADIVPGARPNSDNAIDLKVLDRHGNPVLADRLFHSGEHPVYAVRTVEGLRVTGTANHPLLCLVDVAGVPTLLWKLIDEIKPGDYAVIQRSAFSTVGVPGLVRFLEAHHRDPDAKAIADELTDGRFYYAKVASVTDAGVQPVYSLRVDTADHAFITNGFVSHN | 381.2703 |  19.16354 | 104 | 8580.383 | LLEELLLEEELLLLLEEEHHHLLLLLLLLEEEEEEEEEELLLLLEEEEEEEEEEEEEEEEEEEELLLLEEEEELLLEEEEEEEELLEEEEEEEEHHHLLLLLEEEEEHHHLLLLLLLLHHHHHHHLLLLLLHHHHHHHHHLLLEEEEEEEEEEEEEEEEEEEEEELLLLLEEEELLEEEEL | 0 | -0.3310385 | 0 |\n",
       "\n"
      ],
      "text/plain": [
       "  type      residue_number previous_aa new_aa_1l new_aa_3l conversion\n",
       "1 wild_type NA             NA          NA        NA        NA        \n",
       "2 mutant     1             A           C         CYS       1AtoC     \n",
       "3 mutant     1             A           D         ASP       1AtoD     \n",
       "4 mutant     1             A           E         GLU       1AtoE     \n",
       "5 mutant     1             A           F         PHE       1AtoF     \n",
       "6 mutant     1             A           G         GLY       1AtoG     \n",
       "  new_seq                                                                                                                                                                              \n",
       "1 ASITGDALVALPEGESVRIADIVPGARPNSDNAIDLKVLDRHGNPVLADRLFHSGEHPVYAVRTVEGLRVTGTANHPLLCLVDVAGVPTLLWKLIDEIKPGDYAVIQRSAFSTVGVPGLVRFLEAHHRDPDAKAIADELTDGRFYYAKVASVTDAGVQPVYSLRVDTADHAFITNGFVSHN\n",
       "2 CSITGDALVALPEGESVRIADIVPGARPNSDNAIDLKVLDRHGNPVLADRLFHSGEHPVYAVRTVEGLRVTGTANHPLLCLVDVAGVPTLLWKLIDEIKPGDYAVIQRSAFSTVGVPGLVRFLEAHHRDPDAKAIADELTDGRFYYAKVASVTDAGVQPVYSLRVDTADHAFITNGFVSHN\n",
       "3 DSITGDALVALPEGESVRIADIVPGARPNSDNAIDLKVLDRHGNPVLADRLFHSGEHPVYAVRTVEGLRVTGTANHPLLCLVDVAGVPTLLWKLIDEIKPGDYAVIQRSAFSTVGVPGLVRFLEAHHRDPDAKAIADELTDGRFYYAKVASVTDAGVQPVYSLRVDTADHAFITNGFVSHN\n",
       "4 ESITGDALVALPEGESVRIADIVPGARPNSDNAIDLKVLDRHGNPVLADRLFHSGEHPVYAVRTVEGLRVTGTANHPLLCLVDVAGVPTLLWKLIDEIKPGDYAVIQRSAFSTVGVPGLVRFLEAHHRDPDAKAIADELTDGRFYYAKVASVTDAGVQPVYSLRVDTADHAFITNGFVSHN\n",
       "5 FSITGDALVALPEGESVRIADIVPGARPNSDNAIDLKVLDRHGNPVLADRLFHSGEHPVYAVRTVEGLRVTGTANHPLLCLVDVAGVPTLLWKLIDEIKPGDYAVIQRSAFSTVGVPGLVRFLEAHHRDPDAKAIADELTDGRFYYAKVASVTDAGVQPVYSLRVDTADHAFITNGFVSHN\n",
       "6 GSITGDALVALPEGESVRIADIVPGARPNSDNAIDLKVLDRHGNPVLADRLFHSGEHPVYAVRTVEGLRVTGTANHPLLCLVDVAGVPTLLWKLIDEIKPGDYAVIQRSAFSTVGVPGLVRFLEAHHRDPDAKAIADELTDGRFYYAKVASVTDAGVQPVYSLRVDTADHAFITNGFVSHN\n",
       "  fa_score ddg_score hbond_score sasa_score\n",
       "1 362.1068   0.00000 104         8580.714  \n",
       "2 413.7276  51.62086 104         8599.590  \n",
       "3 446.3807  84.27391 104         8596.750  \n",
       "4 653.4236 291.31682 104         8585.626  \n",
       "5 603.7107 241.60395 104         8609.113  \n",
       "6 381.2703  19.16354 104         8580.383  \n",
       "  secondary_structure                                                                                                                                                                  \n",
       "1 LLEELLLEEELLLLLEEEHHHLLLLLLLLEEEEEEEEEELLLLLEEEEEEEEEEEEEEEEEEEELLLLEEEEELLLEEEEEEEELLEEEEEEEEHHHLLLLLEEEEEHHHLLLLLLLLHHHHHHHLLLLLLHHHHHHHHHLLLEEEEEEEEEEEEEEEEEEEEEELLLLLEEEELLEEEEL\n",
       "2 LLEELLLEEELLLLLEEEHHHLLLLLLLLEEEEEEEEEELLLLLEEEEEEEEEEEEEEEEEEEELLLLEEEEELLLEEEEEEEELLEEEEEEEEHHHLLLLLEEEEEHHHLLLLLLLLHHHHHHHLLLLLLHHHHHHHHHLLLEEEEEEEEEEEEEEEEEEEEEELLLLLEEEELLEEEEL\n",
       "3 LLEELLLEEELLLLLEEEHHHLLLLLLLLEEEEEEEEEELLLLLEEEEEEEEEEEEEEEEEEEELLLLEEEEELLLEEEEEEEELLEEEEEEEEHHHLLLLLEEEEEHHHLLLLLLLLHHHHHHHLLLLLLHHHHHHHHHLLLEEEEEEEEEEEEEEEEEEEEEELLLLLEEEELLEEEEL\n",
       "4 LLEELLLEEELLLLLEEEHHHLLLLLLLLEEEEEEEEEELLLLLEEEEEEEEEEEEEEEEEEEELLLLEEEEELLLEEEEEEEELLEEEEEEEEHHHLLLLLEEEEEHHHLLLLLLLLHHHHHHHLLLLLLHHHHHHHHHLLLEEEEEEEEEEEEEEEEEEEEEELLLLLEEEELLEEEEL\n",
       "5 LLEELLLEEELLLLLEEEHHHLLLLLLLLEEEEEEEEEELLLLLEEEEEEEEEEEEEEEEEEEELLLLEEEEELLLEEEEEEEELLEEEEEEEEHHHLLLLLEEEEEHHHLLLLLLLLHHHHHHHLLLLLLHHHHHHHHHLLLEEEEEEEEEEEEEEEEEEEEEELLLLLEEEELLEEEEL\n",
       "6 LLEELLLEEELLLLLEEEHHHLLLLLLLLEEEEEEEEEELLLLLEEEEEEEEEEEEEEEEEEEELLLLEEEEELLLEEEEEEEELLEEEEEEEEHHHLLLLLEEEEEHHHLLLLLLLLHHHHHHHLLLLLLHHHHHHHHHLLLEEEEEEEEEEEEEEEEEEEEEELLLLLEEEELLEEEEL\n",
       "  diff_hbonds diff_sasa  diff_secondary_structure\n",
       "1 0            0.0000000 0                       \n",
       "2 0           18.8757359 0                       \n",
       "3 0           16.0355577 0                       \n",
       "4 0            4.9110617 0                       \n",
       "5 0           28.3985160 0                       \n",
       "6 0           -0.3310385 0                       "
      ]
     },
     "metadata": {},
     "output_type": "display_data"
    }
   ],
   "source": [
    "intein <- read_csv(\"intein.csv\")\n",
    "head(intein)"
   ]
  },
  {
   "cell_type": "markdown",
   "id": "f80c7401-4bc6-4b2f-a366-8aa55056f2d9",
   "metadata": {},
   "source": [
    "#### Increasing readability \n",
    "Removing the new_seq and secondary sequence of the file to incrase readability."
   ]
  },
  {
   "cell_type": "code",
   "execution_count": 5,
   "id": "230ccf55-498b-446d-8ef5-8a3b544bd63c",
   "metadata": {},
   "outputs": [
    {
     "data": {
      "text/html": [
       "<table class=\"dataframe\">\n",
       "<caption>A tibble: 6 × 13</caption>\n",
       "<thead>\n",
       "\t<tr><th scope=col>type</th><th scope=col>residue_number</th><th scope=col>previous_aa</th><th scope=col>new_aa_1l</th><th scope=col>new_aa_3l</th><th scope=col>conversion</th><th scope=col>fa_score</th><th scope=col>ddg_score</th><th scope=col>hbond_score</th><th scope=col>sasa_score</th><th scope=col>diff_hbonds</th><th scope=col>diff_sasa</th><th scope=col>diff_secondary_structure</th></tr>\n",
       "\t<tr><th scope=col>&lt;chr&gt;</th><th scope=col>&lt;dbl&gt;</th><th scope=col>&lt;chr&gt;</th><th scope=col>&lt;chr&gt;</th><th scope=col>&lt;chr&gt;</th><th scope=col>&lt;chr&gt;</th><th scope=col>&lt;dbl&gt;</th><th scope=col>&lt;dbl&gt;</th><th scope=col>&lt;dbl&gt;</th><th scope=col>&lt;dbl&gt;</th><th scope=col>&lt;dbl&gt;</th><th scope=col>&lt;dbl&gt;</th><th scope=col>&lt;dbl&gt;</th></tr>\n",
       "</thead>\n",
       "<tbody>\n",
       "\t<tr><td>wild_type</td><td>NA</td><td>NA</td><td>NA</td><td>NA </td><td>NA   </td><td>362.1068</td><td>  0.00000</td><td>104</td><td>8580.714</td><td>0</td><td> 0.0000000</td><td>0</td></tr>\n",
       "\t<tr><td>mutant   </td><td> 1</td><td>A </td><td>C </td><td>CYS</td><td>1AtoC</td><td>413.7276</td><td> 51.62086</td><td>104</td><td>8599.590</td><td>0</td><td>18.8757359</td><td>0</td></tr>\n",
       "\t<tr><td>mutant   </td><td> 1</td><td>A </td><td>D </td><td>ASP</td><td>1AtoD</td><td>446.3807</td><td> 84.27391</td><td>104</td><td>8596.750</td><td>0</td><td>16.0355577</td><td>0</td></tr>\n",
       "\t<tr><td>mutant   </td><td> 1</td><td>A </td><td>E </td><td>GLU</td><td>1AtoE</td><td>653.4236</td><td>291.31682</td><td>104</td><td>8585.626</td><td>0</td><td> 4.9110617</td><td>0</td></tr>\n",
       "\t<tr><td>mutant   </td><td> 1</td><td>A </td><td>F </td><td>PHE</td><td>1AtoF</td><td>603.7107</td><td>241.60395</td><td>104</td><td>8609.113</td><td>0</td><td>28.3985160</td><td>0</td></tr>\n",
       "\t<tr><td>mutant   </td><td> 1</td><td>A </td><td>G </td><td>GLY</td><td>1AtoG</td><td>381.2703</td><td> 19.16354</td><td>104</td><td>8580.383</td><td>0</td><td>-0.3310385</td><td>0</td></tr>\n",
       "</tbody>\n",
       "</table>\n"
      ],
      "text/latex": [
       "A tibble: 6 × 13\n",
       "\\begin{tabular}{lllllllllllll}\n",
       " type & residue\\_number & previous\\_aa & new\\_aa\\_1l & new\\_aa\\_3l & conversion & fa\\_score & ddg\\_score & hbond\\_score & sasa\\_score & diff\\_hbonds & diff\\_sasa & diff\\_secondary\\_structure\\\\\n",
       " <chr> & <dbl> & <chr> & <chr> & <chr> & <chr> & <dbl> & <dbl> & <dbl> & <dbl> & <dbl> & <dbl> & <dbl>\\\\\n",
       "\\hline\n",
       "\t wild\\_type & NA & NA & NA & NA  & NA    & 362.1068 &   0.00000 & 104 & 8580.714 & 0 &  0.0000000 & 0\\\\\n",
       "\t mutant    &  1 & A  & C  & CYS & 1AtoC & 413.7276 &  51.62086 & 104 & 8599.590 & 0 & 18.8757359 & 0\\\\\n",
       "\t mutant    &  1 & A  & D  & ASP & 1AtoD & 446.3807 &  84.27391 & 104 & 8596.750 & 0 & 16.0355577 & 0\\\\\n",
       "\t mutant    &  1 & A  & E  & GLU & 1AtoE & 653.4236 & 291.31682 & 104 & 8585.626 & 0 &  4.9110617 & 0\\\\\n",
       "\t mutant    &  1 & A  & F  & PHE & 1AtoF & 603.7107 & 241.60395 & 104 & 8609.113 & 0 & 28.3985160 & 0\\\\\n",
       "\t mutant    &  1 & A  & G  & GLY & 1AtoG & 381.2703 &  19.16354 & 104 & 8580.383 & 0 & -0.3310385 & 0\\\\\n",
       "\\end{tabular}\n"
      ],
      "text/markdown": [
       "\n",
       "A tibble: 6 × 13\n",
       "\n",
       "| type &lt;chr&gt; | residue_number &lt;dbl&gt; | previous_aa &lt;chr&gt; | new_aa_1l &lt;chr&gt; | new_aa_3l &lt;chr&gt; | conversion &lt;chr&gt; | fa_score &lt;dbl&gt; | ddg_score &lt;dbl&gt; | hbond_score &lt;dbl&gt; | sasa_score &lt;dbl&gt; | diff_hbonds &lt;dbl&gt; | diff_sasa &lt;dbl&gt; | diff_secondary_structure &lt;dbl&gt; |\n",
       "|---|---|---|---|---|---|---|---|---|---|---|---|---|\n",
       "| wild_type | NA | NA | NA | NA  | NA    | 362.1068 |   0.00000 | 104 | 8580.714 | 0 |  0.0000000 | 0 |\n",
       "| mutant    |  1 | A  | C  | CYS | 1AtoC | 413.7276 |  51.62086 | 104 | 8599.590 | 0 | 18.8757359 | 0 |\n",
       "| mutant    |  1 | A  | D  | ASP | 1AtoD | 446.3807 |  84.27391 | 104 | 8596.750 | 0 | 16.0355577 | 0 |\n",
       "| mutant    |  1 | A  | E  | GLU | 1AtoE | 653.4236 | 291.31682 | 104 | 8585.626 | 0 |  4.9110617 | 0 |\n",
       "| mutant    |  1 | A  | F  | PHE | 1AtoF | 603.7107 | 241.60395 | 104 | 8609.113 | 0 | 28.3985160 | 0 |\n",
       "| mutant    |  1 | A  | G  | GLY | 1AtoG | 381.2703 |  19.16354 | 104 | 8580.383 | 0 | -0.3310385 | 0 |\n",
       "\n"
      ],
      "text/plain": [
       "  type      residue_number previous_aa new_aa_1l new_aa_3l conversion fa_score\n",
       "1 wild_type NA             NA          NA        NA        NA         362.1068\n",
       "2 mutant     1             A           C         CYS       1AtoC      413.7276\n",
       "3 mutant     1             A           D         ASP       1AtoD      446.3807\n",
       "4 mutant     1             A           E         GLU       1AtoE      653.4236\n",
       "5 mutant     1             A           F         PHE       1AtoF      603.7107\n",
       "6 mutant     1             A           G         GLY       1AtoG      381.2703\n",
       "  ddg_score hbond_score sasa_score diff_hbonds diff_sasa \n",
       "1   0.00000 104         8580.714   0            0.0000000\n",
       "2  51.62086 104         8599.590   0           18.8757359\n",
       "3  84.27391 104         8596.750   0           16.0355577\n",
       "4 291.31682 104         8585.626   0            4.9110617\n",
       "5 241.60395 104         8609.113   0           28.3985160\n",
       "6  19.16354 104         8580.383   0           -0.3310385\n",
       "  diff_secondary_structure\n",
       "1 0                       \n",
       "2 0                       \n",
       "3 0                       \n",
       "4 0                       \n",
       "5 0                       \n",
       "6 0                       "
      ]
     },
     "metadata": {},
     "output_type": "display_data"
    }
   ],
   "source": [
    "intein_short <- intein |> select(-c(new_seq, secondary_structure))\n",
    "head(intein_short)"
   ]
  },
  {
   "cell_type": "code",
   "execution_count": null,
   "id": "70d977f9-b39d-4679-8ebe-cd0f4f00f47f",
   "metadata": {},
   "outputs": [],
   "source": []
  }
 ],
 "metadata": {
  "kernelspec": {
   "display_name": "R",
   "language": "R",
   "name": "ir"
  },
  "language_info": {
   "codemirror_mode": "r",
   "file_extension": ".r",
   "mimetype": "text/x-r-source",
   "name": "R",
   "pygments_lexer": "r",
   "version": "4.3.0"
  }
 },
 "nbformat": 4,
 "nbformat_minor": 5
}
