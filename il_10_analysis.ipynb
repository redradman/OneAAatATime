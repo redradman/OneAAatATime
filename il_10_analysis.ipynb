{
 "cells": [
  {
   "cell_type": "markdown",
   "id": "96d42bf3-6b8d-4c77-99b9-42d749bfbe90",
   "metadata": {},
   "source": [
    "# Analysis for IL_10"
   ]
  },
  {
   "cell_type": "markdown",
   "id": "93adb8b6-3471-4e77-af7a-ac570180984b",
   "metadata": {},
   "source": [
    "## Installing and importing the libraries"
   ]
  },
  {
   "cell_type": "code",
   "execution_count": 1,
   "id": "78106ffe-81b2-4fe6-be60-5e4a0910eecd",
   "metadata": {},
   "outputs": [
    {
     "name": "stderr",
     "output_type": "stream",
     "text": [
      "── \u001b[1mAttaching core tidyverse packages\u001b[22m ───────────────────────────────────────────────────────────────────────────────────────────────────────────────────────────────────────── tidyverse 2.0.0 ──\n",
      "\u001b[32m✔\u001b[39m \u001b[34mdplyr    \u001b[39m 1.1.2     \u001b[32m✔\u001b[39m \u001b[34mreadr    \u001b[39m 2.1.4\n",
      "\u001b[32m✔\u001b[39m \u001b[34mforcats  \u001b[39m 1.0.0     \u001b[32m✔\u001b[39m \u001b[34mstringr  \u001b[39m 1.5.0\n",
      "\u001b[32m✔\u001b[39m \u001b[34mggplot2  \u001b[39m 3.4.2     \u001b[32m✔\u001b[39m \u001b[34mtibble   \u001b[39m 3.2.1\n",
      "\u001b[32m✔\u001b[39m \u001b[34mlubridate\u001b[39m 1.9.2     \u001b[32m✔\u001b[39m \u001b[34mtidyr    \u001b[39m 1.3.0\n",
      "\u001b[32m✔\u001b[39m \u001b[34mpurrr    \u001b[39m 1.0.1     \n",
      "── \u001b[1mConflicts\u001b[22m ─────────────────────────────────────────────────────────────────────────────────────────────────────────────────────────────────────────────────────────── tidyverse_conflicts() ──\n",
      "\u001b[31m✖\u001b[39m \u001b[34mdplyr\u001b[39m::\u001b[32mfilter()\u001b[39m masks \u001b[34mstats\u001b[39m::filter()\n",
      "\u001b[31m✖\u001b[39m \u001b[34mdplyr\u001b[39m::\u001b[32mlag()\u001b[39m    masks \u001b[34mstats\u001b[39m::lag()\n",
      "\u001b[36mℹ\u001b[39m Use the conflicted package (\u001b[3m\u001b[34m<http://conflicted.r-lib.org/>\u001b[39m\u001b[23m) to force all conflicts to become errors\n"
     ]
    }
   ],
   "source": [
    "# installing the libraries \n",
    "# uncomment the lines below to make sure that the required libraries are installed\n",
    "# install.packages(\"tidyverse\")\n",
    "# install.packages(\"ggthemes\")\n",
    "# install.packages(\"ggplot2\")\n",
    "# install.packages(\"dplyr\")\n",
    "\n",
    "# importing the libraries\n",
    "library(tidyverse)\n",
    "library(ggthemes)\n",
    "library(ggplot2)\n",
    "library(dplyr)\n",
    "library(glue)"
   ]
  },
  {
   "cell_type": "markdown",
   "id": "7b6b3223-2ab6-4811-a5a1-02b11dd918dc",
   "metadata": {},
   "source": [
    "## Reading the csv file with the result of the simulation"
   ]
  },
  {
   "cell_type": "code",
   "execution_count": 2,
   "id": "d024a709-d56e-4f21-8072-d991d1fe06b8",
   "metadata": {},
   "outputs": [
    {
     "name": "stderr",
     "output_type": "stream",
     "text": [
      "\u001b[1mRows: \u001b[22m\u001b[34m2642\u001b[39m \u001b[1mColumns: \u001b[22m\u001b[34m15\u001b[39m\n",
      "\u001b[36m──\u001b[39m \u001b[1mColumn specification\u001b[22m \u001b[36m─────────────────────────────────────────────────────────────────────────────────────────────────────────────────────────────────────────────────────────────────────────\u001b[39m\n",
      "\u001b[1mDelimiter:\u001b[22m \",\"\n",
      "\u001b[31mchr\u001b[39m (7): type, previous_aa, new_aa_1l, new_aa_3l, conversion, new_seq, secon...\n",
      "\u001b[32mdbl\u001b[39m (8): residue_number, fa_score, ddg_score, hbond_score, sasa_score, diff_...\n",
      "\n",
      "\u001b[36mℹ\u001b[39m Use `spec()` to retrieve the full column specification for this data.\n",
      "\u001b[36mℹ\u001b[39m Specify the column types or set `show_col_types = FALSE` to quiet this message.\n"
     ]
    },
    {
     "data": {
      "text/html": [
       "<table class=\"dataframe\">\n",
       "<caption>A tibble: 6 × 15</caption>\n",
       "<thead>\n",
       "\t<tr><th scope=col>type</th><th scope=col>residue_number</th><th scope=col>previous_aa</th><th scope=col>new_aa_1l</th><th scope=col>new_aa_3l</th><th scope=col>conversion</th><th scope=col>new_seq</th><th scope=col>fa_score</th><th scope=col>ddg_score</th><th scope=col>hbond_score</th><th scope=col>sasa_score</th><th scope=col>secondary_structure</th><th scope=col>diff_hbonds</th><th scope=col>diff_sasa</th><th scope=col>diff_secondary_structure</th></tr>\n",
       "\t<tr><th scope=col>&lt;chr&gt;</th><th scope=col>&lt;dbl&gt;</th><th scope=col>&lt;chr&gt;</th><th scope=col>&lt;chr&gt;</th><th scope=col>&lt;chr&gt;</th><th scope=col>&lt;chr&gt;</th><th scope=col>&lt;chr&gt;</th><th scope=col>&lt;dbl&gt;</th><th scope=col>&lt;dbl&gt;</th><th scope=col>&lt;dbl&gt;</th><th scope=col>&lt;dbl&gt;</th><th scope=col>&lt;chr&gt;</th><th scope=col>&lt;dbl&gt;</th><th scope=col>&lt;dbl&gt;</th><th scope=col>&lt;dbl&gt;</th></tr>\n",
       "</thead>\n",
       "<tbody>\n",
       "\t<tr><td>wild_type</td><td>NA</td><td>NA</td><td>NA</td><td>NA </td><td>NA   </td><td>NLPNMLRDLRDAFSRVKTFFDQLDNLLLKESLLEDFKGYLGCQALSEMIQFYLEEVMPQAENQDPDIKAHVNSLGENLKTLRLRLRRCHRFLPCENKSKAVEQVKNAFNKLQEKGIYKAMSEFDIFINYIEAYMTMKIR</td><td>122.8756</td><td> 0.000000</td><td>98</td><td>12050.96</td><td>LHHHHHHHHHHHHHHHHHHLLLLLLLLLLHHHHHHHHLLLHHHHHHHHHHHHHHHHHHHHHHHLHHHHHHHHHHHHHHHHHHHHHHHLLLLLHHHLLLHHHHHHHHHHHHLHHHHHHHHHHLHHHHHHHHHHHHHHHHL</td><td>0</td><td>  0.000000</td><td>0</td></tr>\n",
       "\t<tr><td>mutant   </td><td> 1</td><td>N </td><td>A </td><td>ALA</td><td>1NtoA</td><td>ALPNMLRDLRDAFSRVKTFFDQLDNLLLKESLLEDFKGYLGCQALSEMIQFYLEEVMPQAENQDPDIKAHVNSLGENLKTLRLRLRRCHRFLPCENKSKAVEQVKNAFNKLQEKGIYKAMSEFDIFINYIEAYMTMKIR</td><td>131.7850</td><td> 8.909365</td><td>98</td><td>12005.35</td><td>LHHHHHHHHHHHHHHHHHHLLLLLLLLLLHHHHHHHHLLLHHHHHHHHHHHHHHHHHHHHHHHLHHHHHHHHHHHHHHHHHHHHHHHLLLLLHHHLLLHHHHHHHHHHHHLHHHHHHHHHHLHHHHHHHHHHHHHHHHL</td><td>0</td><td>-45.613435</td><td>0</td></tr>\n",
       "\t<tr><td>mutant   </td><td> 1</td><td>N </td><td>C </td><td>CYS</td><td>1NtoC</td><td>CLPNMLRDLRDAFSRVKTFFDQLDNLLLKESLLEDFKGYLGCQALSEMIQFYLEEVMPQAENQDPDIKAHVNSLGENLKTLRLRLRRCHRFLPCENKSKAVEQVKNAFNKLQEKGIYKAMSEFDIFINYIEAYMTMKIR</td><td>138.4468</td><td>15.571199</td><td>98</td><td>12033.74</td><td>LHHHHHHHHHHHHHHHHHHLLLLLLLLLLHHHHHHHHLLLHHHHHHHHHHHHHHHHHHHHHHHLHHHHHHHHHHHHHHHHHHHHHHHLLLLLHHHLLLHHHHHHHHHHHHLHHHHHHHHHHLHHHHHHHHHHHHHHHHL</td><td>0</td><td>-17.227059</td><td>0</td></tr>\n",
       "\t<tr><td>mutant   </td><td> 1</td><td>N </td><td>D </td><td>ASP</td><td>1NtoD</td><td>DLPNMLRDLRDAFSRVKTFFDQLDNLLLKESLLEDFKGYLGCQALSEMIQFYLEEVMPQAENQDPDIKAHVNSLGENLKTLRLRLRRCHRFLPCENKSKAVEQVKNAFNKLQEKGIYKAMSEFDIFINYIEAYMTMKIR</td><td>132.3435</td><td> 9.467917</td><td>98</td><td>12043.57</td><td>LHHHHHHHHHHHHHHHHHHLLLLLLLLLLHHHHHHHHLLLHHHHHHHHHHHHHHHHHHHHHHHLHHHHHHHHHHHHHHHHHHHHHHHLLLLLHHHLLLHHHHHHHHHHHHLHHHHHHHHHHLHHHHHHHHHHHHHHHHL</td><td>0</td><td> -7.397124</td><td>0</td></tr>\n",
       "\t<tr><td>mutant   </td><td> 1</td><td>N </td><td>E </td><td>GLU</td><td>1NtoE</td><td>ELPNMLRDLRDAFSRVKTFFDQLDNLLLKESLLEDFKGYLGCQALSEMIQFYLEEVMPQAENQDPDIKAHVNSLGENLKTLRLRLRRCHRFLPCENKSKAVEQVKNAFNKLQEKGIYKAMSEFDIFINYIEAYMTMKIR</td><td>142.7852</td><td>19.909577</td><td>98</td><td>12055.52</td><td>LHHHHHHHHHHHHHHHHHHLLLLLLLLLLHHHHHHHHLLLHHHHHHHHHHHHHHHHHHHHHHHLHHHHHHHHHHHHHHHHHHHHHHHLLLLLHHHLLLHHHHHHHHHHHHLHHHHHHHHHHLHHHHHHHHHHHHHHHHL</td><td>0</td><td>  4.560080</td><td>0</td></tr>\n",
       "\t<tr><td>mutant   </td><td> 1</td><td>N </td><td>F </td><td>PHE</td><td>1NtoF</td><td>FLPNMLRDLRDAFSRVKTFFDQLDNLLLKESLLEDFKGYLGCQALSEMIQFYLEEVMPQAENQDPDIKAHVNSLGENLKTLRLRLRRCHRFLPCENKSKAVEQVKNAFNKLQEKGIYKAMSEFDIFINYIEAYMTMKIR</td><td>136.1603</td><td>13.284711</td><td>98</td><td>12107.81</td><td>LHHHHHHHHHHHHHHHHHHLLLLLLLLLLHHHHHHHHLLLHHHHHHHHHHHHHHHHHHHHHHHLHHHHHHHHHHHHHHHHHHHHHHHLLLLLHHHLLLHHHHHHHHHHHHLHHHHHHHHHHLHHHHHHHHHHHHHHHHL</td><td>0</td><td> 56.848926</td><td>0</td></tr>\n",
       "</tbody>\n",
       "</table>\n"
      ],
      "text/latex": [
       "A tibble: 6 × 15\n",
       "\\begin{tabular}{lllllllllllllll}\n",
       " type & residue\\_number & previous\\_aa & new\\_aa\\_1l & new\\_aa\\_3l & conversion & new\\_seq & fa\\_score & ddg\\_score & hbond\\_score & sasa\\_score & secondary\\_structure & diff\\_hbonds & diff\\_sasa & diff\\_secondary\\_structure\\\\\n",
       " <chr> & <dbl> & <chr> & <chr> & <chr> & <chr> & <chr> & <dbl> & <dbl> & <dbl> & <dbl> & <chr> & <dbl> & <dbl> & <dbl>\\\\\n",
       "\\hline\n",
       "\t wild\\_type & NA & NA & NA & NA  & NA    & NLPNMLRDLRDAFSRVKTFFDQLDNLLLKESLLEDFKGYLGCQALSEMIQFYLEEVMPQAENQDPDIKAHVNSLGENLKTLRLRLRRCHRFLPCENKSKAVEQVKNAFNKLQEKGIYKAMSEFDIFINYIEAYMTMKIR & 122.8756 &  0.000000 & 98 & 12050.96 & LHHHHHHHHHHHHHHHHHHLLLLLLLLLLHHHHHHHHLLLHHHHHHHHHHHHHHHHHHHHHHHLHHHHHHHHHHHHHHHHHHHHHHHLLLLLHHHLLLHHHHHHHHHHHHLHHHHHHHHHHLHHHHHHHHHHHHHHHHL & 0 &   0.000000 & 0\\\\\n",
       "\t mutant    &  1 & N  & A  & ALA & 1NtoA & ALPNMLRDLRDAFSRVKTFFDQLDNLLLKESLLEDFKGYLGCQALSEMIQFYLEEVMPQAENQDPDIKAHVNSLGENLKTLRLRLRRCHRFLPCENKSKAVEQVKNAFNKLQEKGIYKAMSEFDIFINYIEAYMTMKIR & 131.7850 &  8.909365 & 98 & 12005.35 & LHHHHHHHHHHHHHHHHHHLLLLLLLLLLHHHHHHHHLLLHHHHHHHHHHHHHHHHHHHHHHHLHHHHHHHHHHHHHHHHHHHHHHHLLLLLHHHLLLHHHHHHHHHHHHLHHHHHHHHHHLHHHHHHHHHHHHHHHHL & 0 & -45.613435 & 0\\\\\n",
       "\t mutant    &  1 & N  & C  & CYS & 1NtoC & CLPNMLRDLRDAFSRVKTFFDQLDNLLLKESLLEDFKGYLGCQALSEMIQFYLEEVMPQAENQDPDIKAHVNSLGENLKTLRLRLRRCHRFLPCENKSKAVEQVKNAFNKLQEKGIYKAMSEFDIFINYIEAYMTMKIR & 138.4468 & 15.571199 & 98 & 12033.74 & LHHHHHHHHHHHHHHHHHHLLLLLLLLLLHHHHHHHHLLLHHHHHHHHHHHHHHHHHHHHHHHLHHHHHHHHHHHHHHHHHHHHHHHLLLLLHHHLLLHHHHHHHHHHHHLHHHHHHHHHHLHHHHHHHHHHHHHHHHL & 0 & -17.227059 & 0\\\\\n",
       "\t mutant    &  1 & N  & D  & ASP & 1NtoD & DLPNMLRDLRDAFSRVKTFFDQLDNLLLKESLLEDFKGYLGCQALSEMIQFYLEEVMPQAENQDPDIKAHVNSLGENLKTLRLRLRRCHRFLPCENKSKAVEQVKNAFNKLQEKGIYKAMSEFDIFINYIEAYMTMKIR & 132.3435 &  9.467917 & 98 & 12043.57 & LHHHHHHHHHHHHHHHHHHLLLLLLLLLLHHHHHHHHLLLHHHHHHHHHHHHHHHHHHHHHHHLHHHHHHHHHHHHHHHHHHHHHHHLLLLLHHHLLLHHHHHHHHHHHHLHHHHHHHHHHLHHHHHHHHHHHHHHHHL & 0 &  -7.397124 & 0\\\\\n",
       "\t mutant    &  1 & N  & E  & GLU & 1NtoE & ELPNMLRDLRDAFSRVKTFFDQLDNLLLKESLLEDFKGYLGCQALSEMIQFYLEEVMPQAENQDPDIKAHVNSLGENLKTLRLRLRRCHRFLPCENKSKAVEQVKNAFNKLQEKGIYKAMSEFDIFINYIEAYMTMKIR & 142.7852 & 19.909577 & 98 & 12055.52 & LHHHHHHHHHHHHHHHHHHLLLLLLLLLLHHHHHHHHLLLHHHHHHHHHHHHHHHHHHHHHHHLHHHHHHHHHHHHHHHHHHHHHHHLLLLLHHHLLLHHHHHHHHHHHHLHHHHHHHHHHLHHHHHHHHHHHHHHHHL & 0 &   4.560080 & 0\\\\\n",
       "\t mutant    &  1 & N  & F  & PHE & 1NtoF & FLPNMLRDLRDAFSRVKTFFDQLDNLLLKESLLEDFKGYLGCQALSEMIQFYLEEVMPQAENQDPDIKAHVNSLGENLKTLRLRLRRCHRFLPCENKSKAVEQVKNAFNKLQEKGIYKAMSEFDIFINYIEAYMTMKIR & 136.1603 & 13.284711 & 98 & 12107.81 & LHHHHHHHHHHHHHHHHHHLLLLLLLLLLHHHHHHHHLLLHHHHHHHHHHHHHHHHHHHHHHHLHHHHHHHHHHHHHHHHHHHHHHHLLLLLHHHLLLHHHHHHHHHHHHLHHHHHHHHHHLHHHHHHHHHHHHHHHHL & 0 &  56.848926 & 0\\\\\n",
       "\\end{tabular}\n"
      ],
      "text/markdown": [
       "\n",
       "A tibble: 6 × 15\n",
       "\n",
       "| type &lt;chr&gt; | residue_number &lt;dbl&gt; | previous_aa &lt;chr&gt; | new_aa_1l &lt;chr&gt; | new_aa_3l &lt;chr&gt; | conversion &lt;chr&gt; | new_seq &lt;chr&gt; | fa_score &lt;dbl&gt; | ddg_score &lt;dbl&gt; | hbond_score &lt;dbl&gt; | sasa_score &lt;dbl&gt; | secondary_structure &lt;chr&gt; | diff_hbonds &lt;dbl&gt; | diff_sasa &lt;dbl&gt; | diff_secondary_structure &lt;dbl&gt; |\n",
       "|---|---|---|---|---|---|---|---|---|---|---|---|---|---|---|\n",
       "| wild_type | NA | NA | NA | NA  | NA    | NLPNMLRDLRDAFSRVKTFFDQLDNLLLKESLLEDFKGYLGCQALSEMIQFYLEEVMPQAENQDPDIKAHVNSLGENLKTLRLRLRRCHRFLPCENKSKAVEQVKNAFNKLQEKGIYKAMSEFDIFINYIEAYMTMKIR | 122.8756 |  0.000000 | 98 | 12050.96 | LHHHHHHHHHHHHHHHHHHLLLLLLLLLLHHHHHHHHLLLHHHHHHHHHHHHHHHHHHHHHHHLHHHHHHHHHHHHHHHHHHHHHHHLLLLLHHHLLLHHHHHHHHHHHHLHHHHHHHHHHLHHHHHHHHHHHHHHHHL | 0 |   0.000000 | 0 |\n",
       "| mutant    |  1 | N  | A  | ALA | 1NtoA | ALPNMLRDLRDAFSRVKTFFDQLDNLLLKESLLEDFKGYLGCQALSEMIQFYLEEVMPQAENQDPDIKAHVNSLGENLKTLRLRLRRCHRFLPCENKSKAVEQVKNAFNKLQEKGIYKAMSEFDIFINYIEAYMTMKIR | 131.7850 |  8.909365 | 98 | 12005.35 | LHHHHHHHHHHHHHHHHHHLLLLLLLLLLHHHHHHHHLLLHHHHHHHHHHHHHHHHHHHHHHHLHHHHHHHHHHHHHHHHHHHHHHHLLLLLHHHLLLHHHHHHHHHHHHLHHHHHHHHHHLHHHHHHHHHHHHHHHHL | 0 | -45.613435 | 0 |\n",
       "| mutant    |  1 | N  | C  | CYS | 1NtoC | CLPNMLRDLRDAFSRVKTFFDQLDNLLLKESLLEDFKGYLGCQALSEMIQFYLEEVMPQAENQDPDIKAHVNSLGENLKTLRLRLRRCHRFLPCENKSKAVEQVKNAFNKLQEKGIYKAMSEFDIFINYIEAYMTMKIR | 138.4468 | 15.571199 | 98 | 12033.74 | LHHHHHHHHHHHHHHHHHHLLLLLLLLLLHHHHHHHHLLLHHHHHHHHHHHHHHHHHHHHHHHLHHHHHHHHHHHHHHHHHHHHHHHLLLLLHHHLLLHHHHHHHHHHHHLHHHHHHHHHHLHHHHHHHHHHHHHHHHL | 0 | -17.227059 | 0 |\n",
       "| mutant    |  1 | N  | D  | ASP | 1NtoD | DLPNMLRDLRDAFSRVKTFFDQLDNLLLKESLLEDFKGYLGCQALSEMIQFYLEEVMPQAENQDPDIKAHVNSLGENLKTLRLRLRRCHRFLPCENKSKAVEQVKNAFNKLQEKGIYKAMSEFDIFINYIEAYMTMKIR | 132.3435 |  9.467917 | 98 | 12043.57 | LHHHHHHHHHHHHHHHHHHLLLLLLLLLLHHHHHHHHLLLHHHHHHHHHHHHHHHHHHHHHHHLHHHHHHHHHHHHHHHHHHHHHHHLLLLLHHHLLLHHHHHHHHHHHHLHHHHHHHHHHLHHHHHHHHHHHHHHHHL | 0 |  -7.397124 | 0 |\n",
       "| mutant    |  1 | N  | E  | GLU | 1NtoE | ELPNMLRDLRDAFSRVKTFFDQLDNLLLKESLLEDFKGYLGCQALSEMIQFYLEEVMPQAENQDPDIKAHVNSLGENLKTLRLRLRRCHRFLPCENKSKAVEQVKNAFNKLQEKGIYKAMSEFDIFINYIEAYMTMKIR | 142.7852 | 19.909577 | 98 | 12055.52 | LHHHHHHHHHHHHHHHHHHLLLLLLLLLLHHHHHHHHLLLHHHHHHHHHHHHHHHHHHHHHHHLHHHHHHHHHHHHHHHHHHHHHHHLLLLLHHHLLLHHHHHHHHHHHHLHHHHHHHHHHLHHHHHHHHHHHHHHHHL | 0 |   4.560080 | 0 |\n",
       "| mutant    |  1 | N  | F  | PHE | 1NtoF | FLPNMLRDLRDAFSRVKTFFDQLDNLLLKESLLEDFKGYLGCQALSEMIQFYLEEVMPQAENQDPDIKAHVNSLGENLKTLRLRLRRCHRFLPCENKSKAVEQVKNAFNKLQEKGIYKAMSEFDIFINYIEAYMTMKIR | 136.1603 | 13.284711 | 98 | 12107.81 | LHHHHHHHHHHHHHHHHHHLLLLLLLLLLHHHHHHHHLLLHHHHHHHHHHHHHHHHHHHHHHHLHHHHHHHHHHHHHHHHHHHHHHHLLLLLHHHLLLHHHHHHHHHHHHLHHHHHHHHHHLHHHHHHHHHHHHHHHHL | 0 |  56.848926 | 0 |\n",
       "\n"
      ],
      "text/plain": [
       "  type      residue_number previous_aa new_aa_1l new_aa_3l conversion\n",
       "1 wild_type NA             NA          NA        NA        NA        \n",
       "2 mutant     1             N           A         ALA       1NtoA     \n",
       "3 mutant     1             N           C         CYS       1NtoC     \n",
       "4 mutant     1             N           D         ASP       1NtoD     \n",
       "5 mutant     1             N           E         GLU       1NtoE     \n",
       "6 mutant     1             N           F         PHE       1NtoF     \n",
       "  new_seq                                                                                                                                    \n",
       "1 NLPNMLRDLRDAFSRVKTFFDQLDNLLLKESLLEDFKGYLGCQALSEMIQFYLEEVMPQAENQDPDIKAHVNSLGENLKTLRLRLRRCHRFLPCENKSKAVEQVKNAFNKLQEKGIYKAMSEFDIFINYIEAYMTMKIR\n",
       "2 ALPNMLRDLRDAFSRVKTFFDQLDNLLLKESLLEDFKGYLGCQALSEMIQFYLEEVMPQAENQDPDIKAHVNSLGENLKTLRLRLRRCHRFLPCENKSKAVEQVKNAFNKLQEKGIYKAMSEFDIFINYIEAYMTMKIR\n",
       "3 CLPNMLRDLRDAFSRVKTFFDQLDNLLLKESLLEDFKGYLGCQALSEMIQFYLEEVMPQAENQDPDIKAHVNSLGENLKTLRLRLRRCHRFLPCENKSKAVEQVKNAFNKLQEKGIYKAMSEFDIFINYIEAYMTMKIR\n",
       "4 DLPNMLRDLRDAFSRVKTFFDQLDNLLLKESLLEDFKGYLGCQALSEMIQFYLEEVMPQAENQDPDIKAHVNSLGENLKTLRLRLRRCHRFLPCENKSKAVEQVKNAFNKLQEKGIYKAMSEFDIFINYIEAYMTMKIR\n",
       "5 ELPNMLRDLRDAFSRVKTFFDQLDNLLLKESLLEDFKGYLGCQALSEMIQFYLEEVMPQAENQDPDIKAHVNSLGENLKTLRLRLRRCHRFLPCENKSKAVEQVKNAFNKLQEKGIYKAMSEFDIFINYIEAYMTMKIR\n",
       "6 FLPNMLRDLRDAFSRVKTFFDQLDNLLLKESLLEDFKGYLGCQALSEMIQFYLEEVMPQAENQDPDIKAHVNSLGENLKTLRLRLRRCHRFLPCENKSKAVEQVKNAFNKLQEKGIYKAMSEFDIFINYIEAYMTMKIR\n",
       "  fa_score ddg_score hbond_score sasa_score\n",
       "1 122.8756  0.000000 98          12050.96  \n",
       "2 131.7850  8.909365 98          12005.35  \n",
       "3 138.4468 15.571199 98          12033.74  \n",
       "4 132.3435  9.467917 98          12043.57  \n",
       "5 142.7852 19.909577 98          12055.52  \n",
       "6 136.1603 13.284711 98          12107.81  \n",
       "  secondary_structure                                                                                                                        \n",
       "1 LHHHHHHHHHHHHHHHHHHLLLLLLLLLLHHHHHHHHLLLHHHHHHHHHHHHHHHHHHHHHHHLHHHHHHHHHHHHHHHHHHHHHHHLLLLLHHHLLLHHHHHHHHHHHHLHHHHHHHHHHLHHHHHHHHHHHHHHHHL\n",
       "2 LHHHHHHHHHHHHHHHHHHLLLLLLLLLLHHHHHHHHLLLHHHHHHHHHHHHHHHHHHHHHHHLHHHHHHHHHHHHHHHHHHHHHHHLLLLLHHHLLLHHHHHHHHHHHHLHHHHHHHHHHLHHHHHHHHHHHHHHHHL\n",
       "3 LHHHHHHHHHHHHHHHHHHLLLLLLLLLLHHHHHHHHLLLHHHHHHHHHHHHHHHHHHHHHHHLHHHHHHHHHHHHHHHHHHHHHHHLLLLLHHHLLLHHHHHHHHHHHHLHHHHHHHHHHLHHHHHHHHHHHHHHHHL\n",
       "4 LHHHHHHHHHHHHHHHHHHLLLLLLLLLLHHHHHHHHLLLHHHHHHHHHHHHHHHHHHHHHHHLHHHHHHHHHHHHHHHHHHHHHHHLLLLLHHHLLLHHHHHHHHHHHHLHHHHHHHHHHLHHHHHHHHHHHHHHHHL\n",
       "5 LHHHHHHHHHHHHHHHHHHLLLLLLLLLLHHHHHHHHLLLHHHHHHHHHHHHHHHHHHHHHHHLHHHHHHHHHHHHHHHHHHHHHHHLLLLLHHHLLLHHHHHHHHHHHHLHHHHHHHHHHLHHHHHHHHHHHHHHHHL\n",
       "6 LHHHHHHHHHHHHHHHHHHLLLLLLLLLLHHHHHHHHLLLHHHHHHHHHHHHHHHHHHHHHHHLHHHHHHHHHHHHHHHHHHHHHHHLLLLLHHHLLLHHHHHHHHHHHHLHHHHHHHHHHLHHHHHHHHHHHHHHHHL\n",
       "  diff_hbonds diff_sasa  diff_secondary_structure\n",
       "1 0             0.000000 0                       \n",
       "2 0           -45.613435 0                       \n",
       "3 0           -17.227059 0                       \n",
       "4 0            -7.397124 0                       \n",
       "5 0             4.560080 0                       \n",
       "6 0            56.848926 0                       "
      ]
     },
     "metadata": {},
     "output_type": "display_data"
    }
   ],
   "source": [
    "il_10 <- read_csv(\"il_10.csv\")\n",
    "head(il_10)"
   ]
  },
  {
   "cell_type": "markdown",
   "id": "6a9c8ac6-4961-4307-98fa-12fefe177052",
   "metadata": {},
   "source": [
    "#### Removing the amino acid sequence and the secondary sequence to increase readability"
   ]
  },
  {
   "cell_type": "code",
   "execution_count": 3,
   "id": "abf0f1fc-ac19-45eb-b526-0d143319769f",
   "metadata": {},
   "outputs": [
    {
     "data": {
      "text/html": [
       "<table class=\"dataframe\">\n",
       "<caption>A tibble: 6 × 11</caption>\n",
       "<thead>\n",
       "\t<tr><th scope=col>type</th><th scope=col>residue_number</th><th scope=col>previous_aa</th><th scope=col>new_aa_1l</th><th scope=col>fa_score</th><th scope=col>ddg_score</th><th scope=col>hbond_score</th><th scope=col>sasa_score</th><th scope=col>diff_hbonds</th><th scope=col>diff_sasa</th><th scope=col>diff_secondary_structure</th></tr>\n",
       "\t<tr><th scope=col>&lt;chr&gt;</th><th scope=col>&lt;dbl&gt;</th><th scope=col>&lt;chr&gt;</th><th scope=col>&lt;chr&gt;</th><th scope=col>&lt;dbl&gt;</th><th scope=col>&lt;dbl&gt;</th><th scope=col>&lt;dbl&gt;</th><th scope=col>&lt;dbl&gt;</th><th scope=col>&lt;dbl&gt;</th><th scope=col>&lt;dbl&gt;</th><th scope=col>&lt;dbl&gt;</th></tr>\n",
       "</thead>\n",
       "<tbody>\n",
       "\t<tr><td>wild_type</td><td>NA</td><td>NA</td><td>NA</td><td>122.8756</td><td> 0.000000</td><td>98</td><td>12050.96</td><td>0</td><td>  0.000000</td><td>0</td></tr>\n",
       "\t<tr><td>mutant   </td><td> 1</td><td>N </td><td>A </td><td>131.7850</td><td> 8.909365</td><td>98</td><td>12005.35</td><td>0</td><td>-45.613435</td><td>0</td></tr>\n",
       "\t<tr><td>mutant   </td><td> 1</td><td>N </td><td>C </td><td>138.4468</td><td>15.571199</td><td>98</td><td>12033.74</td><td>0</td><td>-17.227059</td><td>0</td></tr>\n",
       "\t<tr><td>mutant   </td><td> 1</td><td>N </td><td>D </td><td>132.3435</td><td> 9.467917</td><td>98</td><td>12043.57</td><td>0</td><td> -7.397124</td><td>0</td></tr>\n",
       "\t<tr><td>mutant   </td><td> 1</td><td>N </td><td>E </td><td>142.7852</td><td>19.909577</td><td>98</td><td>12055.52</td><td>0</td><td>  4.560080</td><td>0</td></tr>\n",
       "\t<tr><td>mutant   </td><td> 1</td><td>N </td><td>F </td><td>136.1603</td><td>13.284711</td><td>98</td><td>12107.81</td><td>0</td><td> 56.848926</td><td>0</td></tr>\n",
       "</tbody>\n",
       "</table>\n"
      ],
      "text/latex": [
       "A tibble: 6 × 11\n",
       "\\begin{tabular}{lllllllllll}\n",
       " type & residue\\_number & previous\\_aa & new\\_aa\\_1l & fa\\_score & ddg\\_score & hbond\\_score & sasa\\_score & diff\\_hbonds & diff\\_sasa & diff\\_secondary\\_structure\\\\\n",
       " <chr> & <dbl> & <chr> & <chr> & <dbl> & <dbl> & <dbl> & <dbl> & <dbl> & <dbl> & <dbl>\\\\\n",
       "\\hline\n",
       "\t wild\\_type & NA & NA & NA & 122.8756 &  0.000000 & 98 & 12050.96 & 0 &   0.000000 & 0\\\\\n",
       "\t mutant    &  1 & N  & A  & 131.7850 &  8.909365 & 98 & 12005.35 & 0 & -45.613435 & 0\\\\\n",
       "\t mutant    &  1 & N  & C  & 138.4468 & 15.571199 & 98 & 12033.74 & 0 & -17.227059 & 0\\\\\n",
       "\t mutant    &  1 & N  & D  & 132.3435 &  9.467917 & 98 & 12043.57 & 0 &  -7.397124 & 0\\\\\n",
       "\t mutant    &  1 & N  & E  & 142.7852 & 19.909577 & 98 & 12055.52 & 0 &   4.560080 & 0\\\\\n",
       "\t mutant    &  1 & N  & F  & 136.1603 & 13.284711 & 98 & 12107.81 & 0 &  56.848926 & 0\\\\\n",
       "\\end{tabular}\n"
      ],
      "text/markdown": [
       "\n",
       "A tibble: 6 × 11\n",
       "\n",
       "| type &lt;chr&gt; | residue_number &lt;dbl&gt; | previous_aa &lt;chr&gt; | new_aa_1l &lt;chr&gt; | fa_score &lt;dbl&gt; | ddg_score &lt;dbl&gt; | hbond_score &lt;dbl&gt; | sasa_score &lt;dbl&gt; | diff_hbonds &lt;dbl&gt; | diff_sasa &lt;dbl&gt; | diff_secondary_structure &lt;dbl&gt; |\n",
       "|---|---|---|---|---|---|---|---|---|---|---|\n",
       "| wild_type | NA | NA | NA | 122.8756 |  0.000000 | 98 | 12050.96 | 0 |   0.000000 | 0 |\n",
       "| mutant    |  1 | N  | A  | 131.7850 |  8.909365 | 98 | 12005.35 | 0 | -45.613435 | 0 |\n",
       "| mutant    |  1 | N  | C  | 138.4468 | 15.571199 | 98 | 12033.74 | 0 | -17.227059 | 0 |\n",
       "| mutant    |  1 | N  | D  | 132.3435 |  9.467917 | 98 | 12043.57 | 0 |  -7.397124 | 0 |\n",
       "| mutant    |  1 | N  | E  | 142.7852 | 19.909577 | 98 | 12055.52 | 0 |   4.560080 | 0 |\n",
       "| mutant    |  1 | N  | F  | 136.1603 | 13.284711 | 98 | 12107.81 | 0 |  56.848926 | 0 |\n",
       "\n"
      ],
      "text/plain": [
       "  type      residue_number previous_aa new_aa_1l fa_score ddg_score hbond_score\n",
       "1 wild_type NA             NA          NA        122.8756  0.000000 98         \n",
       "2 mutant     1             N           A         131.7850  8.909365 98         \n",
       "3 mutant     1             N           C         138.4468 15.571199 98         \n",
       "4 mutant     1             N           D         132.3435  9.467917 98         \n",
       "5 mutant     1             N           E         142.7852 19.909577 98         \n",
       "6 mutant     1             N           F         136.1603 13.284711 98         \n",
       "  sasa_score diff_hbonds diff_sasa  diff_secondary_structure\n",
       "1 12050.96   0             0.000000 0                       \n",
       "2 12005.35   0           -45.613435 0                       \n",
       "3 12033.74   0           -17.227059 0                       \n",
       "4 12043.57   0            -7.397124 0                       \n",
       "5 12055.52   0             4.560080 0                       \n",
       "6 12107.81   0            56.848926 0                       "
      ]
     },
     "metadata": {},
     "output_type": "display_data"
    }
   ],
   "source": [
    "il_10_short <- il_10 |> select(-c(new_seq, secondary_structure, conversion, new_aa_3l))\n",
    "head(il_10_short)"
   ]
  },
  {
   "cell_type": "markdown",
   "id": "551973e4-8e4e-4ea9-a355-0042c8931180",
   "metadata": {},
   "source": [
    "## General Analysis "
   ]
  },
  {
   "cell_type": "markdown",
   "id": "d68c8d86-77ed-430a-b58a-63fd5e922890",
   "metadata": {},
   "source": [
    "## Analysis on the delta delta G scores\n",
    "Below is a histogram of the values\n",
    "> Heavily skewed as expected"
   ]
  },
  {
   "cell_type": "code",
   "execution_count": 4,
   "id": "ec6a9060-c8ac-49a9-9c8d-a91ee901abe4",
   "metadata": {},
   "outputs": [
    {
     "data": {
      "image/png": "[encoded data removed]",
      "text/plain": [
       "plot without title"
      ]
     },
     "metadata": {
      "image/png": {
       "height": 420,
       "width": 420
      }
     },
     "output_type": "display_data"
    }
   ],
   "source": [
    "wildtype_ddg <- (il_10_short |> filter(type == \"wild_type\"))$ddg_score\n",
    "il_10_short |> ggplot(aes(ddg_score)) + \n",
    "    geom_histogram(fill = \"#1DB954\", bins = 30) + \n",
    "    theme(plot.title = element_text(hjust = 0, size = 16, face = \"bold\", color = \"white\"),\n",
    "        axis.title = element_text(size = 14, face = \"bold\", color = \"white\"),\n",
    "        axis.text = element_text(size = 12),\n",
    "        plot.background = element_rect(fill = \"#191919\"),\n",
    "        panel.background = element_blank(),\n",
    "        panel.grid.major.y = element_blank(),\n",
    "        panel.grid.minor.y = element_blank(),\n",
    "        panel.grid.major.x = element_line(color = \"gray90\", linewidth = 0.5),\n",
    "        panel.grid.minor.x = element_blank()) +\n",
    "  ggtitle(\"Histogram of delta delta g for IL_10\") +\n",
    "  labs(x = \"Delta delta G energy score\", y = \"count\") +\n",
    "  geom_vline(xintercept = wildtype_ddg, color = \"red\", linewidth = 1.5, linetype = \"dashed\") +\n",
    "  theme(plot.margin = unit(c(1, 1, 1, 0.5), \"cm\"))"
   ]
  },
  {
   "cell_type": "markdown",
   "id": "fda17199-820f-4e7f-bc75-9fd7e3541d00",
   "metadata": {},
   "source": [
    "### A look at the highest ΔΔG values \n",
    "> Among the top 100 ΔΔG values, **chaning a non-R amino acid to R conasiderably increase the ddg_score**"
   ]
  },
  {
   "cell_type": "code",
   "execution_count": 5,
   "id": "0d9d3bbf-6809-4588-bf6e-692681df5ffe",
   "metadata": {},
   "outputs": [
    {
     "name": "stdout",
     "output_type": "stream",
     "text": [
      "[1] \"The table below shows the number of new amino acids that were added in the top 100 ddg scores\"\n"
     ]
    },
    {
     "data": {
      "text/plain": [
       "\n",
       " F  H  P  R  W  Y \n",
       " 6  2 71  1 13  7 "
      ]
     },
     "metadata": {},
     "output_type": "display_data"
    },
    {
     "data": {
      "text/html": [
       "<table class=\"dataframe\">\n",
       "<caption>A tibble: 8 × 11</caption>\n",
       "<thead>\n",
       "\t<tr><th scope=col>type</th><th scope=col>residue_number</th><th scope=col>previous_aa</th><th scope=col>new_aa_1l</th><th scope=col>fa_score</th><th scope=col>ddg_score</th><th scope=col>hbond_score</th><th scope=col>sasa_score</th><th scope=col>diff_hbonds</th><th scope=col>diff_sasa</th><th scope=col>diff_secondary_structure</th></tr>\n",
       "\t<tr><th scope=col>&lt;chr&gt;</th><th scope=col>&lt;dbl&gt;</th><th scope=col>&lt;chr&gt;</th><th scope=col>&lt;chr&gt;</th><th scope=col>&lt;dbl&gt;</th><th scope=col>&lt;dbl&gt;</th><th scope=col>&lt;dbl&gt;</th><th scope=col>&lt;dbl&gt;</th><th scope=col>&lt;dbl&gt;</th><th scope=col>&lt;dbl&gt;</th><th scope=col>&lt;dbl&gt;</th></tr>\n",
       "</thead>\n",
       "<tbody>\n",
       "\t<tr><td>mutant</td><td> 87</td><td>R</td><td>P</td><td>4925.163</td><td>4802.287</td><td>97</td><td>11957.45</td><td>-1</td><td>-93.509831</td><td>2</td></tr>\n",
       "\t<tr><td>mutant</td><td>118</td><td>K</td><td>P</td><td>4732.716</td><td>4609.840</td><td>97</td><td>12013.72</td><td>-1</td><td>-37.245652</td><td>0</td></tr>\n",
       "\t<tr><td>mutant</td><td>139</td><td>R</td><td>P</td><td>4090.317</td><td>3967.441</td><td>97</td><td>11963.88</td><td>-1</td><td>-87.084351</td><td>1</td></tr>\n",
       "\t<tr><td>mutant</td><td>105</td><td>K</td><td>P</td><td>3940.578</td><td>3817.702</td><td>97</td><td>11987.38</td><td>-1</td><td>-63.580987</td><td>0</td></tr>\n",
       "\t<tr><td>mutant</td><td> 97</td><td>K</td><td>P</td><td>3851.891</td><td>3729.016</td><td>98</td><td>12046.17</td><td> 0</td><td> -4.791666</td><td>0</td></tr>\n",
       "\t<tr><td>mutant</td><td> 10</td><td>R</td><td>P</td><td>3820.726</td><td>3697.850</td><td>97</td><td>12021.11</td><td>-1</td><td>-29.855850</td><td>1</td></tr>\n",
       "\t<tr><td>mutant</td><td>110</td><td>K</td><td>P</td><td>3753.280</td><td>3630.404</td><td>97</td><td>11994.50</td><td>-1</td><td>-56.461355</td><td>2</td></tr>\n",
       "\t<tr><td>mutant</td><td> 84</td><td>R</td><td>P</td><td>3736.448</td><td>3613.573</td><td>97</td><td>12006.73</td><td>-1</td><td>-44.228575</td><td>0</td></tr>\n",
       "</tbody>\n",
       "</table>\n"
      ],
      "text/latex": [
       "A tibble: 8 × 11\n",
       "\\begin{tabular}{lllllllllll}\n",
       " type & residue\\_number & previous\\_aa & new\\_aa\\_1l & fa\\_score & ddg\\_score & hbond\\_score & sasa\\_score & diff\\_hbonds & diff\\_sasa & diff\\_secondary\\_structure\\\\\n",
       " <chr> & <dbl> & <chr> & <chr> & <dbl> & <dbl> & <dbl> & <dbl> & <dbl> & <dbl> & <dbl>\\\\\n",
       "\\hline\n",
       "\t mutant &  87 & R & P & 4925.163 & 4802.287 & 97 & 11957.45 & -1 & -93.509831 & 2\\\\\n",
       "\t mutant & 118 & K & P & 4732.716 & 4609.840 & 97 & 12013.72 & -1 & -37.245652 & 0\\\\\n",
       "\t mutant & 139 & R & P & 4090.317 & 3967.441 & 97 & 11963.88 & -1 & -87.084351 & 1\\\\\n",
       "\t mutant & 105 & K & P & 3940.578 & 3817.702 & 97 & 11987.38 & -1 & -63.580987 & 0\\\\\n",
       "\t mutant &  97 & K & P & 3851.891 & 3729.016 & 98 & 12046.17 &  0 &  -4.791666 & 0\\\\\n",
       "\t mutant &  10 & R & P & 3820.726 & 3697.850 & 97 & 12021.11 & -1 & -29.855850 & 1\\\\\n",
       "\t mutant & 110 & K & P & 3753.280 & 3630.404 & 97 & 11994.50 & -1 & -56.461355 & 2\\\\\n",
       "\t mutant &  84 & R & P & 3736.448 & 3613.573 & 97 & 12006.73 & -1 & -44.228575 & 0\\\\\n",
       "\\end{tabular}\n"
      ],
      "text/markdown": [
       "\n",
       "A tibble: 8 × 11\n",
       "\n",
       "| type &lt;chr&gt; | residue_number &lt;dbl&gt; | previous_aa &lt;chr&gt; | new_aa_1l &lt;chr&gt; | fa_score &lt;dbl&gt; | ddg_score &lt;dbl&gt; | hbond_score &lt;dbl&gt; | sasa_score &lt;dbl&gt; | diff_hbonds &lt;dbl&gt; | diff_sasa &lt;dbl&gt; | diff_secondary_structure &lt;dbl&gt; |\n",
       "|---|---|---|---|---|---|---|---|---|---|---|\n",
       "| mutant |  87 | R | P | 4925.163 | 4802.287 | 97 | 11957.45 | -1 | -93.509831 | 2 |\n",
       "| mutant | 118 | K | P | 4732.716 | 4609.840 | 97 | 12013.72 | -1 | -37.245652 | 0 |\n",
       "| mutant | 139 | R | P | 4090.317 | 3967.441 | 97 | 11963.88 | -1 | -87.084351 | 1 |\n",
       "| mutant | 105 | K | P | 3940.578 | 3817.702 | 97 | 11987.38 | -1 | -63.580987 | 0 |\n",
       "| mutant |  97 | K | P | 3851.891 | 3729.016 | 98 | 12046.17 |  0 |  -4.791666 | 0 |\n",
       "| mutant |  10 | R | P | 3820.726 | 3697.850 | 97 | 12021.11 | -1 | -29.855850 | 1 |\n",
       "| mutant | 110 | K | P | 3753.280 | 3630.404 | 97 | 11994.50 | -1 | -56.461355 | 2 |\n",
       "| mutant |  84 | R | P | 3736.448 | 3613.573 | 97 | 12006.73 | -1 | -44.228575 | 0 |\n",
       "\n"
      ],
      "text/plain": [
       "  type   residue_number previous_aa new_aa_1l fa_score ddg_score hbond_score\n",
       "1 mutant  87            R           P         4925.163 4802.287  97         \n",
       "2 mutant 118            K           P         4732.716 4609.840  97         \n",
       "3 mutant 139            R           P         4090.317 3967.441  97         \n",
       "4 mutant 105            K           P         3940.578 3817.702  97         \n",
       "5 mutant  97            K           P         3851.891 3729.016  98         \n",
       "6 mutant  10            R           P         3820.726 3697.850  97         \n",
       "7 mutant 110            K           P         3753.280 3630.404  97         \n",
       "8 mutant  84            R           P         3736.448 3613.573  97         \n",
       "  sasa_score diff_hbonds diff_sasa  diff_secondary_structure\n",
       "1 11957.45   -1          -93.509831 2                       \n",
       "2 12013.72   -1          -37.245652 0                       \n",
       "3 11963.88   -1          -87.084351 1                       \n",
       "4 11987.38   -1          -63.580987 0                       \n",
       "5 12046.17    0           -4.791666 0                       \n",
       "6 12021.11   -1          -29.855850 1                       \n",
       "7 11994.50   -1          -56.461355 2                       \n",
       "8 12006.73   -1          -44.228575 0                       "
      ]
     },
     "metadata": {},
     "output_type": "display_data"
    }
   ],
   "source": [
    "print(\"The table below shows the number of new amino acids that were added in the top 100 ddg scores\")\n",
    "top_ddg <- il_10_short |> arrange(desc(ddg_score))\n",
    "table((top_ddg |> head(n = 100))$new_aa_1l)\n",
    "top_ddg |> head(n = 8)"
   ]
  },
  {
   "cell_type": "markdown",
   "id": "1a891013-4226-47bb-95ea-15fa2374beb1",
   "metadata": {},
   "source": [
    "### A look at the lowest ΔΔG values \n",
    "> Placeholder"
   ]
  },
  {
   "cell_type": "code",
   "execution_count": 6,
   "id": "47d7bb41-933b-4da0-aa3a-5579653d474a",
   "metadata": {},
   "outputs": [
    {
     "name": "stdout",
     "output_type": "stream",
     "text": [
      "[1] \"*****************************\"\n",
      "[1] \"The table below shows the number of new amino acids that were added the mutated position among the bottom 100 values of delta delta g\"\n"
     ]
    },
    {
     "data": {
      "text/plain": [
       "\n",
       " A  C  D  E  F  G  H  I  L  N  S  T  V  W  Y \n",
       "23  5  9  2  4 17  7  1  2  5 11  6  1  1  6 "
      ]
     },
     "metadata": {},
     "output_type": "display_data"
    },
    {
     "name": "stdout",
     "output_type": "stream",
     "text": [
      "[1] \"*****************************\"\n",
      "[1] \"*****************************\"\n",
      "[1] \"The number of replaced amino acids that were removed in the event of a mutation among the bottom 100 ddg_score values\"\n"
     ]
    },
    {
     "data": {
      "text/plain": [
       "\n",
       " C  D  E  G  I  K  L  M  N  P  Q  R  T  Y \n",
       " 1  3 13  1  4  7 20  7  3  8  9 14  1  9 "
      ]
     },
     "metadata": {},
     "output_type": "display_data"
    },
    {
     "data": {
      "text/html": [
       "<table class=\"dataframe\">\n",
       "<caption>A tibble: 8 × 11</caption>\n",
       "<thead>\n",
       "\t<tr><th scope=col>type</th><th scope=col>residue_number</th><th scope=col>previous_aa</th><th scope=col>new_aa_1l</th><th scope=col>fa_score</th><th scope=col>ddg_score</th><th scope=col>hbond_score</th><th scope=col>sasa_score</th><th scope=col>diff_hbonds</th><th scope=col>diff_sasa</th><th scope=col>diff_secondary_structure</th></tr>\n",
       "\t<tr><th scope=col>&lt;chr&gt;</th><th scope=col>&lt;dbl&gt;</th><th scope=col>&lt;chr&gt;</th><th scope=col>&lt;chr&gt;</th><th scope=col>&lt;dbl&gt;</th><th scope=col>&lt;dbl&gt;</th><th scope=col>&lt;dbl&gt;</th><th scope=col>&lt;dbl&gt;</th><th scope=col>&lt;dbl&gt;</th><th scope=col>&lt;dbl&gt;</th><th scope=col>&lt;dbl&gt;</th></tr>\n",
       "</thead>\n",
       "<tbody>\n",
       "\t<tr><td>mutant</td><td>26</td><td>L</td><td>A</td><td>102.0486</td><td>-20.82702</td><td>98</td><td>12010.37</td><td>0</td><td>-40.594481</td><td>0</td></tr>\n",
       "\t<tr><td>mutant</td><td>26</td><td>L</td><td>G</td><td>104.3972</td><td>-18.47841</td><td>98</td><td>12005.58</td><td>0</td><td>-45.383114</td><td>0</td></tr>\n",
       "\t<tr><td>mutant</td><td>83</td><td>L</td><td>A</td><td>105.3130</td><td>-17.56261</td><td>98</td><td>12027.04</td><td>0</td><td>-23.920505</td><td>0</td></tr>\n",
       "\t<tr><td>mutant</td><td>83</td><td>L</td><td>G</td><td>107.0129</td><td>-15.86274</td><td>98</td><td>12012.08</td><td>0</td><td>-38.884935</td><td>0</td></tr>\n",
       "\t<tr><td>mutant</td><td>24</td><td>D</td><td>G</td><td>108.3001</td><td>-14.57544</td><td>98</td><td>12009.52</td><td>0</td><td>-41.441354</td><td>0</td></tr>\n",
       "\t<tr><td>mutant</td><td>26</td><td>L</td><td>N</td><td>109.3142</td><td>-13.56141</td><td>98</td><td>12041.31</td><td>0</td><td> -9.656123</td><td>0</td></tr>\n",
       "\t<tr><td>mutant</td><td>39</td><td>Y</td><td>A</td><td>109.3266</td><td>-13.54894</td><td>98</td><td>11978.51</td><td>0</td><td>-72.451867</td><td>0</td></tr>\n",
       "\t<tr><td>mutant</td><td>39</td><td>Y</td><td>G</td><td>110.4653</td><td>-12.41033</td><td>98</td><td>11963.45</td><td>0</td><td>-87.510010</td><td>0</td></tr>\n",
       "</tbody>\n",
       "</table>\n"
      ],
      "text/latex": [
       "A tibble: 8 × 11\n",
       "\\begin{tabular}{lllllllllll}\n",
       " type & residue\\_number & previous\\_aa & new\\_aa\\_1l & fa\\_score & ddg\\_score & hbond\\_score & sasa\\_score & diff\\_hbonds & diff\\_sasa & diff\\_secondary\\_structure\\\\\n",
       " <chr> & <dbl> & <chr> & <chr> & <dbl> & <dbl> & <dbl> & <dbl> & <dbl> & <dbl> & <dbl>\\\\\n",
       "\\hline\n",
       "\t mutant & 26 & L & A & 102.0486 & -20.82702 & 98 & 12010.37 & 0 & -40.594481 & 0\\\\\n",
       "\t mutant & 26 & L & G & 104.3972 & -18.47841 & 98 & 12005.58 & 0 & -45.383114 & 0\\\\\n",
       "\t mutant & 83 & L & A & 105.3130 & -17.56261 & 98 & 12027.04 & 0 & -23.920505 & 0\\\\\n",
       "\t mutant & 83 & L & G & 107.0129 & -15.86274 & 98 & 12012.08 & 0 & -38.884935 & 0\\\\\n",
       "\t mutant & 24 & D & G & 108.3001 & -14.57544 & 98 & 12009.52 & 0 & -41.441354 & 0\\\\\n",
       "\t mutant & 26 & L & N & 109.3142 & -13.56141 & 98 & 12041.31 & 0 &  -9.656123 & 0\\\\\n",
       "\t mutant & 39 & Y & A & 109.3266 & -13.54894 & 98 & 11978.51 & 0 & -72.451867 & 0\\\\\n",
       "\t mutant & 39 & Y & G & 110.4653 & -12.41033 & 98 & 11963.45 & 0 & -87.510010 & 0\\\\\n",
       "\\end{tabular}\n"
      ],
      "text/markdown": [
       "\n",
       "A tibble: 8 × 11\n",
       "\n",
       "| type &lt;chr&gt; | residue_number &lt;dbl&gt; | previous_aa &lt;chr&gt; | new_aa_1l &lt;chr&gt; | fa_score &lt;dbl&gt; | ddg_score &lt;dbl&gt; | hbond_score &lt;dbl&gt; | sasa_score &lt;dbl&gt; | diff_hbonds &lt;dbl&gt; | diff_sasa &lt;dbl&gt; | diff_secondary_structure &lt;dbl&gt; |\n",
       "|---|---|---|---|---|---|---|---|---|---|---|\n",
       "| mutant | 26 | L | A | 102.0486 | -20.82702 | 98 | 12010.37 | 0 | -40.594481 | 0 |\n",
       "| mutant | 26 | L | G | 104.3972 | -18.47841 | 98 | 12005.58 | 0 | -45.383114 | 0 |\n",
       "| mutant | 83 | L | A | 105.3130 | -17.56261 | 98 | 12027.04 | 0 | -23.920505 | 0 |\n",
       "| mutant | 83 | L | G | 107.0129 | -15.86274 | 98 | 12012.08 | 0 | -38.884935 | 0 |\n",
       "| mutant | 24 | D | G | 108.3001 | -14.57544 | 98 | 12009.52 | 0 | -41.441354 | 0 |\n",
       "| mutant | 26 | L | N | 109.3142 | -13.56141 | 98 | 12041.31 | 0 |  -9.656123 | 0 |\n",
       "| mutant | 39 | Y | A | 109.3266 | -13.54894 | 98 | 11978.51 | 0 | -72.451867 | 0 |\n",
       "| mutant | 39 | Y | G | 110.4653 | -12.41033 | 98 | 11963.45 | 0 | -87.510010 | 0 |\n",
       "\n"
      ],
      "text/plain": [
       "  type   residue_number previous_aa new_aa_1l fa_score ddg_score hbond_score\n",
       "1 mutant 26             L           A         102.0486 -20.82702 98         \n",
       "2 mutant 26             L           G         104.3972 -18.47841 98         \n",
       "3 mutant 83             L           A         105.3130 -17.56261 98         \n",
       "4 mutant 83             L           G         107.0129 -15.86274 98         \n",
       "5 mutant 24             D           G         108.3001 -14.57544 98         \n",
       "6 mutant 26             L           N         109.3142 -13.56141 98         \n",
       "7 mutant 39             Y           A         109.3266 -13.54894 98         \n",
       "8 mutant 39             Y           G         110.4653 -12.41033 98         \n",
       "  sasa_score diff_hbonds diff_sasa  diff_secondary_structure\n",
       "1 12010.37   0           -40.594481 0                       \n",
       "2 12005.58   0           -45.383114 0                       \n",
       "3 12027.04   0           -23.920505 0                       \n",
       "4 12012.08   0           -38.884935 0                       \n",
       "5 12009.52   0           -41.441354 0                       \n",
       "6 12041.31   0            -9.656123 0                       \n",
       "7 11978.51   0           -72.451867 0                       \n",
       "8 11963.45   0           -87.510010 0                       "
      ]
     },
     "metadata": {},
     "output_type": "display_data"
    }
   ],
   "source": [
    "bottom_ddg <- il_10_short |> arrange(ddg_score)\n",
    "print(\"*****************************\")\n",
    "print(\"The table below shows the number of new amino acids that were added the mutated position among the bottom 100 values of delta delta g\")\n",
    "table((bottom_ddg |> head(n = 100))$new_aa_1l)\n",
    "print(\"*****************************\")\n",
    "print(\"*****************************\")\n",
    "print(\"The number of replaced amino acids that were removed in the event of a mutation among the bottom 100 ddg_score values\")\n",
    "table((bottom_ddg |> head(n = 100))$previous_aa)\n",
    "\n",
    "bottom_ddg |> head(n = 8)"
   ]
  },
  {
   "cell_type": "markdown",
   "id": "de148cf5-a106-4bb1-9ef1-3f0b68ef2481",
   "metadata": {},
   "source": [
    "## Analysis on the Solvent Accessible Surface Area\n",
    "A histogram fort SASA\n",
    "> The histogram has normal distribution as expected"
   ]
  },
  {
   "cell_type": "code",
   "execution_count": 7,
   "id": "68c9baad-8afb-42cb-8f21-0f7b2f347fbb",
   "metadata": {},
   "outputs": [
    {
     "data": {
      "image/png": "[encoded data removed]",
      "text/plain": [
       "plot without title"
      ]
     },
     "metadata": {
      "image/png": {
       "height": 420,
       "width": 420
      }
     },
     "output_type": "display_data"
    }
   ],
   "source": [
    "wildtype_sasa <- (il_10_short |> filter(type == \"wild_type\"))$sasa_score\n",
    "il_10_short |> ggplot(aes(sasa_score)) + \n",
    "    geom_histogram(fill = \"#1DB954\", bins = 30) + \n",
    "    theme(plot.title = element_text(hjust = 0, size = 16, face = \"bold\", color = \"white\"),\n",
    "        axis.title = element_text(size = 14, face = \"bold\", color = \"white\"),\n",
    "        axis.text = element_text(size = 12),\n",
    "        plot.background = element_rect(fill = \"#191919\"),\n",
    "        panel.background = element_blank(),\n",
    "        panel.grid.major.y = element_blank(),\n",
    "        panel.grid.minor.y = element_blank(),\n",
    "        panel.grid.major.x = element_line(color = \"gray90\", linewidth = 0.5),\n",
    "        panel.grid.minor.x = element_blank()) +\n",
    "  ggtitle(\"Histogram of SASA for IL_10\") +\n",
    "  labs(x = \"SASA score\", y = \"count\") +\n",
    "  geom_vline(xintercept = wildtype_sasa, color = \"red\", linewidth = 1.5, linetype = \"dashed\") +\n",
    "  theme(plot.margin = unit(c(1, 1, 1, 0.5), \"cm\"))"
   ]
  },
  {
   "cell_type": "markdown",
   "id": "ee1d9fab-d49a-4293-8468-58150643062d",
   "metadata": {},
   "source": [
    "### A look at the higher range\n",
    "Taking a look at values above `Mean + 2SD`\n",
    "> changing amino acids to W, Y and G respectively seems to increase the SASA value\n",
    "\n",
    "\n",
    "> it seems that all of the top values of SASA have a low ddg_score"
   ]
  },
  {
   "cell_type": "code",
   "execution_count": 20,
   "id": "651741cd-b330-4210-9630-2396580a1a4b",
   "metadata": {},
   "outputs": [
    {
     "data": {
      "text/plain": [
       "\n",
       " A  C  F  G  H  S  W  Y \n",
       " 2  1  5 10  2  1 23 14 "
      ]
     },
     "metadata": {},
     "output_type": "display_data"
    },
    {
     "data": {
      "text/html": [
       "<table class=\"dataframe\">\n",
       "<caption>A tibble: 5 × 11</caption>\n",
       "<thead>\n",
       "\t<tr><th scope=col>type</th><th scope=col>residue_number</th><th scope=col>previous_aa</th><th scope=col>new_aa_1l</th><th scope=col>fa_score</th><th scope=col>ddg_score</th><th scope=col>hbond_score</th><th scope=col>sasa_score</th><th scope=col>diff_hbonds</th><th scope=col>diff_sasa</th><th scope=col>diff_secondary_structure</th></tr>\n",
       "\t<tr><th scope=col>&lt;chr&gt;</th><th scope=col>&lt;dbl&gt;</th><th scope=col>&lt;chr&gt;</th><th scope=col>&lt;chr&gt;</th><th scope=col>&lt;dbl&gt;</th><th scope=col>&lt;dbl&gt;</th><th scope=col>&lt;dbl&gt;</th><th scope=col>&lt;dbl&gt;</th><th scope=col>&lt;dbl&gt;</th><th scope=col>&lt;dbl&gt;</th><th scope=col>&lt;dbl&gt;</th></tr>\n",
       "</thead>\n",
       "<tbody>\n",
       "\t<tr><td>mutant</td><td> 41</td><td>G</td><td>W</td><td>1050.7182</td><td>927.84258</td><td>98</td><td>12104.45</td><td>0</td><td> 53.49092</td><td>0</td></tr>\n",
       "\t<tr><td>mutant</td><td> 58</td><td>P</td><td>W</td><td> 335.1111</td><td>212.23549</td><td>98</td><td>12108.42</td><td>0</td><td> 57.45881</td><td>0</td></tr>\n",
       "\t<tr><td>mutant</td><td> 31</td><td>S</td><td>W</td><td> 176.3310</td><td> 53.45540</td><td>98</td><td>12122.89</td><td>0</td><td> 71.92555</td><td>0</td></tr>\n",
       "\t<tr><td>mutant</td><td>100</td><td>A</td><td>W</td><td> 163.6959</td><td> 40.82029</td><td>98</td><td>12164.21</td><td>0</td><td>113.24504</td><td>0</td></tr>\n",
       "\t<tr><td>mutant</td><td> 69</td><td>A</td><td>W</td><td> 157.4890</td><td> 34.61344</td><td>98</td><td>12113.47</td><td>0</td><td> 62.50334</td><td>0</td></tr>\n",
       "</tbody>\n",
       "</table>\n"
      ],
      "text/latex": [
       "A tibble: 5 × 11\n",
       "\\begin{tabular}{lllllllllll}\n",
       " type & residue\\_number & previous\\_aa & new\\_aa\\_1l & fa\\_score & ddg\\_score & hbond\\_score & sasa\\_score & diff\\_hbonds & diff\\_sasa & diff\\_secondary\\_structure\\\\\n",
       " <chr> & <dbl> & <chr> & <chr> & <dbl> & <dbl> & <dbl> & <dbl> & <dbl> & <dbl> & <dbl>\\\\\n",
       "\\hline\n",
       "\t mutant &  41 & G & W & 1050.7182 & 927.84258 & 98 & 12104.45 & 0 &  53.49092 & 0\\\\\n",
       "\t mutant &  58 & P & W &  335.1111 & 212.23549 & 98 & 12108.42 & 0 &  57.45881 & 0\\\\\n",
       "\t mutant &  31 & S & W &  176.3310 &  53.45540 & 98 & 12122.89 & 0 &  71.92555 & 0\\\\\n",
       "\t mutant & 100 & A & W &  163.6959 &  40.82029 & 98 & 12164.21 & 0 & 113.24504 & 0\\\\\n",
       "\t mutant &  69 & A & W &  157.4890 &  34.61344 & 98 & 12113.47 & 0 &  62.50334 & 0\\\\\n",
       "\\end{tabular}\n"
      ],
      "text/markdown": [
       "\n",
       "A tibble: 5 × 11\n",
       "\n",
       "| type &lt;chr&gt; | residue_number &lt;dbl&gt; | previous_aa &lt;chr&gt; | new_aa_1l &lt;chr&gt; | fa_score &lt;dbl&gt; | ddg_score &lt;dbl&gt; | hbond_score &lt;dbl&gt; | sasa_score &lt;dbl&gt; | diff_hbonds &lt;dbl&gt; | diff_sasa &lt;dbl&gt; | diff_secondary_structure &lt;dbl&gt; |\n",
       "|---|---|---|---|---|---|---|---|---|---|---|\n",
       "| mutant |  41 | G | W | 1050.7182 | 927.84258 | 98 | 12104.45 | 0 |  53.49092 | 0 |\n",
       "| mutant |  58 | P | W |  335.1111 | 212.23549 | 98 | 12108.42 | 0 |  57.45881 | 0 |\n",
       "| mutant |  31 | S | W |  176.3310 |  53.45540 | 98 | 12122.89 | 0 |  71.92555 | 0 |\n",
       "| mutant | 100 | A | W |  163.6959 |  40.82029 | 98 | 12164.21 | 0 | 113.24504 | 0 |\n",
       "| mutant |  69 | A | W |  157.4890 |  34.61344 | 98 | 12113.47 | 0 |  62.50334 | 0 |\n",
       "\n"
      ],
      "text/plain": [
       "  type   residue_number previous_aa new_aa_1l fa_score  ddg_score hbond_score\n",
       "1 mutant  41            G           W         1050.7182 927.84258 98         \n",
       "2 mutant  58            P           W          335.1111 212.23549 98         \n",
       "3 mutant  31            S           W          176.3310  53.45540 98         \n",
       "4 mutant 100            A           W          163.6959  40.82029 98         \n",
       "5 mutant  69            A           W          157.4890  34.61344 98         \n",
       "  sasa_score diff_hbonds diff_sasa diff_secondary_structure\n",
       "1 12104.45   0            53.49092 0                       \n",
       "2 12108.42   0            57.45881 0                       \n",
       "3 12122.89   0            71.92555 0                       \n",
       "4 12164.21   0           113.24504 0                       \n",
       "5 12113.47   0            62.50334 0                       "
      ]
     },
     "metadata": {},
     "output_type": "display_data"
    }
   ],
   "source": [
    "mean_sasa <- mean(il_10_short$sasa_score)\n",
    "sd_sasa <- sd(il_10_short$sasa_score)\n",
    "\n",
    "high_sasa <- filter(il_10_short, sasa_score > mean_sasa + 2 * sd_sasa)\n",
    "table(high_sasa$new_aa_1l)\n",
    "high_sasa |> arrange(desc(ddg_score)) |> head(5)"
   ]
  },
  {
   "cell_type": "code",
   "execution_count": null,
   "id": "c65fde1d-187b-4967-aab9-fa66e5dc719f",
   "metadata": {},
   "outputs": [],
   "source": []
  }
 ],
 "metadata": {
  "kernelspec": {
   "display_name": "R",
   "language": "R",
   "name": "ir"
  },
  "language_info": {
   "codemirror_mode": "r",
   "file_extension": ".r",
   "mimetype": "text/x-r-source",
   "name": "R",
   "pygments_lexer": "r",
   "version": "4.3.0"
  }
 },
 "nbformat": 4,
 "nbformat_minor": 5
}
